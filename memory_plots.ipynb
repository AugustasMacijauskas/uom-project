{
 "cells": [
  {
   "cell_type": "code",
   "execution_count": 1,
   "metadata": {},
   "outputs": [],
   "source": [
    "import pandas as pd\n",
    "import matplotlib.pyplot as plt\n",
    "import numpy as np"
   ]
  },
  {
   "cell_type": "code",
   "execution_count": 19,
   "metadata": {},
   "outputs": [
    {
     "name": "stderr",
     "output_type": "stream",
     "text": [
      "<ipython-input-19-858eca9aa988>:1: ParserWarning: Falling back to the 'python' engine because the 'c' engine does not support regex separators (separators > 1 char and different from '\\s+' are interpreted as regex); you can avoid this warning by specifying engine='python'.\n",
      "  df_gs = pd.read_csv(\"outputs/memory_manual_2/gs_manual_2.txt\", sep=\", \")\n",
      "<ipython-input-19-858eca9aa988>:2: ParserWarning: Falling back to the 'python' engine because the 'c' engine does not support regex separators (separators > 1 char and different from '\\s+' are interpreted as regex); you can avoid this warning by specifying engine='python'.\n",
      "  df_dense = pd.read_csv(\"outputs/memory_manual_2/dense_manual_2_new.txt\", sep=\", \")\n",
      "<ipython-input-19-858eca9aa988>:3: ParserWarning: Falling back to the 'python' engine because the 'c' engine does not support regex separators (separators > 1 char and different from '\\s+' are interpreted as regex); you can avoid this warning by specifying engine='python'.\n",
      "  df_sparse = pd.read_csv(\"outputs/memory_manual_2/sparse_manual_2_new.txt\", sep=\", \")\n",
      "<ipython-input-19-858eca9aa988>:4: ParserWarning: Falling back to the 'python' engine because the 'c' engine does not support regex separators (separators > 1 char and different from '\\s+' are interpreted as regex); you can avoid this warning by specifying engine='python'.\n",
      "  df_newton = pd.read_csv(\"outputs/memory_manual_2/newton_manual_2.txt\", sep=\", \")\n"
     ]
    }
   ],
   "source": [
    "df_gs = pd.read_csv(\"outputs/memory_manual_2/gs_manual_2.txt\", sep=\", \")\n",
    "df_dense = pd.read_csv(\"outputs/memory_manual_2/dense_manual_2_new.txt\", sep=\", \")\n",
    "df_sparse = pd.read_csv(\"outputs/memory_manual_2/sparse_manual_2_new.txt\", sep=\", \")\n",
    "df_newton = pd.read_csv(\"outputs/memory_manual_2/newton_manual_2.txt\", sep=\", \")"
   ]
  },
  {
   "cell_type": "code",
   "execution_count": 20,
   "metadata": {},
   "outputs": [
    {
     "data": {
      "text/plain": [
       "Index(['N', 'start', 'end'], dtype='object')"
      ]
     },
     "execution_count": 20,
     "metadata": {},
     "output_type": "execute_result"
    }
   ],
   "source": [
    "df_gs.columns"
   ]
  },
  {
   "cell_type": "code",
   "execution_count": 21,
   "metadata": {},
   "outputs": [],
   "source": [
    "df_gs[\"memory\"] = df_gs[\"end\"] - df_gs[\"start\"]\n",
    "df_dense[\"memory\"] = df_dense[\"end\"] - df_dense[\"start\"]\n",
    "df_sparse[\"memory\"] = df_sparse[\"end\"] - df_sparse[\"start\"]\n",
    "df_newton[\"memory\"] = df_newton[\"end\"] - df_newton[\"start\"]"
   ]
  },
  {
   "cell_type": "code",
   "execution_count": 22,
   "metadata": {},
   "outputs": [
    {
     "data": {
      "text/html": [
       "<div>\n",
       "<style scoped>\n",
       "    .dataframe tbody tr th:only-of-type {\n",
       "        vertical-align: middle;\n",
       "    }\n",
       "\n",
       "    .dataframe tbody tr th {\n",
       "        vertical-align: top;\n",
       "    }\n",
       "\n",
       "    .dataframe thead th {\n",
       "        text-align: right;\n",
       "    }\n",
       "</style>\n",
       "<table border=\"1\" class=\"dataframe\">\n",
       "  <thead>\n",
       "    <tr style=\"text-align: right;\">\n",
       "      <th></th>\n",
       "      <th>N</th>\n",
       "      <th>start</th>\n",
       "      <th>end</th>\n",
       "      <th>memory</th>\n",
       "    </tr>\n",
       "  </thead>\n",
       "  <tbody>\n",
       "    <tr>\n",
       "      <th>0</th>\n",
       "      <td>7</td>\n",
       "      <td>110.964844</td>\n",
       "      <td>111.921875</td>\n",
       "      <td>0.957031</td>\n",
       "    </tr>\n",
       "    <tr>\n",
       "      <th>1</th>\n",
       "      <td>14</td>\n",
       "      <td>110.832031</td>\n",
       "      <td>111.812500</td>\n",
       "      <td>0.980469</td>\n",
       "    </tr>\n",
       "    <tr>\n",
       "      <th>2</th>\n",
       "      <td>28</td>\n",
       "      <td>111.464844</td>\n",
       "      <td>112.679688</td>\n",
       "      <td>1.214844</td>\n",
       "    </tr>\n",
       "    <tr>\n",
       "      <th>3</th>\n",
       "      <td>56</td>\n",
       "      <td>113.152344</td>\n",
       "      <td>116.984375</td>\n",
       "      <td>3.832031</td>\n",
       "    </tr>\n",
       "    <tr>\n",
       "      <th>4</th>\n",
       "      <td>84</td>\n",
       "      <td>115.937500</td>\n",
       "      <td>122.542969</td>\n",
       "      <td>6.605469</td>\n",
       "    </tr>\n",
       "    <tr>\n",
       "      <th>5</th>\n",
       "      <td>112</td>\n",
       "      <td>119.875000</td>\n",
       "      <td>133.765625</td>\n",
       "      <td>13.890625</td>\n",
       "    </tr>\n",
       "    <tr>\n",
       "      <th>6</th>\n",
       "      <td>224</td>\n",
       "      <td>147.734375</td>\n",
       "      <td>212.500000</td>\n",
       "      <td>64.765625</td>\n",
       "    </tr>\n",
       "    <tr>\n",
       "      <th>7</th>\n",
       "      <td>336</td>\n",
       "      <td>193.566406</td>\n",
       "      <td>357.113281</td>\n",
       "      <td>163.546875</td>\n",
       "    </tr>\n",
       "    <tr>\n",
       "      <th>8</th>\n",
       "      <td>448</td>\n",
       "      <td>259.429688</td>\n",
       "      <td>563.566406</td>\n",
       "      <td>304.136719</td>\n",
       "    </tr>\n",
       "  </tbody>\n",
       "</table>\n",
       "</div>"
      ],
      "text/plain": [
       "     N       start         end      memory\n",
       "0    7  110.964844  111.921875    0.957031\n",
       "1   14  110.832031  111.812500    0.980469\n",
       "2   28  111.464844  112.679688    1.214844\n",
       "3   56  113.152344  116.984375    3.832031\n",
       "4   84  115.937500  122.542969    6.605469\n",
       "5  112  119.875000  133.765625   13.890625\n",
       "6  224  147.734375  212.500000   64.765625\n",
       "7  336  193.566406  357.113281  163.546875\n",
       "8  448  259.429688  563.566406  304.136719"
      ]
     },
     "execution_count": 22,
     "metadata": {},
     "output_type": "execute_result"
    }
   ],
   "source": [
    "df_sparse"
   ]
  },
  {
   "cell_type": "code",
   "execution_count": 23,
   "metadata": {},
   "outputs": [
    {
     "name": "stdout",
     "output_type": "stream",
     "text": [
      "<class 'pandas.core.frame.DataFrame'>\n",
      "RangeIndex: 9 entries, 0 to 8\n",
      "Data columns (total 4 columns):\n",
      " #   Column  Non-Null Count  Dtype  \n",
      "---  ------  --------------  -----  \n",
      " 0   N       9 non-null      int64  \n",
      " 1   start   9 non-null      float64\n",
      " 2   end     9 non-null      float64\n",
      " 3   memory  9 non-null      float64\n",
      "dtypes: float64(3), int64(1)\n",
      "memory usage: 416.0 bytes\n"
     ]
    }
   ],
   "source": [
    "df_sparse.info()"
   ]
  },
  {
   "cell_type": "markdown",
   "metadata": {},
   "source": [
    "# Plots"
   ]
  },
  {
   "cell_type": "code",
   "execution_count": 25,
   "metadata": {},
   "outputs": [
    {
     "data": {
      "image/png": "[encoded data removed]",
      "text/plain": [
       "<Figure size 432x288 with 1 Axes>"
      ]
     },
     "metadata": {
      "needs_background": "light"
     },
     "output_type": "display_data"
    }
   ],
   "source": [
    "plt.plot(df_gs[\"N\"], df_gs[\"memory\"], label=\"gs\", marker=\"o\")\n",
    "\n",
    "plt.title(\"Gauss-Seidel SOR\")\n",
    "plt.xlabel(\"N\")\n",
    "plt.ylabel(\"memory (MB)\")\n",
    "plt.legend()\n",
    "# plt.xscale(\"log\")\n",
    "plt.show()"
   ]
  },
  {
   "cell_type": "code",
   "execution_count": 26,
   "metadata": {},
   "outputs": [
    {
     "data": {
      "image/png": "[encoded data removed]",
      "text/plain": [
       "<Figure size 432x288 with 1 Axes>"
      ]
     },
     "metadata": {
      "needs_background": "light"
     },
     "output_type": "display_data"
    }
   ],
   "source": [
    "plt.plot(df_sparse[\"N\"]**2, df_sparse[\"memory\"], label=\"sparse\", marker=\"o\")\n",
    "\n",
    "plt.title(\"Sparse\")\n",
    "plt.xlabel(\"N^2\")\n",
    "plt.ylabel(\"memory (MB)\")\n",
    "plt.legend()\n",
    "# plt.xscale(\"log\")\n",
    "plt.show()"
   ]
  },
  {
   "cell_type": "code",
   "execution_count": 35,
   "metadata": {},
   "outputs": [
    {
     "data": {
      "image/png": "[encoded data removed]",
      "text/plain": [
       "<Figure size 432x288 with 1 Axes>"
      ]
     },
     "metadata": {
      "needs_background": "light"
     },
     "output_type": "display_data"
    }
   ],
   "source": [
    "plt.plot(df_newton[\"N\"]**2, df_newton[\"memory\"], label=\"newton\", marker=\"o\")\n",
    "\n",
    "plt.title(\"Newton\")\n",
    "plt.xlabel(\"N^2\")\n",
    "plt.ylabel(\"memory (MB)\")\n",
    "plt.legend()\n",
    "# plt.xscale(\"log\")\n",
    "plt.show()"
   ]
  },
  {
   "cell_type": "code",
   "execution_count": 36,
   "metadata": {},
   "outputs": [
    {
     "data": {
      "image/png": "[encoded data removed]",
      "text/plain": [
       "<Figure size 432x288 with 1 Axes>"
      ]
     },
     "metadata": {
      "needs_background": "light"
     },
     "output_type": "display_data"
    }
   ],
   "source": [
    "plt.plot(df_dense[\"N\"]**4, df_dense[\"memory\"], label=\"dense\", marker=\"o\")\n",
    "\n",
    "plt.title(\"Dense\")\n",
    "plt.xlabel(\"N^4\")\n",
    "plt.ylabel(\"memory (MB)\")\n",
    "plt.legend()\n",
    "# plt.xscale(\"log\")\n",
    "plt.show()"
   ]
  },
  {
   "cell_type": "markdown",
   "metadata": {},
   "source": [
    "# Manual check"
   ]
  },
  {
   "cell_type": "markdown",
   "metadata": {},
   "source": [
    "## Direct"
   ]
  },
  {
   "cell_type": "code",
   "execution_count": 7,
   "metadata": {},
   "outputs": [
    {
     "data": {
      "text/html": [
       "<div>\n",
       "<style scoped>\n",
       "    .dataframe tbody tr th:only-of-type {\n",
       "        vertical-align: middle;\n",
       "    }\n",
       "\n",
       "    .dataframe tbody tr th {\n",
       "        vertical-align: top;\n",
       "    }\n",
       "\n",
       "    .dataframe thead th {\n",
       "        text-align: right;\n",
       "    }\n",
       "</style>\n",
       "<table border=\"1\" class=\"dataframe\">\n",
       "  <thead>\n",
       "    <tr style=\"text-align: right;\">\n",
       "      <th></th>\n",
       "      <th>N</th>\n",
       "      <th>start</th>\n",
       "      <th>end</th>\n",
       "    </tr>\n",
       "  </thead>\n",
       "  <tbody>\n",
       "    <tr>\n",
       "      <th>0</th>\n",
       "      <td>7</td>\n",
       "      <td>110.996094</td>\n",
       "      <td>111.785156</td>\n",
       "    </tr>\n",
       "    <tr>\n",
       "      <th>1</th>\n",
       "      <td>14</td>\n",
       "      <td>110.886719</td>\n",
       "      <td>112.523438</td>\n",
       "    </tr>\n",
       "    <tr>\n",
       "      <th>2</th>\n",
       "      <td>28</td>\n",
       "      <td>110.417969</td>\n",
       "      <td>124.957031</td>\n",
       "    </tr>\n",
       "    <tr>\n",
       "      <th>3</th>\n",
       "      <td>56</td>\n",
       "      <td>110.738281</td>\n",
       "      <td>276.089844</td>\n",
       "    </tr>\n",
       "    <tr>\n",
       "      <th>4</th>\n",
       "      <td>84</td>\n",
       "      <td>110.703125</td>\n",
       "      <td>889.300781</td>\n",
       "    </tr>\n",
       "    <tr>\n",
       "      <th>5</th>\n",
       "      <td>112</td>\n",
       "      <td>111.164062</td>\n",
       "      <td>2518.101562</td>\n",
       "    </tr>\n",
       "  </tbody>\n",
       "</table>\n",
       "</div>"
      ],
      "text/plain": [
       "     N       start          end\n",
       "0    7  110.996094   111.785156\n",
       "1   14  110.886719   112.523438\n",
       "2   28  110.417969   124.957031\n",
       "3   56  110.738281   276.089844\n",
       "4   84  110.703125   889.300781\n",
       "5  112  111.164062  2518.101562"
      ]
     },
     "execution_count": 7,
     "metadata": {},
     "output_type": "execute_result"
    }
   ],
   "source": [
    "df_direct = pd.read_csv(\"outputs/memory_manual/direct_manual.txt\", sep=\", \", engine=\"python\")\n",
    "df_direct"
   ]
  },
  {
   "cell_type": "code",
   "execution_count": 8,
   "metadata": {},
   "outputs": [
    {
     "data": {
      "image/png": "[encoded data removed]",
      "text/plain": [
       "<Figure size 432x288 with 1 Axes>"
      ]
     },
     "metadata": {
      "needs_background": "light"
     },
     "output_type": "display_data"
    }
   ],
   "source": [
    "plt.plot(df_direct[\"N\"]**4, df_direct[\"end\"], label=\"direct\", marker=\"o\")\n",
    "\n",
    "plt.title(\"Direct\")\n",
    "plt.xlabel(\"N^3\")\n",
    "plt.ylabel(\"memory (MB)\")\n",
    "plt.legend()\n",
    "# plt.xscale(\"log\")\n",
    "plt.show()"
   ]
  },
  {
   "cell_type": "code",
   "execution_count": 9,
   "metadata": {},
   "outputs": [
    {
     "data": {
      "image/png": "[encoded data removed]",
      "text/plain": [
       "<Figure size 432x288 with 1 Axes>"
      ]
     },
     "metadata": {
      "needs_background": "light"
     },
     "output_type": "display_data"
    }
   ],
   "source": [
    "plt.plot(df_direct[\"N\"]**4, df_direct[\"end\"] - df_direct[\"start\"], label=\"direct\", marker=\"o\")\n",
    "\n",
    "plt.title(\"Direct\")\n",
    "plt.xlabel(\"N^4\")\n",
    "plt.ylabel(\"memory (MB)\")\n",
    "plt.legend()\n",
    "# plt.xscale(\"log\")\n",
    "plt.show()"
   ]
  },
  {
   "cell_type": "code",
   "execution_count": 10,
   "metadata": {},
   "outputs": [
    {
     "data": {
      "image/png": "[encoded data removed]",
      "text/plain": [
       "<Figure size 432x288 with 1 Axes>"
      ]
     },
     "metadata": {
      "needs_background": "light"
     },
     "output_type": "display_data"
    }
   ],
   "source": [
    "plt.plot(df_direct[\"N\"]**2, df_direct[\"end\"] - df_direct[\"start\"], label=\"direct\", marker=\"o\")\n",
    "\n",
    "plt.title(\"Direct\")\n",
    "plt.xlabel(\"N^2\")\n",
    "plt.ylabel(\"memory (MB)\")\n",
    "plt.legend()\n",
    "# plt.xscale(\"log\")\n",
    "plt.show()"
   ]
  },
  {
   "cell_type": "code",
   "execution_count": 11,
   "metadata": {},
   "outputs": [
    {
     "data": {
      "text/plain": [
       "(array([1.52752947e-05, 7.25063709e+00]),\n",
       " array([[ 3.59773136e-15, -1.30495138e-07],\n",
       "        [-1.30495138e-07,  1.63909567e+01]]))"
      ]
     },
     "execution_count": 11,
     "metadata": {},
     "output_type": "execute_result"
    }
   ],
   "source": [
    "coeffs, error = np.polyfit(x=df_direct[\"N\"] ** 4, y=df_direct[\"end\"] - df_direct[\"start\"], deg=1, cov=True)\n",
    "coeffs, error"
   ]
  },
  {
   "cell_type": "code",
   "execution_count": 12,
   "metadata": {},
   "outputs": [
    {
     "data": {
      "image/png": "[encoded data removed]",
      "text/plain": [
       "<Figure size 432x288 with 1 Axes>"
      ]
     },
     "metadata": {
      "needs_background": "light"
     },
     "output_type": "display_data"
    }
   ],
   "source": [
    "plt.plot(df_direct[\"N\"]**4, df_direct[\"end\"] - df_direct[\"start\"], label=\"direct\", marker=\"o\")\n",
    "x = np.linspace(7, np.max(df_direct[\"N\"]) ** 4+1, 100)\n",
    "plt.plot(x, np.polyval(coeffs, x))\n",
    "\n",
    "plt.title(\"Direct\")\n",
    "plt.xlabel(\"N\")\n",
    "plt.ylabel(\"memory (MB)\")\n",
    "plt.legend()\n",
    "# plt.xscale(\"log\")\n",
    "plt.show()"
   ]
  },
  {
   "cell_type": "code",
   "execution_count": 13,
   "metadata": {},
   "outputs": [
    {
     "data": {
      "text/plain": [
       "(array([1.48392826e-05, 5.67218077e-03, 5.98891945e-01]),\n",
       " array([[ 5.77495528e-16, -6.98821423e-12,  6.73251885e-09],\n",
       "        [-6.98821423e-12,  9.09112619e-08, -1.06611296e-04],\n",
       "        [ 6.73251885e-09, -1.06611296e-04,  3.08725514e-01]]))"
      ]
     },
     "execution_count": 13,
     "metadata": {},
     "output_type": "execute_result"
    }
   ],
   "source": [
    "coeffs, error = np.polyfit(x=df_direct[\"N\"] ** 2, y=df_direct[\"end\"] - df_direct[\"start\"], deg=2, cov=True)\n",
    "coeffs, error"
   ]
  },
  {
   "cell_type": "code",
   "execution_count": 14,
   "metadata": {
    "scrolled": true
   },
   "outputs": [
    {
     "data": {
      "image/png": "[encoded data removed]",
      "text/plain": [
       "<Figure size 432x288 with 1 Axes>"
      ]
     },
     "metadata": {
      "needs_background": "light"
     },
     "output_type": "display_data"
    }
   ],
   "source": [
    "plt.plot(df_direct[\"N\"]**2, df_direct[\"end\"] - df_direct[\"start\"], label=\"direct\", marker=\"o\")\n",
    "x = np.linspace(7, np.max(df_direct[\"N\"]) ** 2 + 1, 100)\n",
    "plt.plot(x, np.polyval(coeffs, x))\n",
    "\n",
    "plt.title(\"Direct\")\n",
    "plt.xlabel(\"N^2\")\n",
    "plt.ylabel(\"memory (MB)\")\n",
    "plt.legend()\n",
    "# plt.xscale(\"log\")\n",
    "plt.show()"
   ]
  },
  {
   "cell_type": "markdown",
   "metadata": {},
   "source": [
    "Quadratic in N^2 => linear in N^4"
   ]
  },
  {
   "cell_type": "markdown",
   "metadata": {},
   "source": [
    "## GS"
   ]
  },
  {
   "cell_type": "code",
   "execution_count": 15,
   "metadata": {},
   "outputs": [
    {
     "data": {
      "text/html": [
       "<div>\n",
       "<style scoped>\n",
       "    .dataframe tbody tr th:only-of-type {\n",
       "        vertical-align: middle;\n",
       "    }\n",
       "\n",
       "    .dataframe tbody tr th {\n",
       "        vertical-align: top;\n",
       "    }\n",
       "\n",
       "    .dataframe thead th {\n",
       "        text-align: right;\n",
       "    }\n",
       "</style>\n",
       "<table border=\"1\" class=\"dataframe\">\n",
       "  <thead>\n",
       "    <tr style=\"text-align: right;\">\n",
       "      <th></th>\n",
       "      <th>N</th>\n",
       "      <th>start</th>\n",
       "      <th>end</th>\n",
       "    </tr>\n",
       "  </thead>\n",
       "  <tbody>\n",
       "    <tr>\n",
       "      <th>0</th>\n",
       "      <td>7</td>\n",
       "      <td>110.320312</td>\n",
       "      <td>110.488281</td>\n",
       "    </tr>\n",
       "    <tr>\n",
       "      <th>1</th>\n",
       "      <td>14</td>\n",
       "      <td>110.613281</td>\n",
       "      <td>110.863281</td>\n",
       "    </tr>\n",
       "    <tr>\n",
       "      <th>2</th>\n",
       "      <td>28</td>\n",
       "      <td>110.683594</td>\n",
       "      <td>110.871094</td>\n",
       "    </tr>\n",
       "    <tr>\n",
       "      <th>3</th>\n",
       "      <td>56</td>\n",
       "      <td>111.015625</td>\n",
       "      <td>111.187500</td>\n",
       "    </tr>\n",
       "    <tr>\n",
       "      <th>4</th>\n",
       "      <td>112</td>\n",
       "      <td>110.539062</td>\n",
       "      <td>110.699219</td>\n",
       "    </tr>\n",
       "  </tbody>\n",
       "</table>\n",
       "</div>"
      ],
      "text/plain": [
       "     N       start         end\n",
       "0    7  110.320312  110.488281\n",
       "1   14  110.613281  110.863281\n",
       "2   28  110.683594  110.871094\n",
       "3   56  111.015625  111.187500\n",
       "4  112  110.539062  110.699219"
      ]
     },
     "execution_count": 15,
     "metadata": {},
     "output_type": "execute_result"
    }
   ],
   "source": [
    "df_gs = pd.read_csv(\"outputs/memory_manual/gs_manual.txt\", sep=\", \", engine=\"python\")\n",
    "df_gs"
   ]
  },
  {
   "cell_type": "code",
   "execution_count": 24,
   "metadata": {},
   "outputs": [
    {
     "data": {
      "image/png": "[encoded data removed]",
      "text/plain": [
       "<Figure size 432x288 with 1 Axes>"
      ]
     },
     "metadata": {
      "needs_background": "light"
     },
     "output_type": "display_data"
    }
   ],
   "source": [
    "plt.plot(df_gs[\"N\"], df_gs[\"end\"] - df_gs[\"start\"], label=\"gs\", marker=\"o\")\n",
    "plt.axhline(y=0.26, linestyle=\"--\", color=\"black\")\n",
    "\n",
    "plt.title(\"GS\")\n",
    "plt.xlabel(\"N\")\n",
    "plt.ylabel(\"memory (MB)\")\n",
    "plt.legend()\n",
    "# plt.xscale(\"log\")\n",
    "plt.show()"
   ]
  },
  {
   "cell_type": "markdown",
   "metadata": {},
   "source": [
    "## Sparse"
   ]
  },
  {
   "cell_type": "code",
   "execution_count": 17,
   "metadata": {},
   "outputs": [
    {
     "data": {
      "text/html": [
       "<div>\n",
       "<style scoped>\n",
       "    .dataframe tbody tr th:only-of-type {\n",
       "        vertical-align: middle;\n",
       "    }\n",
       "\n",
       "    .dataframe tbody tr th {\n",
       "        vertical-align: top;\n",
       "    }\n",
       "\n",
       "    .dataframe thead th {\n",
       "        text-align: right;\n",
       "    }\n",
       "</style>\n",
       "<table border=\"1\" class=\"dataframe\">\n",
       "  <thead>\n",
       "    <tr style=\"text-align: right;\">\n",
       "      <th></th>\n",
       "      <th>N</th>\n",
       "      <th>start</th>\n",
       "      <th>end</th>\n",
       "    </tr>\n",
       "  </thead>\n",
       "  <tbody>\n",
       "    <tr>\n",
       "      <th>0</th>\n",
       "      <td>7</td>\n",
       "      <td>110.781250</td>\n",
       "      <td>111.937500</td>\n",
       "    </tr>\n",
       "    <tr>\n",
       "      <th>1</th>\n",
       "      <td>14</td>\n",
       "      <td>110.472656</td>\n",
       "      <td>111.695312</td>\n",
       "    </tr>\n",
       "    <tr>\n",
       "      <th>2</th>\n",
       "      <td>28</td>\n",
       "      <td>110.757812</td>\n",
       "      <td>112.535156</td>\n",
       "    </tr>\n",
       "    <tr>\n",
       "      <th>3</th>\n",
       "      <td>56</td>\n",
       "      <td>110.734375</td>\n",
       "      <td>116.261719</td>\n",
       "    </tr>\n",
       "    <tr>\n",
       "      <th>4</th>\n",
       "      <td>112</td>\n",
       "      <td>111.449219</td>\n",
       "      <td>134.480469</td>\n",
       "    </tr>\n",
       "    <tr>\n",
       "      <th>5</th>\n",
       "      <td>224</td>\n",
       "      <td>111.968750</td>\n",
       "      <td>212.832031</td>\n",
       "    </tr>\n",
       "    <tr>\n",
       "      <th>6</th>\n",
       "      <td>448</td>\n",
       "      <td>114.546875</td>\n",
       "      <td>561.500000</td>\n",
       "    </tr>\n",
       "  </tbody>\n",
       "</table>\n",
       "</div>"
      ],
      "text/plain": [
       "     N       start         end\n",
       "0    7  110.781250  111.937500\n",
       "1   14  110.472656  111.695312\n",
       "2   28  110.757812  112.535156\n",
       "3   56  110.734375  116.261719\n",
       "4  112  111.449219  134.480469\n",
       "5  224  111.968750  212.832031\n",
       "6  448  114.546875  561.500000"
      ]
     },
     "execution_count": 17,
     "metadata": {},
     "output_type": "execute_result"
    }
   ],
   "source": [
    "df_sparse = pd.read_csv(\"outputs/memory_manual/sparse_manual.txt\", sep=\", \", engine=\"python\")\n",
    "df_sparse"
   ]
  },
  {
   "cell_type": "code",
   "execution_count": 18,
   "metadata": {},
   "outputs": [
    {
     "data": {
      "image/png": "[encoded data removed]",
      "text/plain": [
       "<Figure size 432x288 with 1 Axes>"
      ]
     },
     "metadata": {
      "needs_background": "light"
     },
     "output_type": "display_data"
    }
   ],
   "source": [
    "plt.plot(df_sparse[\"N\"]**2, df_sparse[\"end\"] - df_sparse[\"start\"], label=\"sparse\", marker=\"o\")\n",
    "\n",
    "plt.title(\"Sparse\")\n",
    "plt.xlabel(\"N^2\")\n",
    "plt.ylabel(\"memory (MB)\")\n",
    "plt.legend()\n",
    "# plt.xscale(\"log\")\n",
    "plt.show()"
   ]
  },
  {
   "cell_type": "code",
   "execution_count": 19,
   "metadata": {},
   "outputs": [
    {
     "data": {
      "text/plain": [
       "(array([ 0.00222619, -2.16771531]),\n",
       " array([[ 6.86528660e-10, -2.62439311e-05],\n",
       "        [-2.62439311e-05,  4.21406675e+00]]))"
      ]
     },
     "execution_count": 19,
     "metadata": {},
     "output_type": "execute_result"
    }
   ],
   "source": [
    "coeffs, error = np.polyfit(x=df_sparse[\"N\"] ** 2, y=df_sparse[\"end\"] - df_sparse[\"start\"], deg=1, cov=True)\n",
    "coeffs, error"
   ]
  },
  {
   "cell_type": "code",
   "execution_count": 20,
   "metadata": {},
   "outputs": [
    {
     "data": {
      "image/png": "[encoded data removed]",
      "text/plain": [
       "<Figure size 432x288 with 1 Axes>"
      ]
     },
     "metadata": {
      "needs_background": "light"
     },
     "output_type": "display_data"
    }
   ],
   "source": [
    "plt.plot(df_sparse[\"N\"]**2, df_sparse[\"end\"] - df_sparse[\"start\"], label=\"sparse\", marker=\"o\")\n",
    "x = np.linspace(7, np.max(df_sparse[\"N\"]) ** 2 + 1, 100)\n",
    "plt.plot(x, np.polyval(coeffs, x))\n",
    "\n",
    "plt.title(\"Sparse\")\n",
    "plt.xlabel(\"N^2\")\n",
    "plt.ylabel(\"memory (MB)\")\n",
    "plt.legend()\n",
    "# plt.xscale(\"log\")\n",
    "plt.show()"
   ]
  },
  {
   "cell_type": "code",
   "execution_count": 30,
   "metadata": {},
   "outputs": [
    {
     "data": {
      "text/html": [
       "<div>\n",
       "<style scoped>\n",
       "    .dataframe tbody tr th:only-of-type {\n",
       "        vertical-align: middle;\n",
       "    }\n",
       "\n",
       "    .dataframe tbody tr th {\n",
       "        vertical-align: top;\n",
       "    }\n",
       "\n",
       "    .dataframe thead th {\n",
       "        text-align: right;\n",
       "    }\n",
       "</style>\n",
       "<table border=\"1\" class=\"dataframe\">\n",
       "  <thead>\n",
       "    <tr style=\"text-align: right;\">\n",
       "      <th></th>\n",
       "      <th>N_2</th>\n",
       "      <th>memory_usage</th>\n",
       "      <th>N</th>\n",
       "    </tr>\n",
       "  </thead>\n",
       "  <tbody>\n",
       "    <tr>\n",
       "      <th>0</th>\n",
       "      <td>49</td>\n",
       "      <td>1.156250</td>\n",
       "      <td>7</td>\n",
       "    </tr>\n",
       "    <tr>\n",
       "      <th>1</th>\n",
       "      <td>196</td>\n",
       "      <td>1.222656</td>\n",
       "      <td>14</td>\n",
       "    </tr>\n",
       "    <tr>\n",
       "      <th>2</th>\n",
       "      <td>784</td>\n",
       "      <td>1.777344</td>\n",
       "      <td>28</td>\n",
       "    </tr>\n",
       "    <tr>\n",
       "      <th>3</th>\n",
       "      <td>3136</td>\n",
       "      <td>5.527344</td>\n",
       "      <td>56</td>\n",
       "    </tr>\n",
       "    <tr>\n",
       "      <th>4</th>\n",
       "      <td>12544</td>\n",
       "      <td>23.031250</td>\n",
       "      <td>112</td>\n",
       "    </tr>\n",
       "    <tr>\n",
       "      <th>5</th>\n",
       "      <td>50176</td>\n",
       "      <td>100.863281</td>\n",
       "      <td>224</td>\n",
       "    </tr>\n",
       "    <tr>\n",
       "      <th>6</th>\n",
       "      <td>200704</td>\n",
       "      <td>446.953125</td>\n",
       "      <td>448</td>\n",
       "    </tr>\n",
       "  </tbody>\n",
       "</table>\n",
       "</div>"
      ],
      "text/plain": [
       "      N_2  memory_usage    N\n",
       "0      49      1.156250    7\n",
       "1     196      1.222656   14\n",
       "2     784      1.777344   28\n",
       "3    3136      5.527344   56\n",
       "4   12544     23.031250  112\n",
       "5   50176    100.863281  224\n",
       "6  200704    446.953125  448"
      ]
     },
     "execution_count": 30,
     "metadata": {},
     "output_type": "execute_result"
    }
   ],
   "source": [
    "# df = df_sparse.copy()\n",
    "# df[\"memory_usage\"] = df[\"end\"] - df[\"start\"]\n",
    "# df[\"N_2\"] = df[\"N\"] ** 2\n",
    "# # df[[\"N_2\", \"memory_usage\"]].to_csv(\"data/sparse_memory_usage.csv\", index=False)\n",
    "# df[[\"N_2\", \"memory_usage\", \"N\"]]"
   ]
  },
  {
   "cell_type": "code",
   "execution_count": null,
   "metadata": {},
   "outputs": [],
   "source": []
  }
 ],
 "metadata": {
  "kernelspec": {
   "display_name": "Python 3",
   "language": "python",
   "name": "python3"
  },
  "language_info": {
   "codemirror_mode": {
    "name": "ipython",
    "version": 3
   },
   "file_extension": ".py",
   "mimetype": "text/x-python",
   "name": "python",
   "nbconvert_exporter": "python",
   "pygments_lexer": "ipython3",
   "version": "3.8.6"
  }
 },
 "nbformat": 4,
 "nbformat_minor": 4
}
