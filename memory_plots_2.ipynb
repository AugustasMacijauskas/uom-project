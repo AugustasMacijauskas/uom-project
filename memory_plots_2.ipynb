{
 "cells": [
  {
   "cell_type": "code",
   "execution_count": 1,
   "metadata": {},
   "outputs": [],
   "source": [
    "import pandas as pd\n",
    "import matplotlib.pyplot as plt\n",
    "import numpy as np"
   ]
  },
  {
   "cell_type": "code",
   "execution_count": 2,
   "metadata": {},
   "outputs": [],
   "source": [
    "df_gs = pd.read_csv(\"outputs/memory_manual_2/gs_manual_2.txt\", sep=\", \", engine=\"python\")\n",
    "df_dense = pd.read_csv(\"outputs/memory_manual_2/dense_manual_2_new.txt\", sep=\", \", engine=\"python\")\n",
    "df_sparse = pd.read_csv(\"outputs/memory_manual_2/sparse_manual_2_new.txt\", sep=\", \", engine=\"python\")\n",
    "df_newton = pd.read_csv(\"outputs/memory_manual_2/newton_manual_2.txt\", sep=\", \", engine=\"python\")"
   ]
  },
  {
   "cell_type": "code",
   "execution_count": 3,
   "metadata": {},
   "outputs": [
    {
     "data": {
      "text/plain": [
       "Index(['N', 'start', 'end'], dtype='object')"
      ]
     },
     "execution_count": 3,
     "metadata": {},
     "output_type": "execute_result"
    }
   ],
   "source": [
    "df_gs.columns"
   ]
  },
  {
   "cell_type": "code",
   "execution_count": 4,
   "metadata": {},
   "outputs": [],
   "source": [
    "df_gs[\"memory\"] = df_gs[\"end\"] - df_gs[\"start\"]\n",
    "df_dense[\"memory\"] = df_dense[\"end\"] - df_dense[\"start\"]\n",
    "df_sparse[\"memory\"] = df_sparse[\"end\"] - df_sparse[\"start\"]\n",
    "df_newton[\"memory\"] = df_newton[\"end\"] - df_newton[\"start\"]"
   ]
  },
  {
   "cell_type": "code",
   "execution_count": 5,
   "metadata": {},
   "outputs": [
    {
     "data": {
      "text/html": [
       "<div>\n",
       "<style scoped>\n",
       "    .dataframe tbody tr th:only-of-type {\n",
       "        vertical-align: middle;\n",
       "    }\n",
       "\n",
       "    .dataframe tbody tr th {\n",
       "        vertical-align: top;\n",
       "    }\n",
       "\n",
       "    .dataframe thead th {\n",
       "        text-align: right;\n",
       "    }\n",
       "</style>\n",
       "<table border=\"1\" class=\"dataframe\">\n",
       "  <thead>\n",
       "    <tr style=\"text-align: right;\">\n",
       "      <th></th>\n",
       "      <th>N</th>\n",
       "      <th>start</th>\n",
       "      <th>end</th>\n",
       "      <th>memory</th>\n",
       "    </tr>\n",
       "  </thead>\n",
       "  <tbody>\n",
       "    <tr>\n",
       "      <th>0</th>\n",
       "      <td>7</td>\n",
       "      <td>110.964844</td>\n",
       "      <td>111.921875</td>\n",
       "      <td>0.957031</td>\n",
       "    </tr>\n",
       "    <tr>\n",
       "      <th>1</th>\n",
       "      <td>14</td>\n",
       "      <td>110.832031</td>\n",
       "      <td>111.812500</td>\n",
       "      <td>0.980469</td>\n",
       "    </tr>\n",
       "    <tr>\n",
       "      <th>2</th>\n",
       "      <td>28</td>\n",
       "      <td>111.464844</td>\n",
       "      <td>112.679688</td>\n",
       "      <td>1.214844</td>\n",
       "    </tr>\n",
       "    <tr>\n",
       "      <th>3</th>\n",
       "      <td>56</td>\n",
       "      <td>113.152344</td>\n",
       "      <td>116.984375</td>\n",
       "      <td>3.832031</td>\n",
       "    </tr>\n",
       "    <tr>\n",
       "      <th>4</th>\n",
       "      <td>84</td>\n",
       "      <td>115.937500</td>\n",
       "      <td>122.542969</td>\n",
       "      <td>6.605469</td>\n",
       "    </tr>\n",
       "    <tr>\n",
       "      <th>5</th>\n",
       "      <td>112</td>\n",
       "      <td>119.875000</td>\n",
       "      <td>133.765625</td>\n",
       "      <td>13.890625</td>\n",
       "    </tr>\n",
       "    <tr>\n",
       "      <th>6</th>\n",
       "      <td>224</td>\n",
       "      <td>147.734375</td>\n",
       "      <td>212.500000</td>\n",
       "      <td>64.765625</td>\n",
       "    </tr>\n",
       "    <tr>\n",
       "      <th>7</th>\n",
       "      <td>336</td>\n",
       "      <td>193.566406</td>\n",
       "      <td>357.113281</td>\n",
       "      <td>163.546875</td>\n",
       "    </tr>\n",
       "    <tr>\n",
       "      <th>8</th>\n",
       "      <td>448</td>\n",
       "      <td>259.429688</td>\n",
       "      <td>563.566406</td>\n",
       "      <td>304.136719</td>\n",
       "    </tr>\n",
       "    <tr>\n",
       "      <th>9</th>\n",
       "      <td>672</td>\n",
       "      <td>0.000000</td>\n",
       "      <td>770.062500</td>\n",
       "      <td>770.062500</td>\n",
       "    </tr>\n",
       "  </tbody>\n",
       "</table>\n",
       "</div>"
      ],
      "text/plain": [
       "     N       start         end      memory\n",
       "0    7  110.964844  111.921875    0.957031\n",
       "1   14  110.832031  111.812500    0.980469\n",
       "2   28  111.464844  112.679688    1.214844\n",
       "3   56  113.152344  116.984375    3.832031\n",
       "4   84  115.937500  122.542969    6.605469\n",
       "5  112  119.875000  133.765625   13.890625\n",
       "6  224  147.734375  212.500000   64.765625\n",
       "7  336  193.566406  357.113281  163.546875\n",
       "8  448  259.429688  563.566406  304.136719\n",
       "9  672    0.000000  770.062500  770.062500"
      ]
     },
     "execution_count": 5,
     "metadata": {},
     "output_type": "execute_result"
    }
   ],
   "source": [
    "df_sparse"
   ]
  },
  {
   "cell_type": "code",
   "execution_count": 6,
   "metadata": {},
   "outputs": [
    {
     "data": {
      "text/html": [
       "<div>\n",
       "<style scoped>\n",
       "    .dataframe tbody tr th:only-of-type {\n",
       "        vertical-align: middle;\n",
       "    }\n",
       "\n",
       "    .dataframe tbody tr th {\n",
       "        vertical-align: top;\n",
       "    }\n",
       "\n",
       "    .dataframe thead th {\n",
       "        text-align: right;\n",
       "    }\n",
       "</style>\n",
       "<table border=\"1\" class=\"dataframe\">\n",
       "  <thead>\n",
       "    <tr style=\"text-align: right;\">\n",
       "      <th></th>\n",
       "      <th>N</th>\n",
       "      <th>start</th>\n",
       "      <th>end</th>\n",
       "      <th>memory</th>\n",
       "    </tr>\n",
       "  </thead>\n",
       "  <tbody>\n",
       "    <tr>\n",
       "      <th>0</th>\n",
       "      <td>7</td>\n",
       "      <td>110.742188</td>\n",
       "      <td>110.742188</td>\n",
       "      <td>0.000000</td>\n",
       "    </tr>\n",
       "    <tr>\n",
       "      <th>1</th>\n",
       "      <td>14</td>\n",
       "      <td>110.667969</td>\n",
       "      <td>110.875000</td>\n",
       "      <td>0.207031</td>\n",
       "    </tr>\n",
       "    <tr>\n",
       "      <th>2</th>\n",
       "      <td>28</td>\n",
       "      <td>110.476562</td>\n",
       "      <td>112.003906</td>\n",
       "      <td>1.527344</td>\n",
       "    </tr>\n",
       "    <tr>\n",
       "      <th>3</th>\n",
       "      <td>56</td>\n",
       "      <td>110.886719</td>\n",
       "      <td>113.976562</td>\n",
       "      <td>3.089844</td>\n",
       "    </tr>\n",
       "    <tr>\n",
       "      <th>4</th>\n",
       "      <td>84</td>\n",
       "      <td>111.476562</td>\n",
       "      <td>114.968750</td>\n",
       "      <td>3.492188</td>\n",
       "    </tr>\n",
       "    <tr>\n",
       "      <th>5</th>\n",
       "      <td>112</td>\n",
       "      <td>111.792969</td>\n",
       "      <td>116.675781</td>\n",
       "      <td>4.882812</td>\n",
       "    </tr>\n",
       "    <tr>\n",
       "      <th>12</th>\n",
       "      <td>168</td>\n",
       "      <td>112.613281</td>\n",
       "      <td>121.207031</td>\n",
       "      <td>8.593750</td>\n",
       "    </tr>\n",
       "    <tr>\n",
       "      <th>6</th>\n",
       "      <td>224</td>\n",
       "      <td>113.421875</td>\n",
       "      <td>123.921875</td>\n",
       "      <td>10.500000</td>\n",
       "    </tr>\n",
       "    <tr>\n",
       "      <th>10</th>\n",
       "      <td>280</td>\n",
       "      <td>114.660156</td>\n",
       "      <td>127.000000</td>\n",
       "      <td>12.339844</td>\n",
       "    </tr>\n",
       "    <tr>\n",
       "      <th>7</th>\n",
       "      <td>336</td>\n",
       "      <td>115.765625</td>\n",
       "      <td>194.578125</td>\n",
       "      <td>78.812500</td>\n",
       "    </tr>\n",
       "    <tr>\n",
       "      <th>8</th>\n",
       "      <td>448</td>\n",
       "      <td>120.062500</td>\n",
       "      <td>195.828125</td>\n",
       "      <td>75.765625</td>\n",
       "    </tr>\n",
       "    <tr>\n",
       "      <th>11</th>\n",
       "      <td>560</td>\n",
       "      <td>124.855469</td>\n",
       "      <td>232.378906</td>\n",
       "      <td>107.523438</td>\n",
       "    </tr>\n",
       "    <tr>\n",
       "      <th>9</th>\n",
       "      <td>672</td>\n",
       "      <td>130.246094</td>\n",
       "      <td>283.578125</td>\n",
       "      <td>153.332031</td>\n",
       "    </tr>\n",
       "  </tbody>\n",
       "</table>\n",
       "</div>"
      ],
      "text/plain": [
       "      N       start         end      memory\n",
       "0     7  110.742188  110.742188    0.000000\n",
       "1    14  110.667969  110.875000    0.207031\n",
       "2    28  110.476562  112.003906    1.527344\n",
       "3    56  110.886719  113.976562    3.089844\n",
       "4    84  111.476562  114.968750    3.492188\n",
       "5   112  111.792969  116.675781    4.882812\n",
       "12  168  112.613281  121.207031    8.593750\n",
       "6   224  113.421875  123.921875   10.500000\n",
       "10  280  114.660156  127.000000   12.339844\n",
       "7   336  115.765625  194.578125   78.812500\n",
       "8   448  120.062500  195.828125   75.765625\n",
       "11  560  124.855469  232.378906  107.523438\n",
       "9   672  130.246094  283.578125  153.332031"
      ]
     },
     "execution_count": 6,
     "metadata": {},
     "output_type": "execute_result"
    }
   ],
   "source": [
    "df_newton = df_newton.sort_values(\"N\")\n",
    "df_newton"
   ]
  },
  {
   "cell_type": "code",
   "execution_count": 7,
   "metadata": {},
   "outputs": [
    {
     "name": "stdout",
     "output_type": "stream",
     "text": [
      "<class 'pandas.core.frame.DataFrame'>\n",
      "RangeIndex: 10 entries, 0 to 9\n",
      "Data columns (total 4 columns):\n",
      " #   Column  Non-Null Count  Dtype  \n",
      "---  ------  --------------  -----  \n",
      " 0   N       10 non-null     int64  \n",
      " 1   start   10 non-null     float64\n",
      " 2   end     10 non-null     float64\n",
      " 3   memory  10 non-null     float64\n",
      "dtypes: float64(3), int64(1)\n",
      "memory usage: 448.0 bytes\n"
     ]
    }
   ],
   "source": [
    "df_sparse.info()"
   ]
  },
  {
   "cell_type": "markdown",
   "metadata": {},
   "source": [
    "# Plots"
   ]
  },
  {
   "cell_type": "code",
   "execution_count": 8,
   "metadata": {},
   "outputs": [
    {
     "data": {
      "image/png": "[encoded data removed]",
      "text/plain": [
       "<Figure size 432x288 with 1 Axes>"
      ]
     },
     "metadata": {
      "needs_background": "light"
     },
     "output_type": "display_data"
    }
   ],
   "source": [
    "plt.plot(df_gs[\"N\"], df_gs[\"memory\"], label=\"gs\", marker=\"o\")\n",
    "\n",
    "plt.title(\"Gauss-Seidel SOR\")\n",
    "plt.xlabel(\"N\")\n",
    "plt.ylabel(\"memory (MB)\")\n",
    "plt.legend()\n",
    "# plt.xscale(\"log\")\n",
    "plt.show()"
   ]
  },
  {
   "cell_type": "code",
   "execution_count": 9,
   "metadata": {},
   "outputs": [
    {
     "data": {
      "image/png": "[encoded data removed]",
      "text/plain": [
       "<Figure size 432x288 with 1 Axes>"
      ]
     },
     "metadata": {
      "needs_background": "light"
     },
     "output_type": "display_data"
    }
   ],
   "source": [
    "plt.plot(df_sparse[\"N\"]**2, df_sparse[\"memory\"], label=\"sparse\", marker=\"o\")\n",
    "\n",
    "plt.title(\"Sparse\")\n",
    "plt.xlabel(\"N^2\")\n",
    "plt.ylabel(\"memory (MB)\")\n",
    "plt.legend()\n",
    "# plt.xscale(\"log\")\n",
    "plt.show()"
   ]
  },
  {
   "cell_type": "code",
   "execution_count": 15,
   "metadata": {},
   "outputs": [
    {
     "data": {
      "image/png": "[encoded data removed]",
      "text/plain": [
       "<Figure size 432x288 with 1 Axes>"
      ]
     },
     "metadata": {
      "needs_background": "light"
     },
     "output_type": "display_data"
    }
   ],
   "source": [
    "plt.plot(df_newton[\"N\"]**2, df_newton[\"memory\"], label=\"newton\", marker=\"o\")\n",
    "\n",
    "plt.title(\"Newton\")\n",
    "plt.xlabel(\"N^2\")\n",
    "plt.ylabel(\"memory (MB)\")\n",
    "plt.legend()\n",
    "# plt.xscale(\"log\")\n",
    "# plt.yscale(\"log\")\n",
    "plt.show()"
   ]
  },
  {
   "cell_type": "code",
   "execution_count": 11,
   "metadata": {},
   "outputs": [
    {
     "data": {
      "image/png": "[encoded data removed]",
      "text/plain": [
       "<Figure size 432x288 with 1 Axes>"
      ]
     },
     "metadata": {
      "needs_background": "light"
     },
     "output_type": "display_data"
    }
   ],
   "source": [
    "plt.plot(df_sparse[\"N\"] ** 2, df_sparse[\"memory\"], label=\"sparse\", marker=\"o\")\n",
    "plt.plot(df_newton[\"N\"] ** 2, df_newton[\"memory\"], label=\"newton\", marker=\"o\")\n",
    "\n",
    "plt.title(\"Sparse vs Newton\")\n",
    "plt.xlabel(\"N^2\")\n",
    "plt.ylabel(\"memory (MB)\")\n",
    "plt.legend()\n",
    "# plt.xscale(\"log\")\n",
    "plt.show()"
   ]
  },
  {
   "cell_type": "code",
   "execution_count": 12,
   "metadata": {},
   "outputs": [
    {
     "data": {
      "image/png": "[encoded data removed]",
      "text/plain": [
       "<Figure size 432x288 with 1 Axes>"
      ]
     },
     "metadata": {
      "needs_background": "light"
     },
     "output_type": "display_data"
    }
   ],
   "source": [
    "plt.plot(df_dense[\"N\"]**4, df_dense[\"memory\"], label=\"dense\", marker=\"o\")\n",
    "\n",
    "plt.title(\"Dense\")\n",
    "plt.xlabel(\"N^4\")\n",
    "plt.ylabel(\"memory (MB)\")\n",
    "plt.legend()\n",
    "# plt.xscale(\"log\")\n",
    "plt.show()"
   ]
  },
  {
   "cell_type": "code",
   "execution_count": 13,
   "metadata": {},
   "outputs": [],
   "source": [
    "# df = df_sparse.copy()\n",
    "# df[\"memory_usage\"] = df[\"end\"] - df[\"start\"]\n",
    "# df[\"N_2\"] = df[\"N\"] ** 2\n",
    "# # df[[\"N_2\", \"memory_usage\"]].to_csv(\"data/sparse_memory_usage.csv\", index=False)\n",
    "# df[[\"N_2\", \"memory_usage\", \"N\"]]"
   ]
  },
  {
   "cell_type": "code",
   "execution_count": null,
   "metadata": {},
   "outputs": [],
   "source": []
  }
 ],
 "metadata": {
  "kernelspec": {
   "display_name": "Python 3",
   "language": "python",
   "name": "python3"
  },
  "language_info": {
   "codemirror_mode": {
    "name": "ipython",
    "version": 3
   },
   "file_extension": ".py",
   "mimetype": "text/x-python",
   "name": "python",
   "nbconvert_exporter": "python",
   "pygments_lexer": "ipython3",
   "version": "3.8.6"
  }
 },
 "nbformat": 4,
 "nbformat_minor": 4
}
