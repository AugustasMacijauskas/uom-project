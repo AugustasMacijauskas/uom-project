{
 "cells": [
  {
   "cell_type": "markdown",
   "metadata": {},
   "source": [
    "# streamfunction_vorticity_pytorch_solvers\n",
    "\n",
    "> Solvers based on the PyTorch package for the full Navier-Stokes equations in the streamfunction-vorticity form"
   ]
  },
  {
   "cell_type": "code",
   "execution_count": null,
   "metadata": {},
   "outputs": [],
   "source": [
    "#| default_exp streamfunction_vorticity_pytorch"
   ]
  },
  {
   "cell_type": "markdown",
   "metadata": {},
   "source": [
    "# Imports"
   ]
  },
  {
   "cell_type": "code",
   "execution_count": null,
   "metadata": {},
   "outputs": [],
   "source": [
    "# Autoreload modules\n",
    "%load_ext autoreload\n",
    "%autoreload 2"
   ]
  },
  {
   "cell_type": "code",
   "execution_count": null,
   "metadata": {},
   "outputs": [],
   "source": [
    "#| export\n",
    "from uom_project import core\n",
    "\n",
    "import numpy as np\n",
    "\n",
    "import torch\n",
    "import torch.nn.functional as F"
   ]
  },
  {
   "cell_type": "code",
   "execution_count": null,
   "metadata": {},
   "outputs": [],
   "source": [
    "from uom_project import streamfunction_vorticity_newton\n",
    "\n",
    "from functools import partial\n",
    "\n",
    "from torch.func import jacfwd\n",
    "\n",
    "from fastcore.test import test_eq"
   ]
  },
  {
   "cell_type": "code",
   "execution_count": null,
   "metadata": {},
   "outputs": [],
   "source": [
    "newton_solver = streamfunction_vorticity_newton.newton_solver\n",
    "f = streamfunction_vorticity_newton.f\n",
    "get_jacobian = streamfunction_vorticity_newton.get_jacobian"
   ]
  },
  {
   "cell_type": "markdown",
   "metadata": {},
   "source": [
    "# PyTorch solver"
   ]
  },
  {
   "cell_type": "code",
   "execution_count": null,
   "metadata": {},
   "outputs": [],
   "source": [
    "#| exporti\n",
    "\n",
    "# Given the vorticity, solve the Poisson eqn. to find the streamfunction\n",
    "def f_pytorch(x, Re, U_wall_top):\n",
    "    N = int(np.sqrt(x.shape[0] // 2 + 1))\n",
    "    h = 1 / N\n",
    "\n",
    "    psi = x[:(N-1)**2].reshape(N-1, N-1)\n",
    "    w_left   = x[(N-1)**2 + 0*(N-1) : (N-1)**2 + 1*(N-1)][:, 0]\n",
    "    w_right  = x[(N-1)**2 + 1*(N-1) : (N-1)**2 + 2*(N-1)][:, 0]\n",
    "    w_bottom = x[(N-1)**2 + 2*(N-1) : (N-1)**2 + 3*(N-1)][:, 0]\n",
    "    w_top    = x[(N-1)**2 + 3*(N-1) : (N-1)**2 + 4*(N-1)][:, 0]\n",
    "    w_middle = x[(N-1)**2 + 4*(N-1) :].reshape(N-1, N-1)\n",
    "\n",
    "    # Calculate the equations coming from the Poisson equation\n",
    "    f_poisson = -4 * psi + h ** 2 * w_middle\n",
    "    f_poisson[:-1, :] += psi[1:, :]\n",
    "    f_poisson[1:, :] += psi[:-1, :]\n",
    "    f_poisson[:, :-1] += psi[:, 1:]\n",
    "    f_poisson[:, 1:] += psi[:, :-1]\n",
    "\n",
    "    # Calculate the sides first\n",
    "    # y = 0, U_wall = 0\n",
    "    f_w_bottom = h ** 2 * (w_middle[:, 0] + 3 * w_bottom) + 8 * psi[:, 0]\n",
    "    # y = 1, U_wall is known here\n",
    "    f_w_top = h ** 2 * (w_middle[:, -1] + 3 * w_top) + 8 * (\n",
    "        h * U_wall_top + psi[:, -1]\n",
    "    )\n",
    "    # x = 0\n",
    "    f_w_left = h ** 2 * (w_middle[0, :] + 3 * w_left) + 8 * psi[0, :]\n",
    "    # x = 1\n",
    "    f_w_right = h ** 2 * (w_middle[-1, :] + 3 * w_right) + 8 * psi[-1, :]\n",
    "\n",
    "    f_w_middle = -4 * w_middle\n",
    "    f_w_middle[:-1, :] += w_middle[1:, :]\n",
    "    f_w_middle[-1:, :] += w_right\n",
    "    f_w_middle[1:, :] += w_middle[:-1, :]\n",
    "    f_w_middle[:1, :] += w_left\n",
    "    f_w_middle[:, :-1] += w_middle[:, 1:]\n",
    "    f_w_middle[:, -1] += w_top\n",
    "    f_w_middle[:, 1:] += w_middle[:, :-1]\n",
    "    f_w_middle[:, 0] += w_bottom\n",
    "\n",
    "    f_w_middle[1:-1, 1:-1] += Re * (\n",
    "        (psi[2:, 1:-1] - psi[:-2, 1:-1]) * (w_middle[1:-1, 2:] - w_middle[1:-1, :-2]) -\n",
    "        (psi[1:-1, 2:] - psi[1:-1, :-2]) * (w_middle[2:, 1:-1] - w_middle[:-2, 1:-1])\n",
    "    ) / 4\n",
    "    f_w_middle[:1, 1:-1] += Re * (\n",
    "        psi[1, 1:-1] * (w_middle[0, 2:] - w_middle[0, :-2]) -\n",
    "        (psi[0, 2:] - psi[0, :-2]) * (w_middle[1, 1:-1] - w_left[1:-1])\n",
    "    ) / 4\n",
    "    f_w_middle[-1:, 1:-1] -= Re * (\n",
    "        psi[-2, 1:-1] * (w_middle[-1, 2:] - w_middle[-1, :-2]) +\n",
    "        (psi[-1, 2:] - psi[-1, :-2]) * (w_right[1:-1] - w_middle[-2, 1:-1])\n",
    "    ) / 4\n",
    "    f_w_middle[1:-1, 0] += Re * (\n",
    "        (psi[2:, 0] - psi[:-2, 0]) * (w_middle[1:-1, 1] - w_bottom[1:-1]) -\n",
    "        psi[1:-1, 1] * (w_middle[2:, 0] - w_middle[:-2, 0])\n",
    "    ) / 4\n",
    "    f_w_middle[1:-1, -1] += Re * (\n",
    "        (psi[2:, -1] - psi[:-2, -1]) * (w_top[1:-1] - w_middle[1:-1, -2]) +\n",
    "        psi[1:-1, -2] * (w_middle[2:, -1] - w_middle[:-2, -1])\n",
    "    ) / 4\n",
    "    f_w_middle[0, 0] += Re * (\n",
    "        psi[1, 0] * (w_middle[0, 1] - w_bottom[0]) -\n",
    "        psi[0, 1] * (w_middle[1, 0] - w_left[0])\n",
    "    ) / 4\n",
    "    f_w_middle[-1, 0] -= Re * (\n",
    "        psi[-2, 0] * (w_middle[-1, 1] - w_bottom[-1]) +\n",
    "        psi[-1, 1] * (w_right[0] - w_middle[-2, 0])\n",
    "    ) / 4\n",
    "    f_w_middle[0, -1] += Re * (\n",
    "        psi[1, -1] * (w_top[0] - w_middle[0, -2]) +\n",
    "        psi[0, -2] * (w_middle[1, -1] - w_left[-1])\n",
    "    ) / 4\n",
    "    f_w_middle[-1, -1] -= Re * (\n",
    "        psi[-2, -1] * (w_top[-1] - w_middle[-1, -2]) -\n",
    "        psi[-1, -2] * (w_right[-1] - w_middle[-2, -1])\n",
    "    ) / 4\n",
    "\n",
    "    return torch.hstack([\n",
    "        f_poisson.flatten(), f_w_left, f_w_right, f_w_bottom, f_w_top,\n",
    "        f_w_middle.flatten()\n",
    "    ])[:, None]\n",
    "\n",
    "\n",
    "def reconstruct_w_pytorch(w_tmp, N, device):\n",
    "    w = torch.zeros((N+1, N+1), device=device)\n",
    "\n",
    "    w[:1, 1:-1] = w_tmp[0*(N-1):1*(N-1)].T\n",
    "    w[-1:, 1:-1] = w_tmp[1*(N-1):2*(N-1)].T\n",
    "    w[1:-1, :1] = w_tmp[2*(N-1):3*(N-1)]\n",
    "    w[1:-1, -1:] = w_tmp[3*(N-1):4*(N-1)]\n",
    "    w[1:-1, 1:-1] = w_tmp[4*(N-1):].reshape((N - 1, N - 1))\n",
    "\n",
    "    return w\n",
    "\n",
    "\n",
    "def newton_iterator_pytorch(\n",
    "    f, get_jacobian, N, Re, U_wall_top, device,\n",
    "    algorithm=\"base\", TOL=1e-8, max_iter=10, quiet=True\n",
    "):\n",
    "    '''\n",
    "        - f: evaluates the function given x, Re\n",
    "        - get_jacobian: evaluates the Jacobian given N, h\n",
    "        - N: number of grid points\n",
    "        - h: grid size\n",
    "        - Re: Reynolds number\n",
    "    '''\n",
    "\n",
    "    n_iter = 0 # number of iterations\n",
    "\n",
    "    # Initialization\n",
    "    # Size (N - 1) ** 2         + (N + 1) ** 2    - 4\n",
    "    # Size (for streamfunction) + (for vorticity) - (corners of vorticity)\n",
    "    x = torch.zeros(((N - 1) ** 2 + (N + 1) ** 2 - 4, 1), device=device).double()\n",
    "    f_current = f(x=x, Re=Re, U_wall_top=U_wall_top)\n",
    "\n",
    "    # Check if the initial guess is a solution\n",
    "    f_norm = torch.linalg.norm(f_current)\n",
    "    if f_norm <= TOL:\n",
    "        if not quiet:\n",
    "            print(f\"n_iter={n_iter}\")\n",
    "\n",
    "        return x, n_iter\n",
    "\n",
    "    while n_iter < max_iter:\n",
    "        n_iter += 1\n",
    "        jacobian = get_jacobian(x, Re, U_wall_top).squeeze()\n",
    "\n",
    "        kwargs = {}\n",
    "        if algorithm == \"lstsq\" and device.type == \"cpu\":\n",
    "            kwargs[\"driver\"] = \"gels\"\n",
    "        dx = core.solve_sparse_linear_system_pytorch(\n",
    "            A=jacobian, b=-f_current, algorithm=algorithm, **kwargs\n",
    "        )\n",
    "        x_next = x + dx\n",
    "\n",
    "        f_current = f(x=x_next, Re=Re, U_wall_top=U_wall_top)\n",
    "\n",
    "        f_norm = torch.linalg.norm(f_current)\n",
    "        if not quiet:\n",
    "            print(f\"iter={n_iter}; residual={f_norm}; dx={torch.linalg.norm(dx)}\")\n",
    "        if f_norm <= TOL:\n",
    "            break\n",
    "\n",
    "        x = x_next\n",
    "\n",
    "    if not quiet:\n",
    "        print(f\"n_iter={n_iter}\")\n",
    "\n",
    "    return x_next, n_iter\n"
   ]
  },
  {
   "cell_type": "code",
   "execution_count": null,
   "metadata": {},
   "outputs": [],
   "source": [
    "#| export\n",
    "def newton_solver_pytorch(\n",
    "    f, get_jacobian, N, Re, U_wall_top, device,\n",
    "    algorithm=\"base\", TOL=1e-8, max_iter=10, quiet=True\n",
    "):\n",
    "\n",
    "    solution, n_iter = newton_iterator_pytorch(\n",
    "        f=f, get_jacobian=get_jacobian, N=N, Re=Re, U_wall_top=U_wall_top,\n",
    "        algorithm=algorithm, device=device,\n",
    "        TOL=TOL, max_iter=max_iter, quiet=quiet\n",
    "    )\n",
    "\n",
    "    psi, w = solution[:(N - 1) ** 2], solution[(N - 1) ** 2:]\n",
    "\n",
    "    # Get final psi\n",
    "    psi = psi.reshape(N - 1, N - 1)\n",
    "    psi = F.pad(psi, (1, 1, 1, 1), mode=\"constant\", value=0)\n",
    "\n",
    "    # Get final w\n",
    "    w = reconstruct_w_pytorch(w_tmp=w, N=N, device=device)\n",
    "    w = w.reshape(N + 1, N + 1)\n",
    "\n",
    "    return w, psi, n_iter\n"
   ]
  },
  {
   "cell_type": "code",
   "execution_count": null,
   "metadata": {},
   "outputs": [],
   "source": [
    "device = torch.device(\"cpu\")"
   ]
  },
  {
   "cell_type": "code",
   "execution_count": null,
   "metadata": {},
   "outputs": [
    {
     "name": "stdout",
     "output_type": "stream",
     "text": [
      "iter=1; residual=1.9208075752582265e-14; dx=39.71450768327734\n",
      "n_iter=1\n",
      "iter=1; residual=1.4512872035962903e-14; dx=39.714507683277574\n",
      "n_iter=1\n"
     ]
    }
   ],
   "source": [
    "N = 20\n",
    "Re = 0 # i.e. viscosity mu = inf\n",
    "U_wall_top = torch.sin(torch.pi * torch.arange(1, N, device=device) / N) ** 2\n",
    "\n",
    "w, psi, _ = newton_solver(\n",
    "    f=partial(f, U_wall_top=U_wall_top.numpy()),\n",
    "    get_jacobian=get_jacobian, N=N, Re=Re, quiet=False\n",
    ")\n",
    "\n",
    "w2, psi2, n_iter = newton_solver_pytorch(\n",
    "    f=f_pytorch,\n",
    "    get_jacobian=jacfwd(f_pytorch),\n",
    "    U_wall_top=U_wall_top,\n",
    "    device=device,\n",
    "    N=N, Re=Re, quiet=False,\n",
    "    algorithm=\"lu_solve\",\n",
    ")\n",
    "test_eq(np.allclose(w, w2), True)\n",
    "test_eq(np.allclose(psi, psi2), True)\n",
    "test_eq(n_iter, 1)"
   ]
  },
  {
   "cell_type": "code",
   "execution_count": null,
   "metadata": {},
   "outputs": [
    {
     "name": "stdout",
     "output_type": "stream",
     "text": [
      "iter=1; residual=1.083638113213359; dx=39.71450768327734\n",
      "iter=2; residual=0.001540492790952764; dx=2.273926690801917\n",
      "iter=3; residual=8.79967547291471e-10; dx=0.0014642596128254788\n",
      "n_iter=3\n",
      "iter=1; residual=1.083638113213371; dx=39.714507683277574\n",
      "iter=2; residual=0.0015404927909491949; dx=2.273926690801721\n",
      "iter=3; residual=8.799669857097882e-10; dx=0.0014642596127686551\n",
      "n_iter=3\n"
     ]
    }
   ],
   "source": [
    "N = 20\n",
    "Re = 10\n",
    "U_wall_top = torch.sin(torch.pi * torch.arange(1, N, device=device) / N) ** 2\n",
    "\n",
    "w, psi, _ = newton_solver(\n",
    "    f=partial(f, U_wall_top=U_wall_top.numpy()),\n",
    "    get_jacobian=get_jacobian, N=N, Re=Re, quiet=False\n",
    ")\n",
    "\n",
    "w2, psi2, n_iter = newton_solver_pytorch(\n",
    "    f=f_pytorch,\n",
    "    get_jacobian=jacfwd(f_pytorch),\n",
    "    U_wall_top=U_wall_top,\n",
    "    device=device,\n",
    "    N=N, Re=Re, quiet=False,\n",
    "    algorithm=\"lu_solve\",\n",
    ")\n",
    "test_eq(np.allclose(w, w2), True)\n",
    "test_eq(np.allclose(psi, psi2), True)\n",
    "test_eq(n_iter, 3)"
   ]
  },
  {
   "cell_type": "code",
   "execution_count": null,
   "metadata": {},
   "outputs": [
    {
     "name": "stdout",
     "output_type": "stream",
     "text": [
      "iter=1; residual=5.302183624903474; dx=92.25374180247326\n",
      "iter=2; residual=0.006521635545205214; dx=4.11756391107747\n",
      "iter=3; residual=3.950959477471047e-09; dx=0.0036893485573113297\n",
      "n_iter=3\n",
      "iter=1; residual=5.302183624903549; dx=92.25374180247387\n",
      "iter=2; residual=0.006521635545212003; dx=4.117563911077538\n",
      "iter=3; residual=3.950959808741957e-09; dx=0.003689348557270371\n",
      "n_iter=3\n"
     ]
    }
   ],
   "source": [
    "N = 20\n",
    "Re = 10\n",
    "U_wall_top = 1.0\n",
    "\n",
    "w, psi, _ = newton_solver(\n",
    "    f=partial(f, U_wall_top=U_wall_top),\n",
    "    get_jacobian=get_jacobian, N=N, Re=Re, quiet=False\n",
    ")\n",
    "\n",
    "w2, psi2, n_iter = newton_solver_pytorch(\n",
    "    f=f_pytorch,\n",
    "    get_jacobian=jacfwd(f_pytorch),\n",
    "    U_wall_top=U_wall_top,\n",
    "    device=device,\n",
    "    N=N, Re=Re, quiet=False,\n",
    "    algorithm=\"lu_solve\",\n",
    ")\n",
    "test_eq(np.allclose(w, w2), True)\n",
    "test_eq(np.allclose(psi, psi2), True)\n",
    "test_eq(n_iter, 3)"
   ]
  },
  {
   "cell_type": "code",
   "execution_count": null,
   "metadata": {},
   "outputs": [],
   "source": [
    "N = 20\n",
    "Re = 10\n",
    "U_wall_top = torch.sin(torch.pi * torch.arange(1, N, device=device) / N) ** 2\n",
    "\n",
    "fun = partial(f, U_wall_top=U_wall_top.numpy())"
   ]
  },
  {
   "cell_type": "code",
   "execution_count": null,
   "metadata": {},
   "outputs": [
    {
     "name": "stdout",
     "output_type": "stream",
     "text": [
      "558 ms ± 135 ms per loop (mean ± std. dev. of 7 runs, 1 loop each)\n"
     ]
    }
   ],
   "source": [
    "#| eval: false\n",
    "%timeit newton_solver(f=fun, get_jacobian=get_jacobian, N=N, Re=Re)"
   ]
  },
  {
   "cell_type": "code",
   "execution_count": null,
   "metadata": {},
   "outputs": [
    {
     "name": "stdout",
     "output_type": "stream",
     "text": [
      "185 ms ± 42.1 ms per loop (mean ± std. dev. of 7 runs, 10 loops each)\n"
     ]
    }
   ],
   "source": [
    "#| eval: false\n",
    "%timeit newton_solver_pytorch(f=f_pytorch, get_jacobian=jacfwd(f_pytorch), U_wall_top=U_wall_top, device=device, N=N, Re=Re, algorithm=\"lu_solve\")"
   ]
  },
  {
   "cell_type": "code",
   "execution_count": null,
   "metadata": {},
   "outputs": [
    {
     "name": "stdout",
     "output_type": "stream",
     "text": [
      "209 ms ± 3.97 ms per loop (mean ± std. dev. of 7 runs, 1 loop each)\n"
     ]
    }
   ],
   "source": [
    "#| eval: false\n",
    "%timeit newton_solver_pytorch(f=f_pytorch, get_jacobian=jacfwd(f_pytorch), U_wall_top=U_wall_top, device=device, N=N, Re=Re, algorithm=\"lstsq\")"
   ]
  },
  {
   "cell_type": "markdown",
   "metadata": {},
   "source": [
    "## Test on GPU"
   ]
  },
  {
   "cell_type": "code",
   "execution_count": null,
   "metadata": {},
   "outputs": [
    {
     "data": {
      "text/plain": [
       "device(type='cuda')"
      ]
     },
     "execution_count": null,
     "metadata": {},
     "output_type": "execute_result"
    }
   ],
   "source": [
    "#| eval: false\n",
    "device = torch.device(\"cuda\" if torch.cuda.is_available() else \"cpu\")\n",
    "device"
   ]
  },
  {
   "cell_type": "code",
   "execution_count": null,
   "metadata": {},
   "outputs": [],
   "source": [
    "if device.type == \"cuda\":\n",
    "    N = 40\n",
    "    Re = 10\n",
    "    U_wall_top = torch.sin(torch.pi * torch.arange(1, N, device=device) / N) ** 2\n",
    "\n",
    "    fun = partial(f, U_wall_top=U_wall_top.cpu().numpy())\n",
    "    fun_pytorch = partial(f_pytorch, U_wall_top=U_wall_top)\n",
    "\n",
    "    jac = jacfwd(fun_pytorch)\n"
   ]
  },
  {
   "cell_type": "code",
   "execution_count": null,
   "metadata": {},
   "outputs": [
    {
     "name": "stdout",
     "output_type": "stream",
     "text": [
      "2.96 s ± 432 ms per loop (mean ± std. dev. of 7 runs, 1 loop each)\n"
     ]
    }
   ],
   "source": [
    "#| eval: false\n",
    "if device.type == \"cuda\":\n",
    "    %timeit newton_solver(f=fun, get_jacobian=get_jacobian, N=N, Re=Re)"
   ]
  },
  {
   "cell_type": "code",
   "execution_count": null,
   "metadata": {},
   "outputs": [
    {
     "name": "stdout",
     "output_type": "stream",
     "text": [
      "1.67 s ± 5.38 ms per loop (mean ± std. dev. of 7 runs, 1 loop each)\n"
     ]
    }
   ],
   "source": [
    "#| eval: false\n",
    "if device.type == \"cuda\":\n",
    "    %timeit newton_solver_pytorch(f=fun_pytorch, get_jacobian=jac, device=device, N=N, Re=Re, algorithm=\"lu_solve\")"
   ]
  },
  {
   "cell_type": "markdown",
   "metadata": {},
   "source": [
    "# PyTorch LBFGS solver"
   ]
  },
  {
   "cell_type": "code",
   "execution_count": null,
   "metadata": {},
   "outputs": [],
   "source": [
    "def lbfgs_solver_pytorch(\n",
    "    f, N, Re, U_wall_top, device, n_steps=100, line_search_fn=None, max_iter=20,\n",
    "):\n",
    "    solution = torch.zeros(\n",
    "        ((N - 1) ** 2 + (N + 1) ** 2 - 4, 1), device=device, requires_grad=True,\n",
    "    )\n",
    "    optimizer = torch.optim.LBFGS(\n",
    "        [solution], lr=1.0, max_iter=max_iter, line_search_fn=line_search_fn,\n",
    "        tolerance_grad=1e-10,\n",
    "    )\n",
    "\n",
    "    loss_fn = lambda x, Re, U_wall_top: f(x, Re, U_wall_top).pow(2).sum()\n",
    "    losses = []\n",
    "\n",
    "    def closure():\n",
    "        optimizer.zero_grad()\n",
    "\n",
    "        loss = loss_fn(solution, Re, U_wall_top)\n",
    "        loss.backward()\n",
    "\n",
    "        losses.append(loss.detach())\n",
    "\n",
    "        return loss\n",
    "\n",
    "    for i in range(n_steps):\n",
    "        optimizer.step(closure)\n",
    "\n",
    "    losses = torch.tensor(losses).cpu()\n",
    "    print(min(losses))\n",
    "\n",
    "    solution = solution.detach()\n",
    "    psi, w = solution[:(N - 1) ** 2], solution[(N - 1) ** 2:]\n",
    "\n",
    "    # Get final psi\n",
    "    psi = psi.reshape(N - 1, N - 1)\n",
    "    psi = F.pad(psi, (1, 1, 1, 1), mode=\"constant\", value=0)\n",
    "\n",
    "    # Get final w\n",
    "    w = reconstruct_w_pytorch(w_tmp=w, N=N, device=device)\n",
    "    w = w.reshape(N + 1, N + 1)\n",
    "\n",
    "    return w, psi, losses\n"
   ]
  },
  {
   "cell_type": "code",
   "execution_count": null,
   "metadata": {},
   "outputs": [],
   "source": [
    "device = torch.device(\"cpu\")"
   ]
  },
  {
   "cell_type": "code",
   "execution_count": null,
   "metadata": {},
   "outputs": [
    {
     "name": "stdout",
     "output_type": "stream",
     "text": [
      "iter=1; residual=1.083638113213359; dx=39.71450768327734\n",
      "iter=2; residual=0.001540492790952764; dx=2.273926690801917\n",
      "iter=3; residual=8.79967547291471e-10; dx=0.0014642596128254788\n",
      "n_iter=3\n",
      "tensor(0.0003)\n"
     ]
    }
   ],
   "source": [
    "#| eval: false\n",
    "N = 20\n",
    "Re = 10\n",
    "U_wall_top = torch.sin(torch.pi * torch.arange(1, N, device=device) / N) ** 2\n",
    "\n",
    "w, psi, _ = newton_solver(\n",
    "    f=partial(f, U_wall_top=U_wall_top.cpu().numpy()),\n",
    "    get_jacobian=get_jacobian, N=N, Re=Re, quiet=False\n",
    ")\n",
    "\n",
    "w2, psi2, losses = lbfgs_solver_pytorch(\n",
    "    f=f_pytorch, N=N, Re=Re, U_wall_top=U_wall_top,\n",
    "    device=device,\n",
    "    line_search_fn=\"strong_wolfe\",\n",
    "    n_steps=100, max_iter=20,\n",
    ")\n",
    "test_eq(np.allclose(w, w2.cpu()), False)\n",
    "test_eq(np.allclose(psi, psi2.cpu()), False)"
   ]
  },
  {
   "cell_type": "code",
   "execution_count": null,
   "metadata": {},
   "outputs": [
    {
     "data": {
      "image/png": "[encoded data removed]",
      "text/plain": [
       "<Figure size 640x480 with 1 Axes>"
      ]
     },
     "metadata": {},
     "output_type": "display_data"
    }
   ],
   "source": [
    "#| eval: false\n",
    "import matplotlib.pyplot as plt\n",
    "\n",
    "plt.plot(losses);"
   ]
  },
  {
   "cell_type": "code",
   "execution_count": null,
   "metadata": {},
   "outputs": [
    {
     "data": {
      "text/plain": [
       "(1.0297043822466259, 0.004830612163646358)"
      ]
     },
     "execution_count": null,
     "metadata": {},
     "output_type": "execute_result"
    }
   ],
   "source": [
    "#| eval: false\n",
    "np.abs(w-w2.cpu().numpy()).max(), np.abs(psi-psi2.cpu().numpy()).max()"
   ]
  },
  {
   "cell_type": "code",
   "execution_count": null,
   "metadata": {},
   "outputs": [
    {
     "data": {
      "text/plain": [
       "(0.028578706899830716, 2.5150604319357787e-06)"
      ]
     },
     "execution_count": null,
     "metadata": {},
     "output_type": "execute_result"
    }
   ],
   "source": [
    "#| eval: false\n",
    "((w-w2.cpu().numpy()) ** 2).mean(), ((psi-psi2.cpu().numpy()) ** 2).mean()"
   ]
  },
  {
   "cell_type": "markdown",
   "metadata": {},
   "source": [
    "# Export"
   ]
  },
  {
   "cell_type": "code",
   "execution_count": null,
   "metadata": {},
   "outputs": [],
   "source": [
    "#| hide\n",
    "import nbdev; nbdev.nbdev_export()"
   ]
  }
 ],
 "metadata": {
  "kernelspec": {
   "display_name": "python3",
   "name": "python3"
  },
  "widgets": {
   "application/vnd.jupyter.widget-state+json": {
    "17a0dca66da548afa15eade2aeb29ed5": {
     "model_module": "@jupyter-widgets/controls",
     "model_module_version": "1.5.0",
     "model_name": "DescriptionStyleModel",
     "state": {
      "_model_module": "@jupyter-widgets/controls",
      "_model_module_version": "1.5.0",
      "_model_name": "DescriptionStyleModel",
      "_view_count": null,
      "_view_module": "@jupyter-widgets/base",
      "_view_module_version": "1.2.0",
      "_view_name": "StyleView",
      "description_width": ""
     }
    },
    "285fed3e0b804987ab34f873b92c853c": {
     "model_module": "@jupyter-widgets/base",
     "model_module_version": "1.2.0",
     "model_name": "LayoutModel",
     "state": {
      "_model_module": "@jupyter-widgets/base",
      "_model_module_version": "1.2.0",
      "_model_name": "LayoutModel",
      "_view_count": null,
      "_view_module": "@jupyter-widgets/base",
      "_view_module_version": "1.2.0",
      "_view_name": "LayoutView",
      "align_content": null,
      "align_items": null,
      "align_self": null,
      "border": null,
      "bottom": null,
      "display": null,
      "flex": null,
      "flex_flow": null,
      "grid_area": null,
      "grid_auto_columns": null,
      "grid_auto_flow": null,
      "grid_auto_rows": null,
      "grid_column": null,
      "grid_gap": null,
      "grid_row": null,
      "grid_template_areas": null,
      "grid_template_columns": null,
      "grid_template_rows": null,
      "height": null,
      "justify_content": null,
      "justify_items": null,
      "left": null,
      "margin": null,
      "max_height": null,
      "max_width": null,
      "min_height": null,
      "min_width": null,
      "object_fit": null,
      "object_position": null,
      "order": null,
      "overflow": null,
      "overflow_x": null,
      "overflow_y": null,
      "padding": null,
      "right": null,
      "top": null,
      "visibility": null,
      "width": null
     }
    },
    "2d58ad25f46b44c287a20ad57723c02b": {
     "model_module": "@jupyter-widgets/controls",
     "model_module_version": "1.5.0",
     "model_name": "ProgressStyleModel",
     "state": {
      "_model_module": "@jupyter-widgets/controls",
      "_model_module_version": "1.5.0",
      "_model_name": "ProgressStyleModel",
      "_view_count": null,
      "_view_module": "@jupyter-widgets/base",
      "_view_module_version": "1.2.0",
      "_view_name": "StyleView",
      "bar_color": null,
      "description_width": ""
     }
    },
    "33ee0e33de2445688a1168171c36bf23": {
     "model_module": "@jupyter-widgets/controls",
     "model_module_version": "1.5.0",
     "model_name": "HTMLModel",
     "state": {
      "_dom_classes": [],
      "_model_module": "@jupyter-widgets/controls",
      "_model_module_version": "1.5.0",
      "_model_name": "HTMLModel",
      "_view_count": null,
      "_view_module": "@jupyter-widgets/controls",
      "_view_module_version": "1.5.0",
      "_view_name": "HTMLView",
      "description": "",
      "description_tooltip": null,
      "layout": "IPY_MODEL_285fed3e0b804987ab34f873b92c853c",
      "placeholder": "​",
      "style": "IPY_MODEL_7f7f3ddb55ab42b5b7a03219cbc2c06f",
      "value": "100%"
     }
    },
    "48f542fc66fb4263aa4a6d3e11c03e96": {
     "model_module": "@jupyter-widgets/controls",
     "model_module_version": "1.5.0",
     "model_name": "FloatProgressModel",
     "state": {
      "_dom_classes": [],
      "_model_module": "@jupyter-widgets/controls",
      "_model_module_version": "1.5.0",
      "_model_name": "FloatProgressModel",
      "_view_count": null,
      "_view_module": "@jupyter-widgets/controls",
      "_view_module_version": "1.5.0",
      "_view_name": "ProgressView",
      "bar_style": "success",
      "description": "",
      "description_tooltip": null,
      "layout": "IPY_MODEL_d071321ef3a143f0ada8a179cd1fbf82",
      "max": 100,
      "min": 0,
      "orientation": "horizontal",
      "style": "IPY_MODEL_2d58ad25f46b44c287a20ad57723c02b",
      "value": 100
     }
    },
    "7cbe7e0b34f14220aab96e7e6ed30bda": {
     "model_module": "@jupyter-widgets/controls",
     "model_module_version": "1.5.0",
     "model_name": "HTMLModel",
     "state": {
      "_dom_classes": [],
      "_model_module": "@jupyter-widgets/controls",
      "_model_module_version": "1.5.0",
      "_model_name": "HTMLModel",
      "_view_count": null,
      "_view_module": "@jupyter-widgets/controls",
      "_view_module_version": "1.5.0",
      "_view_name": "HTMLView",
      "description": "",
      "description_tooltip": null,
      "layout": "IPY_MODEL_d6f7be63ac524685a88a2576c491c058",
      "placeholder": "​",
      "style": "IPY_MODEL_17a0dca66da548afa15eade2aeb29ed5",
      "value": " 100/100 [00:20&lt;00:00,  4.78it/s]"
     }
    },
    "7f7f3ddb55ab42b5b7a03219cbc2c06f": {
     "model_module": "@jupyter-widgets/controls",
     "model_module_version": "1.5.0",
     "model_name": "DescriptionStyleModel",
     "state": {
      "_model_module": "@jupyter-widgets/controls",
      "_model_module_version": "1.5.0",
      "_model_name": "DescriptionStyleModel",
      "_view_count": null,
      "_view_module": "@jupyter-widgets/base",
      "_view_module_version": "1.2.0",
      "_view_name": "StyleView",
      "description_width": ""
     }
    },
    "838c81657bcf47429d92a0e9ce2df6d9": {
     "model_module": "@jupyter-widgets/controls",
     "model_module_version": "1.5.0",
     "model_name": "HBoxModel",
     "state": {
      "_dom_classes": [],
      "_model_module": "@jupyter-widgets/controls",
      "_model_module_version": "1.5.0",
      "_model_name": "HBoxModel",
      "_view_count": null,
      "_view_module": "@jupyter-widgets/controls",
      "_view_module_version": "1.5.0",
      "_view_name": "HBoxView",
      "box_style": "",
      "children": [
       "IPY_MODEL_33ee0e33de2445688a1168171c36bf23",
       "IPY_MODEL_48f542fc66fb4263aa4a6d3e11c03e96",
       "IPY_MODEL_7cbe7e0b34f14220aab96e7e6ed30bda"
      ],
      "layout": "IPY_MODEL_f8da199711f84e289e3969c0573ca774"
     }
    },
    "d071321ef3a143f0ada8a179cd1fbf82": {
     "model_module": "@jupyter-widgets/base",
     "model_module_version": "1.2.0",
     "model_name": "LayoutModel",
     "state": {
      "_model_module": "@jupyter-widgets/base",
      "_model_module_version": "1.2.0",
      "_model_name": "LayoutModel",
      "_view_count": null,
      "_view_module": "@jupyter-widgets/base",
      "_view_module_version": "1.2.0",
      "_view_name": "LayoutView",
      "align_content": null,
      "align_items": null,
      "align_self": null,
      "border": null,
      "bottom": null,
      "display": null,
      "flex": null,
      "flex_flow": null,
      "grid_area": null,
      "grid_auto_columns": null,
      "grid_auto_flow": null,
      "grid_auto_rows": null,
      "grid_column": null,
      "grid_gap": null,
      "grid_row": null,
      "grid_template_areas": null,
      "grid_template_columns": null,
      "grid_template_rows": null,
      "height": null,
      "justify_content": null,
      "justify_items": null,
      "left": null,
      "margin": null,
      "max_height": null,
      "max_width": null,
      "min_height": null,
      "min_width": null,
      "object_fit": null,
      "object_position": null,
      "order": null,
      "overflow": null,
      "overflow_x": null,
      "overflow_y": null,
      "padding": null,
      "right": null,
      "top": null,
      "visibility": null,
      "width": null
     }
    },
    "d6f7be63ac524685a88a2576c491c058": {
     "model_module": "@jupyter-widgets/base",
     "model_module_version": "1.2.0",
     "model_name": "LayoutModel",
     "state": {
      "_model_module": "@jupyter-widgets/base",
      "_model_module_version": "1.2.0",
      "_model_name": "LayoutModel",
      "_view_count": null,
      "_view_module": "@jupyter-widgets/base",
      "_view_module_version": "1.2.0",
      "_view_name": "LayoutView",
      "align_content": null,
      "align_items": null,
      "align_self": null,
      "border": null,
      "bottom": null,
      "display": null,
      "flex": null,
      "flex_flow": null,
      "grid_area": null,
      "grid_auto_columns": null,
      "grid_auto_flow": null,
      "grid_auto_rows": null,
      "grid_column": null,
      "grid_gap": null,
      "grid_row": null,
      "grid_template_areas": null,
      "grid_template_columns": null,
      "grid_template_rows": null,
      "height": null,
      "justify_content": null,
      "justify_items": null,
      "left": null,
      "margin": null,
      "max_height": null,
      "max_width": null,
      "min_height": null,
      "min_width": null,
      "object_fit": null,
      "object_position": null,
      "order": null,
      "overflow": null,
      "overflow_x": null,
      "overflow_y": null,
      "padding": null,
      "right": null,
      "top": null,
      "visibility": null,
      "width": null
     }
    },
    "f8da199711f84e289e3969c0573ca774": {
     "model_module": "@jupyter-widgets/base",
     "model_module_version": "1.2.0",
     "model_name": "LayoutModel",
     "state": {
      "_model_module": "@jupyter-widgets/base",
      "_model_module_version": "1.2.0",
      "_model_name": "LayoutModel",
      "_view_count": null,
      "_view_module": "@jupyter-widgets/base",
      "_view_module_version": "1.2.0",
      "_view_name": "LayoutView",
      "align_content": null,
      "align_items": null,
      "align_self": null,
      "border": null,
      "bottom": null,
      "display": null,
      "flex": null,
      "flex_flow": null,
      "grid_area": null,
      "grid_auto_columns": null,
      "grid_auto_flow": null,
      "grid_auto_rows": null,
      "grid_column": null,
      "grid_gap": null,
      "grid_row": null,
      "grid_template_areas": null,
      "grid_template_columns": null,
      "grid_template_rows": null,
      "height": null,
      "justify_content": null,
      "justify_items": null,
      "left": null,
      "margin": null,
      "max_height": null,
      "max_width": null,
      "min_height": null,
      "min_width": null,
      "object_fit": null,
      "object_position": null,
      "order": null,
      "overflow": null,
      "overflow_x": null,
      "overflow_y": null,
      "padding": null,
      "right": null,
      "top": null,
      "visibility": null,
      "width": null
     }
    }
   }
  }
 },
 "nbformat": 4,
 "nbformat_minor": 0
}
