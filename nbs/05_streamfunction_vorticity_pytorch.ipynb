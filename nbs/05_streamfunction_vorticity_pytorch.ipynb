{
 "cells": [
  {
   "cell_type": "markdown",
   "metadata": {},
   "source": [
    "# streamfunction_vorticity_pytorch_solvers\n",
    "\n",
    "> Solvers based on the PyTorch package for the full Navier-Stokes equations in the streamfunction-vorticity form"
   ]
  },
  {
   "cell_type": "code",
   "execution_count": null,
   "metadata": {},
   "outputs": [],
   "source": [
    "#| default_exp streamfunction_vorticity_pytorch"
   ]
  },
  {
   "cell_type": "markdown",
   "metadata": {},
   "source": [
    "# Imports"
   ]
  },
  {
   "cell_type": "code",
   "execution_count": null,
   "metadata": {},
   "outputs": [],
   "source": [
    "# Autoreload modules\n",
    "%load_ext autoreload\n",
    "%autoreload 2"
   ]
  },
  {
   "cell_type": "code",
   "execution_count": null,
   "metadata": {},
   "outputs": [],
   "source": [
    "#| export\n",
    "from uom_project import core\n",
    "\n",
    "import numpy as np\n",
    "\n",
    "import torch\n",
    "import torch.nn.functional as F"
   ]
  },
  {
   "cell_type": "code",
   "execution_count": null,
   "metadata": {},
   "outputs": [],
   "source": [
    "from uom_project import streamfunction_vorticity_newton\n",
    "\n",
    "from functools import partial\n",
    "\n",
    "from torch.func import jacfwd\n",
    "\n",
    "from fastcore.test import test_eq"
   ]
  },
  {
   "cell_type": "code",
   "execution_count": null,
   "metadata": {},
   "outputs": [],
   "source": [
    "newton_solver = streamfunction_vorticity_newton.newton_solver\n",
    "f = streamfunction_vorticity_newton.f\n",
    "get_jacobian = streamfunction_vorticity_newton.get_jacobian"
   ]
  },
  {
   "cell_type": "markdown",
   "metadata": {},
   "source": [
    "# PyTorch solver"
   ]
  },
  {
   "cell_type": "code",
   "execution_count": null,
   "metadata": {},
   "outputs": [],
   "source": [
    "#| exporti\n",
    "\n",
    "# Given the vorticity, solve the Poisson eqn. to find the streamfunction\n",
    "def f_pytorch(x, Re, U_wall_top):\n",
    "    N = int(np.sqrt(x.shape[0] // 2 + 1))\n",
    "    h = 1 / N\n",
    "\n",
    "    psi = x[:(N-1)**2].reshape(N-1, N-1)\n",
    "    w_left   = x[(N-1)**2 + 0*(N-1) : (N-1)**2 + 1*(N-1)][:, 0]\n",
    "    w_right  = x[(N-1)**2 + 1*(N-1) : (N-1)**2 + 2*(N-1)][:, 0]\n",
    "    w_bottom = x[(N-1)**2 + 2*(N-1) : (N-1)**2 + 3*(N-1)][:, 0]\n",
    "    w_top    = x[(N-1)**2 + 3*(N-1) : (N-1)**2 + 4*(N-1)][:, 0]\n",
    "    w_middle = x[(N-1)**2 + 4*(N-1) :].reshape(N-1, N-1)\n",
    "\n",
    "    # Calculate the equations coming from the Poisson equation\n",
    "    f_poisson = -4 * psi + h ** 2 * w_middle\n",
    "    f_poisson[:-1, :] += psi[1:, :]\n",
    "    f_poisson[1:, :] += psi[:-1, :]\n",
    "    f_poisson[:, :-1] += psi[:, 1:]\n",
    "    f_poisson[:, 1:] += psi[:, :-1]\n",
    "\n",
    "    # Calculate the sides first\n",
    "    # y = 0, U_wall = 0\n",
    "    f_w_bottom = h ** 2 * (w_middle[:, 0] + 3 * w_bottom) + 8 * psi[:, 0]\n",
    "    # y = 1, U_wall is known here\n",
    "    f_w_top = h ** 2 * (w_middle[:, -1] + 3 * w_top) + 8 * (\n",
    "        h * U_wall_top + psi[:, -1]\n",
    "    )\n",
    "    # x = 0\n",
    "    f_w_left = h ** 2 * (w_middle[0, :] + 3 * w_left) + 8 * psi[0, :]\n",
    "    # x = 1\n",
    "    f_w_right = h ** 2 * (w_middle[-1, :] + 3 * w_right) + 8 * psi[-1, :]\n",
    "\n",
    "    f_w_middle = -4 * w_middle\n",
    "    f_w_middle[:-1, :] += w_middle[1:, :]\n",
    "    f_w_middle[-1:, :] += w_right\n",
    "    f_w_middle[1:, :] += w_middle[:-1, :]\n",
    "    f_w_middle[:1, :] += w_left\n",
    "    f_w_middle[:, :-1] += w_middle[:, 1:]\n",
    "    f_w_middle[:, -1] += w_top\n",
    "    f_w_middle[:, 1:] += w_middle[:, :-1]\n",
    "    f_w_middle[:, 0] += w_bottom\n",
    "\n",
    "    f_w_middle[1:-1, 1:-1] += Re * (\n",
    "        (psi[2:, 1:-1] - psi[:-2, 1:-1]) * (w_middle[1:-1, 2:] - w_middle[1:-1, :-2]) -\n",
    "        (psi[1:-1, 2:] - psi[1:-1, :-2]) * (w_middle[2:, 1:-1] - w_middle[:-2, 1:-1])\n",
    "    ) / 4\n",
    "    f_w_middle[:1, 1:-1] += Re * (\n",
    "        psi[1, 1:-1] * (w_middle[0, 2:] - w_middle[0, :-2]) -\n",
    "        (psi[0, 2:] - psi[0, :-2]) * (w_middle[1, 1:-1] - w_left[1:-1])\n",
    "    ) / 4\n",
    "    f_w_middle[-1:, 1:-1] -= Re * (\n",
    "        psi[-2, 1:-1] * (w_middle[-1, 2:] - w_middle[-1, :-2]) +\n",
    "        (psi[-1, 2:] - psi[-1, :-2]) * (w_right[1:-1] - w_middle[-2, 1:-1])\n",
    "    ) / 4\n",
    "    f_w_middle[1:-1, 0] += Re * (\n",
    "        (psi[2:, 0] - psi[:-2, 0]) * (w_middle[1:-1, 1] - w_bottom[1:-1]) -\n",
    "        psi[1:-1, 1] * (w_middle[2:, 0] - w_middle[:-2, 0])\n",
    "    ) / 4\n",
    "    f_w_middle[1:-1, -1] += Re * (\n",
    "        (psi[2:, -1] - psi[:-2, -1]) * (w_top[1:-1] - w_middle[1:-1, -2]) +\n",
    "        psi[1:-1, -2] * (w_middle[2:, -1] - w_middle[:-2, -1])\n",
    "    ) / 4\n",
    "    f_w_middle[0, 0] += Re * (\n",
    "        psi[1, 0] * (w_middle[0, 1] - w_bottom[0]) -\n",
    "        psi[0, 1] * (w_middle[1, 0] - w_left[0])\n",
    "    ) / 4\n",
    "    f_w_middle[-1, 0] -= Re * (\n",
    "        psi[-2, 0] * (w_middle[-1, 1] - w_bottom[-1]) +\n",
    "        psi[-1, 1] * (w_right[0] - w_middle[-2, 0])\n",
    "    ) / 4\n",
    "    f_w_middle[0, -1] += Re * (\n",
    "        psi[1, -1] * (w_top[0] - w_middle[0, -2]) +\n",
    "        psi[0, -2] * (w_middle[1, -1] - w_left[-1])\n",
    "    ) / 4\n",
    "    f_w_middle[-1, -1] -= Re * (\n",
    "        psi[-2, -1] * (w_top[-1] - w_middle[-1, -2]) -\n",
    "        psi[-1, -2] * (w_right[-1] - w_middle[-2, -1])\n",
    "    ) / 4\n",
    "\n",
    "    return torch.hstack([\n",
    "        f_poisson.flatten(), f_w_left, f_w_right, f_w_bottom, f_w_top,\n",
    "        f_w_middle.flatten()\n",
    "    ])[:, None]\n",
    "\n",
    "\n",
    "def reconstruct_w_pytorch(w_tmp, N, device):\n",
    "    w = torch.zeros((N+1, N+1), device=device)\n",
    "\n",
    "    w[:1, 1:-1] = w_tmp[0*(N-1):1*(N-1)].T\n",
    "    w[-1:, 1:-1] = w_tmp[1*(N-1):2*(N-1)].T\n",
    "    w[1:-1, :1] = w_tmp[2*(N-1):3*(N-1)]\n",
    "    w[1:-1, -1:] = w_tmp[3*(N-1):4*(N-1)]\n",
    "    w[1:-1, 1:-1] = w_tmp[4*(N-1):].reshape((N - 1, N - 1))\n",
    "\n",
    "    return w\n",
    "\n",
    "\n",
    "def newton_iterator_pytorch(\n",
    "    f, get_jacobian, N, Re, U_wall_top, device,\n",
    "    algorithm=\"base\", TOL=1e-8, max_iter=10, quiet=True\n",
    "):\n",
    "    '''\n",
    "        - f: evaluates the function given x, Re\n",
    "        - get_jacobian: evaluates the Jacobian given N, h\n",
    "        - N: number of grid points\n",
    "        - h: grid size\n",
    "        - Re: Reynolds number\n",
    "    '''\n",
    "\n",
    "    n_iter = 0 # number of iterations\n",
    "\n",
    "    # Initialization\n",
    "    # Size (N - 1) ** 2         + (N + 1) ** 2    - 4\n",
    "    # Size (for streamfunction) + (for vorticity) - (corners of vorticity)\n",
    "    x = torch.zeros(((N - 1) ** 2 + (N + 1) ** 2 - 4, 1), device=device).double()\n",
    "    f_current = f(x=x, Re=Re, U_wall_top=U_wall_top)\n",
    "\n",
    "    # Check if the initial guess is a solution\n",
    "    f_norm = torch.linalg.norm(f_current)\n",
    "    if f_norm <= TOL:\n",
    "        if not quiet:\n",
    "            print(f\"n_iter={n_iter}\")\n",
    "\n",
    "        return x, n_iter\n",
    "\n",
    "    while n_iter < max_iter:\n",
    "        n_iter += 1\n",
    "        jacobian = get_jacobian(x, Re, U_wall_top).squeeze()\n",
    "\n",
    "        kwargs = {}\n",
    "        if algorithm == \"lstsq\" and device.type == \"cpu\":\n",
    "            kwargs[\"driver\"] = \"gels\"\n",
    "        dx = core.solve_sparse_linear_system_pytorch(\n",
    "            A=jacobian, b=-f_current, algorithm=algorithm, **kwargs\n",
    "        )\n",
    "        x_next = x + dx\n",
    "\n",
    "        f_current = f(x=x_next, Re=Re, U_wall_top=U_wall_top)\n",
    "\n",
    "        f_norm = torch.linalg.norm(f_current)\n",
    "        if not quiet:\n",
    "            print(f\"iter={n_iter}; residual={f_norm}; dx={torch.linalg.norm(dx)}\")\n",
    "        if f_norm <= TOL:\n",
    "            break\n",
    "\n",
    "        x = x_next\n",
    "\n",
    "    if not quiet:\n",
    "        print(f\"n_iter={n_iter}\")\n",
    "\n",
    "    return x_next, n_iter\n"
   ]
  },
  {
   "cell_type": "code",
   "execution_count": null,
   "metadata": {},
   "outputs": [],
   "source": [
    "#| export\n",
    "def newton_solver_pytorch(\n",
    "    f, get_jacobian, N, Re, U_wall_top, device,\n",
    "    algorithm=\"base\", TOL=1e-8, max_iter=10, quiet=True\n",
    "):\n",
    "\n",
    "    solution, n_iter = newton_iterator_pytorch(\n",
    "        f=f, get_jacobian=get_jacobian, N=N, Re=Re, U_wall_top=U_wall_top,\n",
    "        algorithm=algorithm, device=device,\n",
    "        TOL=TOL, max_iter=max_iter, quiet=quiet\n",
    "    )\n",
    "\n",
    "    psi, w = solution[:(N - 1) ** 2], solution[(N - 1) ** 2:]\n",
    "\n",
    "    # Get final psi\n",
    "    psi = psi.reshape(N - 1, N - 1)\n",
    "    psi = F.pad(psi, (1, 1, 1, 1), mode=\"constant\", value=0)\n",
    "\n",
    "    # Get final w\n",
    "    w = reconstruct_w_pytorch(w_tmp=w, N=N, device=device)\n",
    "    w = w.reshape(N + 1, N + 1)\n",
    "\n",
    "    return w, psi, n_iter\n"
   ]
  },
  {
   "cell_type": "code",
   "execution_count": null,
   "metadata": {},
   "outputs": [],
   "source": [
    "device = torch.device(\"cpu\")"
   ]
  },
  {
   "cell_type": "code",
   "execution_count": null,
   "metadata": {},
   "outputs": [
    {
     "name": "stdout",
     "output_type": "stream",
     "text": [
      "iter=1; residual=1.7911801483628596e-14; dx=39.71450822732799\n",
      "n_iter=1\n",
      "iter=1; residual=2.1011348048587708e-14; dx=39.71450822732806\n",
      "n_iter=1\n"
     ]
    }
   ],
   "source": [
    "N = 20\n",
    "Re = 0 # i.e. viscosity mu = inf\n",
    "U_wall_top = torch.sin(torch.pi * torch.arange(1, N, device=device) / N) ** 2\n",
    "\n",
    "w, psi, _ = newton_solver(\n",
    "    f=partial(f, U_wall_top=U_wall_top.numpy()),\n",
    "    get_jacobian=get_jacobian, N=N, Re=Re, quiet=False\n",
    ")\n",
    "\n",
    "w2, psi2, n_iter = newton_solver_pytorch(\n",
    "    f=f_pytorch,\n",
    "    get_jacobian=jacfwd(f_pytorch),\n",
    "    U_wall_top=U_wall_top,\n",
    "    device=device,\n",
    "    N=N, Re=Re, quiet=False,\n",
    "    algorithm=\"lu_solve\",\n",
    ")\n",
    "test_eq(np.allclose(w, w2), True)\n",
    "test_eq(np.allclose(psi, psi2), True)\n",
    "test_eq(n_iter, 1)"
   ]
  },
  {
   "cell_type": "code",
   "execution_count": null,
   "metadata": {},
   "outputs": [
    {
     "name": "stdout",
     "output_type": "stream",
     "text": [
      "iter=1; residual=1.083638203557906; dx=39.71450822732799\n",
      "iter=2; residual=0.0015404929055467538; dx=2.273926787770746\n",
      "iter=3; residual=8.799675190900906e-10; dx=0.0014642597246177327\n",
      "n_iter=3\n",
      "iter=1; residual=1.0836382035579217; dx=39.71450822732806\n",
      "iter=2; residual=0.0015404929055476135; dx=2.2739267877708866\n",
      "iter=3; residual=8.79969278773733e-10; dx=0.0014642597246035385\n",
      "n_iter=3\n"
     ]
    }
   ],
   "source": [
    "N = 20\n",
    "Re = 10\n",
    "U_wall_top = torch.sin(torch.pi * torch.arange(1, N, device=device) / N) ** 2\n",
    "\n",
    "w, psi, _ = newton_solver(\n",
    "    f=partial(f, U_wall_top=U_wall_top.numpy()),\n",
    "    get_jacobian=get_jacobian, N=N, Re=Re, quiet=False\n",
    ")\n",
    "\n",
    "w2, psi2, n_iter = newton_solver_pytorch(\n",
    "    f=f_pytorch,\n",
    "    get_jacobian=jacfwd(f_pytorch),\n",
    "    U_wall_top=U_wall_top,\n",
    "    device=device,\n",
    "    N=N, Re=Re, quiet=False,\n",
    "    algorithm=\"lu_solve\",\n",
    ")\n",
    "test_eq(np.allclose(w, w2), True)\n",
    "test_eq(np.allclose(psi, psi2), True)\n",
    "test_eq(n_iter, 3)"
   ]
  },
  {
   "cell_type": "code",
   "execution_count": null,
   "metadata": {},
   "outputs": [
    {
     "name": "stdout",
     "output_type": "stream",
     "text": [
      "iter=1; residual=5.302183624903517; dx=92.25374180247306\n",
      "iter=2; residual=0.006521635545197795; dx=4.117563911077406\n",
      "iter=3; residual=3.950959235746444e-09; dx=0.003689348557295655\n",
      "n_iter=3\n",
      "iter=1; residual=5.30218362490356; dx=92.25374180247339\n",
      "iter=2; residual=0.006521635545205954; dx=4.117563911077487\n",
      "iter=3; residual=3.950961348542755e-09; dx=0.003689348557313448\n",
      "n_iter=3\n"
     ]
    }
   ],
   "source": [
    "N = 20\n",
    "Re = 10\n",
    "U_wall_top = 1.0\n",
    "\n",
    "w, psi, _ = newton_solver(\n",
    "    f=partial(f, U_wall_top=U_wall_top),\n",
    "    get_jacobian=get_jacobian, N=N, Re=Re, quiet=False\n",
    ")\n",
    "\n",
    "w2, psi2, n_iter = newton_solver_pytorch(\n",
    "    f=f_pytorch,\n",
    "    get_jacobian=jacfwd(f_pytorch),\n",
    "    U_wall_top=U_wall_top,\n",
    "    device=device,\n",
    "    N=N, Re=Re, quiet=False,\n",
    "    algorithm=\"lu_solve\",\n",
    ")\n",
    "test_eq(np.allclose(w, w2), True)\n",
    "test_eq(np.allclose(psi, psi2), True)\n",
    "test_eq(n_iter, 3)"
   ]
  },
  {
   "cell_type": "code",
   "execution_count": null,
   "metadata": {},
   "outputs": [],
   "source": [
    "N = 20\n",
    "Re = 10\n",
    "U_wall_top = torch.sin(torch.pi * torch.arange(1, N, device=device) / N) ** 2\n",
    "\n",
    "fun = partial(f, U_wall_top=U_wall_top.numpy())"
   ]
  },
  {
   "cell_type": "code",
   "execution_count": null,
   "metadata": {},
   "outputs": [
    {
     "name": "stdout",
     "output_type": "stream",
     "text": [
      "1.24 s ± 214 ms per loop (mean ± std. dev. of 7 runs, 1 loop each)\n"
     ]
    }
   ],
   "source": [
    "#| eval: false\n",
    "%timeit newton_solver(f=fun, get_jacobian=get_jacobian, N=N, Re=Re)"
   ]
  },
  {
   "cell_type": "code",
   "execution_count": null,
   "metadata": {},
   "outputs": [
    {
     "name": "stdout",
     "output_type": "stream",
     "text": [
      "332 ms ± 92.1 ms per loop (mean ± std. dev. of 7 runs, 1 loop each)\n"
     ]
    }
   ],
   "source": [
    "#| eval: false\n",
    "%timeit newton_solver_pytorch(f=f_pytorch, get_jacobian=jacfwd(f_pytorch), U_wall_top=U_wall_top, device=device, N=N, Re=Re, algorithm=\"lu_solve\")"
   ]
  },
  {
   "cell_type": "code",
   "execution_count": null,
   "metadata": {},
   "outputs": [
    {
     "name": "stdout",
     "output_type": "stream",
     "text": [
      "345 ms ± 22.3 ms per loop (mean ± std. dev. of 7 runs, 1 loop each)\n"
     ]
    }
   ],
   "source": [
    "#| eval: false\n",
    "%timeit newton_solver_pytorch(f=f_pytorch, get_jacobian=jacfwd(f_pytorch), U_wall_top=U_wall_top, device=device, N=N, Re=Re, algorithm=\"lstsq\")"
   ]
  },
  {
   "cell_type": "markdown",
   "metadata": {},
   "source": [
    "## Test on GPU"
   ]
  },
  {
   "cell_type": "code",
   "execution_count": null,
   "metadata": {},
   "outputs": [
    {
     "data": {
      "text/plain": [
       "device(type='cuda')"
      ]
     },
     "execution_count": null,
     "metadata": {},
     "output_type": "execute_result"
    }
   ],
   "source": [
    "#| eval: false\n",
    "device = torch.device(\"cuda\" if torch.cuda.is_available() else \"cpu\")\n",
    "device"
   ]
  },
  {
   "cell_type": "code",
   "execution_count": null,
   "metadata": {},
   "outputs": [],
   "source": [
    "if device.type == \"cuda\":\n",
    "    N = 40\n",
    "    Re = 10\n",
    "    U_wall_top = torch.sin(torch.pi * torch.arange(1, N, device=device) / N) ** 2\n",
    "\n",
    "    fun = partial(f, U_wall_top=U_wall_top.cpu().numpy())\n",
    "\n",
    "    jac = jacfwd(f_pytorch)\n"
   ]
  },
  {
   "cell_type": "code",
   "execution_count": null,
   "metadata": {},
   "outputs": [
    {
     "name": "stdout",
     "output_type": "stream",
     "text": [
      "2.92 s ± 437 ms per loop (mean ± std. dev. of 7 runs, 1 loop each)\n"
     ]
    }
   ],
   "source": [
    "#| eval: false\n",
    "if device.type == \"cuda\":\n",
    "    %timeit newton_solver(f=fun, get_jacobian=get_jacobian, N=N, Re=Re)"
   ]
  },
  {
   "cell_type": "code",
   "execution_count": null,
   "metadata": {},
   "outputs": [
    {
     "name": "stdout",
     "output_type": "stream",
     "text": [
      "517 ms ± 3.03 ms per loop (mean ± std. dev. of 7 runs, 1 loop each)\n"
     ]
    }
   ],
   "source": [
    "#| eval: false\n",
    "if device.type == \"cuda\":\n",
    "    %timeit newton_solver_pytorch(f=f_pytorch, get_jacobian=jac, U_wall_top=U_wall_top, device=device, N=N, Re=Re, algorithm=\"lu_solve\")"
   ]
  },
  {
   "cell_type": "markdown",
   "metadata": {},
   "source": [
    "# PyTorch LBFGS solver"
   ]
  },
  {
   "cell_type": "code",
   "execution_count": null,
   "metadata": {},
   "outputs": [],
   "source": [
    "def lbfgs_solver_pytorch(\n",
    "    f, N, Re, U_wall_top, device, n_steps=100, line_search_fn=None, max_iter=20,\n",
    "):\n",
    "    solution = torch.zeros(\n",
    "        ((N - 1) ** 2 + (N + 1) ** 2 - 4, 1), device=device, requires_grad=True,\n",
    "    )\n",
    "    optimizer = torch.optim.LBFGS(\n",
    "        [solution], lr=1.0, max_iter=max_iter, line_search_fn=line_search_fn,\n",
    "        tolerance_grad=1e-10,\n",
    "    )\n",
    "\n",
    "    loss_fn = lambda x, Re, U_wall_top: f(x, Re, U_wall_top).pow(2).sum()\n",
    "    losses = []\n",
    "\n",
    "    def closure():\n",
    "        optimizer.zero_grad()\n",
    "\n",
    "        loss = loss_fn(solution, Re, U_wall_top)\n",
    "        loss.backward()\n",
    "\n",
    "        losses.append(loss.detach())\n",
    "\n",
    "        return loss\n",
    "\n",
    "    for i in range(n_steps):\n",
    "        optimizer.step(closure)\n",
    "\n",
    "    losses = torch.tensor(losses).cpu()\n",
    "    print(min(losses))\n",
    "\n",
    "    solution = solution.detach()\n",
    "    psi, w = solution[:(N - 1) ** 2], solution[(N - 1) ** 2:]\n",
    "\n",
    "    # Get final psi\n",
    "    psi = psi.reshape(N - 1, N - 1)\n",
    "    psi = F.pad(psi, (1, 1, 1, 1), mode=\"constant\", value=0)\n",
    "\n",
    "    # Get final w\n",
    "    w = reconstruct_w_pytorch(w_tmp=w, N=N, device=device)\n",
    "    w = w.reshape(N + 1, N + 1)\n",
    "\n",
    "    return w, psi, losses\n"
   ]
  },
  {
   "cell_type": "code",
   "execution_count": null,
   "metadata": {},
   "outputs": [],
   "source": [
    "device = torch.device(\"cpu\")"
   ]
  },
  {
   "cell_type": "code",
   "execution_count": null,
   "metadata": {},
   "outputs": [
    {
     "name": "stdout",
     "output_type": "stream",
     "text": [
      "iter=1; residual=1.083638203557906; dx=39.71450822732799\n",
      "iter=2; residual=0.0015404929055467538; dx=2.273926787770746\n",
      "iter=3; residual=8.799675190900906e-10; dx=0.0014642597246177327\n",
      "n_iter=3\n",
      "tensor(0.0006)\n"
     ]
    }
   ],
   "source": [
    "#| eval: false\n",
    "N = 20\n",
    "Re = 10\n",
    "U_wall_top = torch.sin(torch.pi * torch.arange(1, N, device=device) / N) ** 2\n",
    "\n",
    "w, psi, _ = newton_solver(\n",
    "    f=partial(f, U_wall_top=U_wall_top.cpu().numpy()),\n",
    "    get_jacobian=get_jacobian, N=N, Re=Re, quiet=False\n",
    ")\n",
    "\n",
    "w2, psi2, losses = lbfgs_solver_pytorch(\n",
    "    f=f_pytorch, N=N, Re=Re, U_wall_top=U_wall_top,\n",
    "    device=device,\n",
    "    line_search_fn=\"strong_wolfe\",\n",
    "    n_steps=100, max_iter=20,\n",
    ")\n",
    "test_eq(np.allclose(w, w2.cpu()), False)\n",
    "test_eq(np.allclose(psi, psi2.cpu()), False)"
   ]
  },
  {
   "cell_type": "code",
   "execution_count": null,
   "metadata": {},
   "outputs": [
    {
     "data": {
      "image/png": "[encoded data removed]",
      "text/plain": [
       "<Figure size 640x480 with 1 Axes>"
      ]
     },
     "metadata": {},
     "output_type": "display_data"
    }
   ],
   "source": [
    "#| eval: false\n",
    "import matplotlib.pyplot as plt\n",
    "\n",
    "plt.plot(losses);"
   ]
  },
  {
   "cell_type": "code",
   "execution_count": null,
   "metadata": {},
   "outputs": [
    {
     "data": {
      "text/plain": [
       "(2.181970350966864, 0.004217433334225779)"
      ]
     },
     "execution_count": null,
     "metadata": {},
     "output_type": "execute_result"
    }
   ],
   "source": [
    "#| eval: false\n",
    "np.abs(w-w2.cpu().numpy()).max(), np.abs(psi-psi2.cpu().numpy()).max()"
   ]
  },
  {
   "cell_type": "code",
   "execution_count": null,
   "metadata": {},
   "outputs": [
    {
     "data": {
      "text/plain": [
       "(0.20580520618887085, 2.8236501072078815e-06)"
      ]
     },
     "execution_count": null,
     "metadata": {},
     "output_type": "execute_result"
    }
   ],
   "source": [
    "#| eval: false\n",
    "((w-w2.cpu().numpy()) ** 2).mean(), ((psi-psi2.cpu().numpy()) ** 2).mean()"
   ]
  },
  {
   "cell_type": "markdown",
   "metadata": {},
   "source": [
    "# Export"
   ]
  },
  {
   "cell_type": "code",
   "execution_count": null,
   "metadata": {},
   "outputs": [],
   "source": [
    "#| hide\n",
    "import nbdev; nbdev.nbdev_export()"
   ]
  }
 ],
 "metadata": {
  "kernelspec": {
   "display_name": "python3",
   "name": "python3"
  }
 },
 "nbformat": 4,
 "nbformat_minor": 0
}
