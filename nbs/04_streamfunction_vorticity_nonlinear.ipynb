{
 "cells": [
  {
   "cell_type": "markdown",
   "metadata": {},
   "source": [
    "# Imports"
   ]
  },
  {
   "cell_type": "code",
   "execution_count": null,
   "metadata": {},
   "outputs": [],
   "source": [
    "# Autoreload modules\n",
    "%load_ext autoreload\n",
    "%autoreload 2"
   ]
  },
  {
   "cell_type": "code",
   "execution_count": null,
   "metadata": {},
   "outputs": [],
   "source": [
    "from uom_project import poisson_solvers, streamfunction_vorticity_newton\n",
    "\n",
    "import numpy as np\n",
    "import scipy\n",
    "from scipy import sparse"
   ]
  },
  {
   "cell_type": "code",
   "execution_count": null,
   "metadata": {},
   "outputs": [],
   "source": [
    "from functools import partial\n",
    "\n",
    "from fastcore.test import test_eq, test_close"
   ]
  },
  {
   "cell_type": "markdown",
   "metadata": {},
   "source": [
    "# Nonlinear solvers"
   ]
  },
  {
   "cell_type": "markdown",
   "metadata": {},
   "source": [
    "## Root"
   ]
  },
  {
   "cell_type": "code",
   "execution_count": null,
   "metadata": {},
   "outputs": [],
   "source": [
    "# Given the vorticity, solve the Poisson eqn. to find the streamfunction\n",
    "def get_standard_basis_vector(size, i):\n",
    "    vec = np.zeros((size, ))\n",
    "    vec[i] = 1.0\n",
    "    \n",
    "    return vec\n",
    "\n",
    "\n",
    "def make_get_jacobian(f, sparse=False):\n",
    "    def get_jacobian(x, Re, kernel_matrix):\n",
    "        N = int(np.sqrt(x.shape[0] // 2 + 1))\n",
    "        h = 1 / N\n",
    "\n",
    "        f_evaluated = f(x=x, Re=Re, kernel_matrix=kernel_matrix)\n",
    "\n",
    "        out = np.vstack([(\n",
    "                f(\n",
    "                    x=x + h*get_standard_basis_vector(size=x.shape[0], i=i),\n",
    "                    Re=Re, kernel_matrix=kernel_matrix\n",
    "                ) -\n",
    "                f_evaluated\n",
    "            ) for i in range(x.shape[0])\n",
    "        ]).T / h\n",
    "\n",
    "        if sparse: out = scipy.sparse.csr_matrix(out)\n",
    "\n",
    "        return out\n",
    "\n",
    "    return get_jacobian\n",
    "\n",
    "\n",
    "def f(x, Re, kernel_matrix, U_wall_top):\n",
    "    N = int(np.sqrt(x.shape[0] // 2 + 1))\n",
    "    h = 1 / N\n",
    "\n",
    "    psi = x[:(N-1)**2]\n",
    "    w_left   = x[(N-1)**2 + 0*(N-1) : (N-1)**2 + 1*(N-1)]\n",
    "    w_right  = x[(N-1)**2 + 1*(N-1) : (N-1)**2 + 2*(N-1)]\n",
    "    w_bottom = x[(N-1)**2 + 2*(N-1) : (N-1)**2 + 3*(N-1)]\n",
    "    w_top    = x[(N-1)**2 + 3*(N-1) : (N-1)**2 + 4*(N-1)]\n",
    "    w_middle = x[(N-1)**2 + 4*(N-1) :]\n",
    "\n",
    "    # Calculate the equations coming from the Poisson equation\n",
    "    f_poisson = kernel_matrix @ psi\n",
    "    f_poisson = f_poisson + h ** 2 * w_middle\n",
    "\n",
    "    psi = psi.reshape(N-1, N-1)\n",
    "\n",
    "    # Calculate contributions coming from the vorticity transport equation\n",
    "    w_middle = w_middle.reshape(N-1, N-1)\n",
    "    \n",
    "    # Calculate the sides first\n",
    "    # y = 0, U_wall = 0\n",
    "    f_w_bottom = h ** 2 * (w_middle[:, 0] + 3 * w_bottom) + 8 * psi[:, 0]\n",
    "    # y = 1, U_wall is known here\n",
    "    f_w_top = h ** 2 * (w_middle[:, -1] + 3 * w_top) + 8 * (\n",
    "        h * U_wall_top + psi[:, -1]\n",
    "    )\n",
    "    # x = 0\n",
    "    f_w_left = h ** 2 * (w_middle[0, :] + 3 * w_left) + 8 * psi[0, :]\n",
    "    # x = 1\n",
    "    f_w_right = h ** 2 * (w_middle[-1, :] + 3 * w_right) + 8 * psi[-1, :]\n",
    "\n",
    "    f_w_middle = -4 * w_middle\n",
    "    f_w_middle[:-1, :] += w_middle[1:, :]\n",
    "    f_w_middle[-1:, :] += w_right\n",
    "    f_w_middle[1:, :] += w_middle[:-1, :]\n",
    "    f_w_middle[:1, :] += w_left\n",
    "    f_w_middle[:, :-1] += w_middle[:, 1:]\n",
    "    f_w_middle[:, -1] += w_top\n",
    "    f_w_middle[:, 1:] += w_middle[:, :-1]\n",
    "    f_w_middle[:, 0] += w_bottom\n",
    "\n",
    "    f_w_middle[1:-1, 1:-1] += Re * (\n",
    "        (psi[2:, 1:-1] - psi[:-2, 1:-1]) * (w_middle[1:-1, 2:] - w_middle[1:-1, :-2]) -\n",
    "        (psi[1:-1, 2:] - psi[1:-1, :-2]) * (w_middle[2:, 1:-1] - w_middle[:-2, 1:-1])\n",
    "    ) / 4\n",
    "    f_w_middle[:1, 1:-1] += Re * (\n",
    "        psi[1, 1:-1] * (w_middle[0, 2:] - w_middle[0, :-2]) -\n",
    "        (psi[0, 2:] - psi[0, :-2]) * (w_middle[1, 1:-1] - w_left[1:-1])\n",
    "    ) / 4\n",
    "    f_w_middle[-1:, 1:-1] -= Re * (\n",
    "        psi[-2, 1:-1] * (w_middle[-1, 2:] - w_middle[-1, :-2]) +\n",
    "        (psi[-1, 2:] - psi[-1, :-2]) * (w_right[1:-1] - w_middle[-2, 1:-1])\n",
    "    ) / 4\n",
    "    f_w_middle[1:-1, 0] += Re * (\n",
    "        (psi[2:, 0] - psi[:-2, 0]) * (w_middle[1:-1, 1] - w_bottom[1:-1]) -\n",
    "        psi[1:-1, 1] * (w_middle[2:, 0] - w_middle[:-2, 0])\n",
    "    ) / 4\n",
    "    f_w_middle[1:-1, -1] += Re * (\n",
    "        (psi[2:, -1] - psi[:-2, -1]) * (w_top[1:-1] - w_middle[1:-1, -2]) +\n",
    "        psi[1:-1, -2] * (w_middle[2:, -1] - w_middle[:-2, -1])\n",
    "    ) / 4\n",
    "    f_w_middle[0, 0] += Re * (\n",
    "        psi[1, 0] * (w_middle[0, 1] - w_bottom[0]) -\n",
    "        psi[0, 1] * (w_middle[1, 0] - w_left[0])\n",
    "    ) / 4\n",
    "    f_w_middle[-1, 0] -= Re * (\n",
    "        psi[-2, 0] * (w_middle[-1, 1] - w_bottom[-1]) +\n",
    "        psi[-1, 1] * (w_right[0] - w_middle[-2, 0])\n",
    "    ) / 4\n",
    "    f_w_middle[0, -1] += Re * (\n",
    "        psi[1, -1] * (w_top[0] - w_middle[0, -2]) +\n",
    "        psi[0, -2] * (w_middle[1, -1] - w_left[-1])\n",
    "    ) / 4\n",
    "    f_w_middle[-1, -1] -= Re * (\n",
    "        psi[-2, -1] * (w_top[-1] - w_middle[-1, -2]) -\n",
    "        psi[-1, -2] * (w_right[-1] - w_middle[-2, -1])\n",
    "    ) / 4\n",
    "\n",
    "    return np.concatenate([\n",
    "        f_poisson, f_w_left, f_w_right, f_w_bottom, f_w_top, f_w_middle.flatten()\n",
    "    ], axis=0)\n",
    "\n",
    "\n",
    "def make_f(U_wall_top):\n",
    "    return partial(f, U_wall_top=U_wall_top)\n"
   ]
  },
  {
   "cell_type": "code",
   "execution_count": null,
   "metadata": {},
   "outputs": [],
   "source": [
    "def nonlinear_root_solver(f, N, Re, algorithm, **kwargs):\n",
    "   \n",
    "    solution = scipy.optimize.root(\n",
    "        fun=f,\n",
    "        x0=np.zeros(((N - 1) ** 2 + (N + 1) ** 2 - 4, )),\n",
    "        method=algorithm,\n",
    "        args=(\n",
    "            Re, poisson_solvers.construct_laplacian_kernel_matrix(N=N-1, h=1),\n",
    "        ),\n",
    "        **kwargs,\n",
    "    )\n",
    "\n",
    "    psi, w = solution.x[:(N - 1) ** 2], solution.x[(N - 1) ** 2:]\n",
    "    \n",
    "    # Get final psi\n",
    "    psi = psi.reshape(N - 1, N - 1)\n",
    "    psi = np.pad(psi, (1, 1), mode=\"constant\", constant_values=0)\n",
    "    \n",
    "    # Get final w\n",
    "    w = streamfunction_vorticity_newton.reconstruct_w(w_tmp=w[:, None], N=N)\n",
    "    w = w.reshape(N + 1, N + 1)\n",
    "    \n",
    "    return w, psi, solution"
   ]
  },
  {
   "cell_type": "code",
   "execution_count": null,
   "metadata": {},
   "outputs": [
    {
     "name": "stdout",
     "output_type": "stream",
     "text": [
      " message: A solution was found at the specified tolerance.\n",
      " success: True\n",
      "  status: 1\n",
      "     fun: [-3.346e-13  2.769e-13 ...  6.111e-13  5.016e-13]\n",
      "       x: [ 2.136e-06 -2.671e-05 ...  1.121e+00  5.920e-01]\n",
      "     nit: 410\n",
      "CPU times: user 529 ms, sys: 12.2 ms, total: 541 ms\n",
      "Wall time: 625 ms\n"
     ]
    }
   ],
   "source": [
    "%%time\n",
    "\n",
    "N = 20\n",
    "Re = 0 # i.e. viscosity mu = inf\n",
    "U_wall_top = np.sin(np.pi * np.arange(1, N) / N) ** 2\n",
    "\n",
    "w, psi, n_iter = streamfunction_vorticity_newton.newton_solver(\n",
    "    f=partial(streamfunction_vorticity_newton.f, U_wall_top=U_wall_top),\n",
    "    get_jacobian=streamfunction_vorticity_newton.get_jacobian, N=N, Re=Re,\n",
    ")\n",
    "\n",
    "fun = make_f(U_wall_top=U_wall_top)\n",
    "jac = make_get_jacobian(f=fun)\n",
    "options = {\n",
    "    \"line_search\": None,\n",
    "    \"jac_options\": {\n",
    "        \"reduction_method\": \"restart\",\n",
    "    },\n",
    "}\n",
    "w2, psi2, solution = nonlinear_root_solver(\n",
    "    f=fun, N=N, Re=Re,\n",
    "    algorithm=\"broyden2\",\n",
    "    options=options,\n",
    "    tol=1e-12,\n",
    ")\n",
    "print(solution)\n",
    "\n",
    "test_eq(np.allclose(w, w2), True)\n",
    "test_eq(np.allclose(psi, psi2), True)\n",
    "test_close(w, w2, eps=1e-8)\n",
    "test_close(psi, psi2, eps=1e-8)\n",
    "test_eq(n_iter, 1)"
   ]
  },
  {
   "cell_type": "code",
   "execution_count": null,
   "metadata": {},
   "outputs": [
    {
     "name": "stdout",
     "output_type": "stream",
     "text": [
      " message: A solution was found at the specified tolerance.\n",
      " success: True\n",
      "  status: 1\n",
      "     fun: [-4.566e-12  1.965e-12 ... -8.263e-12  1.034e-10]\n",
      "       x: [ 1.869e-06 -2.748e-05 ...  1.171e+00  6.297e-01]\n",
      "     nit: 464\n",
      "CPU times: user 976 ms, sys: 20.8 ms, total: 997 ms\n",
      "Wall time: 1.36 s\n"
     ]
    }
   ],
   "source": [
    "%%time\n",
    "\n",
    "N = 20\n",
    "Re = 10\n",
    "U_wall_top = np.sin(np.pi * np.arange(1, N) / N) ** 2\n",
    "\n",
    "w, psi, n_iter = streamfunction_vorticity_newton.newton_solver(\n",
    "    f=partial(streamfunction_vorticity_newton.f, U_wall_top=U_wall_top),\n",
    "    get_jacobian=streamfunction_vorticity_newton.get_jacobian, N=N, Re=Re,\n",
    ")\n",
    "\n",
    "fun = make_f(U_wall_top=U_wall_top)\n",
    "jac = make_get_jacobian(f=fun)\n",
    "options = {\n",
    "    \"line_search\": None,\n",
    "    \"jac_options\": {\n",
    "        \"reduction_method\": \"restart\",\n",
    "        # \"reduction_method\": \"svd\",\n",
    "    },\n",
    "}\n",
    "w2, psi2, solution = nonlinear_root_solver(\n",
    "    f=fun, N=N, Re=Re,\n",
    "    # jac=jac,\n",
    "    algorithm=\"broyden2\", # only other reasonable options is \"hybr\"\n",
    "    options=options,\n",
    "    tol=1e-11,\n",
    ")\n",
    "print(solution)\n",
    "\n",
    "# test_eq(np.allclose(w, w2, atol=1e-7), True)\n",
    "test_eq(np.allclose(w, w2), True)\n",
    "test_eq(np.allclose(psi, psi2), True)\n",
    "test_close(w, w2, eps=1e-7)\n",
    "test_close(psi, psi2, eps=1e-8)"
   ]
  },
  {
   "cell_type": "code",
   "execution_count": null,
   "metadata": {},
   "outputs": [
    {
     "name": "stdout",
     "output_type": "stream",
     "text": [
      "605 ms ± 220 ms per loop (mean ± std. dev. of 30 runs, 1 loop each)\n"
     ]
    }
   ],
   "source": [
    "#|eval: false\n",
    "f_tmp = partial(streamfunction_vorticity_newton.f, U_wall_top=U_wall_top)\n",
    "get_jac_tmp = streamfunction_vorticity_newton.get_jacobian\n",
    "%timeit -r 30 streamfunction_vorticity_newton.newton_solver(f_tmp, get_jac_tmp, N, Re)"
   ]
  },
  {
   "cell_type": "code",
   "execution_count": null,
   "metadata": {},
   "outputs": [
    {
     "name": "stdout",
     "output_type": "stream",
     "text": [
      "982 ms ± 198 ms per loop (mean ± std. dev. of 30 runs, 1 loop each)\n"
     ]
    }
   ],
   "source": [
    "#|eval: false\n",
    "%timeit -r 30 nonlinear_root_solver(f=fun, N=N, Re=Re, jac=jac, algorithm=\"hybr\")"
   ]
  },
  {
   "cell_type": "code",
   "execution_count": null,
   "metadata": {},
   "outputs": [
    {
     "name": "stdout",
     "output_type": "stream",
     "text": [
      "447 ms ± 116 ms per loop (mean ± std. dev. of 30 runs, 1 loop each)\n"
     ]
    }
   ],
   "source": [
    "#|eval: false\n",
    "\n",
    "options = {\n",
    "    \"line_search\": None,\n",
    "    \"jac_options\": {\n",
    "        \"reduction_method\": \"restart\",\n",
    "        # \"reduction_method\": \"svd\",\n",
    "    },\n",
    "}\n",
    "%timeit -r 30  nonlinear_root_solver(f=fun, N=N, Re=Re, algorithm=\"broyden2\", options=options, tol=1e-11)"
   ]
  },
  {
   "cell_type": "code",
   "execution_count": null,
   "metadata": {},
   "outputs": [
    {
     "name": "stdout",
     "output_type": "stream",
     "text": [
      " message: The solution converged.\n",
      " success: True\n",
      "  status: 1\n",
      "     fun: [-2.118e-22  0.000e+00 ... -2.220e-12 -4.133e-13]\n",
      "       x: [ 1.155e-06  1.692e-06 ...  9.333e-01  4.837e-01]\n",
      "    nfev: 11\n",
      "    njev: 1\n",
      "    fjac: [[-3.310e-01  8.276e-02 ... -1.230e-12 -4.308e-13]\n",
      "           [ 8.593e-02 -4.342e-01 ... -1.484e-12 -5.293e-13]\n",
      "           ...\n",
      "           [ 4.384e-07  4.585e-07 ... -5.992e-04  2.236e-04]\n",
      "           [ 2.706e-07  5.204e-07 ... -1.505e-05 -3.251e-04]]\n",
      "       r: [ 1.208e+01 -6.621e-01 ... -1.813e-03  2.011e-03]\n",
      "     qtf: [ 1.210e-17 -1.656e-17 ... -6.055e-13 -1.300e-13]\n"
     ]
    }
   ],
   "source": [
    "#| eval: false\n",
    "N = 40\n",
    "Re = 10\n",
    "U_wall_top = np.sin(np.pi * np.arange(1, N) / N) ** 2\n",
    "\n",
    "w, psi, n_iter = streamfunction_vorticity_newton.newton_solver(\n",
    "    f=partial(streamfunction_vorticity_newton.f, U_wall_top=U_wall_top),\n",
    "    get_jacobian=streamfunction_vorticity_newton.get_jacobian, N=N, Re=Re,\n",
    ")\n",
    "\n",
    "fun = make_f(U_wall_top=U_wall_top)\n",
    "jac = make_get_jacobian(f=fun)\n",
    "w2, psi2, solution = nonlinear_root_solver(\n",
    "    f=fun, N=N, Re=Re,\n",
    "    jac=jac,\n",
    "    algorithm=\"hybr\", # \"broyden2\" does not converge\n",
    ")\n",
    "print(solution)\n",
    "\n",
    "test_eq(np.allclose(w, w2), True)\n",
    "test_eq(np.allclose(psi, psi2), True)\n",
    "test_close(w, w2, eps=1e-8)\n",
    "test_close(psi, psi2, eps=1e-8)"
   ]
  },
  {
   "cell_type": "code",
   "execution_count": null,
   "metadata": {},
   "outputs": [
    {
     "name": "stdout",
     "output_type": "stream",
     "text": [
      "2.89 s ± 247 ms per loop (mean ± std. dev. of 7 runs, 1 loop each)\n"
     ]
    }
   ],
   "source": [
    "#|eval: false\n",
    "f_tmp = partial(streamfunction_vorticity_newton.f, U_wall_top=U_wall_top)\n",
    "get_jac_tmp = streamfunction_vorticity_newton.get_jacobian\n",
    "%timeit streamfunction_vorticity_newton.newton_solver(f_tmp, get_jac_tmp, N, Re)"
   ]
  },
  {
   "cell_type": "markdown",
   "metadata": {},
   "source": [
    "## Least squares"
   ]
  },
  {
   "cell_type": "code",
   "execution_count": null,
   "metadata": {},
   "outputs": [],
   "source": [
    "def nonlinear_lstsq_solver(f, N, Re, algorithm, **kwargs):\n",
    "   \n",
    "    solution = scipy.optimize.least_squares(\n",
    "        fun=f,\n",
    "        x0=np.zeros(((N - 1) ** 2 + (N + 1) ** 2 - 4, )),\n",
    "        method=algorithm,\n",
    "        args=(\n",
    "            Re, poisson_solvers.construct_laplacian_kernel_matrix(N=N-1, h=1),\n",
    "        ),\n",
    "        **kwargs,\n",
    "    )\n",
    "\n",
    "    psi, w = solution.x[:(N - 1) ** 2], solution.x[(N - 1) ** 2:]\n",
    "    \n",
    "    # Get final psi\n",
    "    psi = psi.reshape(N - 1, N - 1)\n",
    "    psi = np.pad(psi, (1, 1), mode=\"constant\", constant_values=0)\n",
    "    \n",
    "    # Get final w\n",
    "    w = streamfunction_vorticity_newton.reconstruct_w(w_tmp=w[:, None], N=N)\n",
    "    w = w.reshape(N + 1, N + 1)\n",
    "    \n",
    "    return w, psi, solution"
   ]
  },
  {
   "cell_type": "code",
   "execution_count": null,
   "metadata": {},
   "outputs": [
    {
     "name": "stdout",
     "output_type": "stream",
     "text": [
      "     message: `xtol` termination condition is satisfied.\n",
      "     success: True\n",
      "      status: 3\n",
      "         fun: [-1.355e-20  2.711e-20 ...  1.839e-16 -1.596e-16]\n",
      "           x: [ 1.869e-06 -2.748e-05 ...  1.171e+00  6.297e-01]\n",
      "        cost: 4.7132742121658445e-29\n",
      "         jac: [[-4.000e+00  1.000e+00 ...  0.000e+00  0.000e+00]\n",
      "               [ 1.000e+00 -4.000e+00 ...  0.000e+00  0.000e+00]\n",
      "               ...\n",
      "               [ 0.000e+00  0.000e+00 ... -4.000e+00  1.021e+00]\n",
      "               [ 0.000e+00  0.000e+00 ...  9.880e-01 -4.000e+00]]\n",
      "        grad: [-7.036e-18  1.299e-17 ... -9.936e-16  8.329e-16]\n",
      "  optimality: 3.2106471208879866e-14\n",
      " active_mask: [0 0 ... 0 0]\n",
      "        nfev: 5\n",
      "        njev: 4\n",
      "CPU times: user 2.64 s, sys: 59.2 ms, total: 2.7 s\n",
      "Wall time: 3.45 s\n"
     ]
    }
   ],
   "source": [
    "%%time\n",
    "\n",
    "N = 20 # N = 40 too slow for the least squares solver\n",
    "Re = 10\n",
    "U_wall_top = np.sin(np.pi * np.arange(1, N) / N) ** 2\n",
    "\n",
    "w, psi, n_iter = streamfunction_vorticity_newton.newton_solver(\n",
    "    f=partial(streamfunction_vorticity_newton.f, U_wall_top=U_wall_top),\n",
    "    get_jacobian=streamfunction_vorticity_newton.get_jacobian, N=N, Re=Re,\n",
    ")\n",
    "\n",
    "fun = make_f(U_wall_top=U_wall_top)\n",
    "jac = make_get_jacobian(f=fun)\n",
    "w2, psi2, solution = nonlinear_lstsq_solver(\n",
    "    f=fun, N=N, Re=Re,\n",
    "    jac=jac,\n",
    "    algorithm=\"lm\",\n",
    ")\n",
    "print(solution)\n",
    "\n",
    "test_eq(np.allclose(w, w2), True)\n",
    "test_eq(np.allclose(psi, psi2), True)\n",
    "test_close(w, w2, eps=1e-8)\n",
    "test_close(psi, psi2, eps=1e-8)"
   ]
  },
  {
   "cell_type": "code",
   "execution_count": null,
   "metadata": {},
   "outputs": [
    {
     "name": "stdout",
     "output_type": "stream",
     "text": [
      "700 ms ± 116 ms per loop (mean ± std. dev. of 7 runs, 1 loop each)\n"
     ]
    }
   ],
   "source": [
    "#|eval: false\n",
    "f_tmp = partial(streamfunction_vorticity_newton.f, U_wall_top=U_wall_top)\n",
    "get_jac_tmp = streamfunction_vorticity_newton.get_jacobian\n",
    "# %timeit -r 30 streamfunction_vorticity_newton.newton_solver(f_tmp, get_jac_tmp, N, Re)\n",
    "%timeit streamfunction_vorticity_newton.newton_solver(f_tmp, get_jac_tmp, N, Re)"
   ]
  },
  {
   "cell_type": "code",
   "execution_count": null,
   "metadata": {},
   "outputs": [
    {
     "name": "stdout",
     "output_type": "stream",
     "text": [
      "2.27 s ± 208 ms per loop (mean ± std. dev. of 7 runs, 1 loop each)\n"
     ]
    }
   ],
   "source": [
    "#|eval: false\n",
    "jac = make_get_jacobian(f=fun)\n",
    "%timeit nonlinear_lstsq_solver(f=fun, N=N, Re=Re, jac=jac, algorithm=\"lm\")"
   ]
  },
  {
   "cell_type": "markdown",
   "metadata": {},
   "source": [
    "## Minimization solvers"
   ]
  },
  {
   "cell_type": "code",
   "execution_count": null,
   "metadata": {},
   "outputs": [],
   "source": [
    "# NOTE: very slow, not even worth testing\n",
    "def nonlinear_minimization_solver(f, N, Re, algorithm, **kwargs):\n",
    "\n",
    "    solution = scipy.optimize.minimize(\n",
    "        fun=fun,\n",
    "        x0=np.zeros(((N - 1) ** 2 + (N + 1) ** 2 - 4, )),\n",
    "        method=algorithm,\n",
    "        args=(\n",
    "            Re, poisson_solvers.construct_laplacian_kernel_matrix(N=N-1, h=1),\n",
    "        ),\n",
    "        **kwargs,\n",
    "    )\n",
    "\n",
    "    psi, w = solution.x[:(N - 1) ** 2], solution.x[(N - 1) ** 2:]\n",
    "    \n",
    "    # Get final psi\n",
    "    psi = psi.reshape(N - 1, N - 1)\n",
    "    psi = np.pad(psi, (1, 1), mode=\"constant\", constant_values=0)\n",
    "    \n",
    "    # Get final w\n",
    "    w = streamfunction_vorticity_newton.reconstruct_w(w_tmp=w[:, None], N=N)\n",
    "    w = w.reshape(N + 1, N + 1)\n",
    "    \n",
    "    return w, psi, solution"
   ]
  }
 ],
 "metadata": {
  "kernelspec": {
   "display_name": "python3",
   "language": "python",
   "name": "python3"
  }
 },
 "nbformat": 4,
 "nbformat_minor": 2
}
