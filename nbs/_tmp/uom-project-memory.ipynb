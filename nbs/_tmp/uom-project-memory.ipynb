{
 "cells": [
  {
   "cell_type": "code",
   "execution_count": null,
   "metadata": {},
   "outputs": [
    {
     "name": "stdout",
     "output_type": "stream",
     "text": [
      "Requirement already satisfied: memory-profiler in /opt/conda/lib/python3.8/site-packages (0.60.0)\r\n",
      "Requirement already satisfied: psutil in /opt/conda/lib/python3.8/site-packages (from memory-profiler) (5.9.0)\r\n"
     ]
    }
   ],
   "source": [
    "!pip install memory-profiler"
   ]
  },
  {
   "cell_type": "code",
   "execution_count": null,
   "metadata": {},
   "outputs": [],
   "source": [
    "import numpy as np\n",
    "import matplotlib.pyplot as plt\n",
    "from scipy import sparse\n",
    "import scipy.sparse.linalg\n",
    "import pandas as pd\n",
    "import memory_profiler as mp"
   ]
  },
  {
   "cell_type": "markdown",
   "metadata": {},
   "source": [
    "# Helper functions"
   ]
  },
  {
   "cell_type": "code",
   "execution_count": null,
   "metadata": {},
   "outputs": [],
   "source": [
    "def construct_laplacian_kernel_matrix(N, h):\n",
    "    # Construct the matrix that defines the linear system\n",
    "\n",
    "    rows = []\n",
    "    cols = []\n",
    "    values = []\n",
    "    \n",
    "    for i in range(N):\n",
    "        for j in range(N):\n",
    "            rows.append(N * i + j)\n",
    "            cols.append(N * i + j)\n",
    "            values.append(-4 / h ** 2)\n",
    "            \n",
    "            if i - 1 >= 0:\n",
    "                rows.append(N * i + j)\n",
    "                cols.append(N * (i - 1) + j)\n",
    "                values.append(1 / h ** 2)\n",
    "\n",
    "            if j - 1 >= 0:\n",
    "                rows.append(N * i + j)\n",
    "                cols.append(N * i + (j - 1))\n",
    "                values.append(1 / h ** 2)\n",
    "\n",
    "            if i + 1 <= N - 1:\n",
    "                rows.append(N * i + j)\n",
    "                cols.append(N * (i + 1) + j)\n",
    "                values.append(1 / h ** 2)\n",
    "\n",
    "            if j + 1 <= N - 1:\n",
    "                rows.append(N * i + j)\n",
    "                cols.append(N * i + (j + 1))\n",
    "                values.append(1 / h ** 2)\n",
    "    \n",
    "    return rows, cols, values"
   ]
  },
  {
   "cell_type": "markdown",
   "metadata": {},
   "source": [
    "# Dense solver"
   ]
  },
  {
   "cell_type": "code",
   "execution_count": null,
   "metadata": {},
   "outputs": [],
   "source": [
    "def dense_solver(w):\n",
    "    N = w.shape[0] - 2\n",
    "    nx = N + 2\n",
    "    ny = N + 2 # = nx\n",
    "\n",
    "    h = 1 / (N + 1)\n",
    "    \n",
    "    # Construct the matrix that defines the linear system\n",
    "    rows, cols, values = construct_laplacian_kernel_matrix(N, h)\n",
    "    kernel_matrix = np.zeros((N ** 2, N ** 2), dtype=np.float32)\n",
    "    kernel_matrix[rows, cols] = values\n",
    "    \n",
    "    start_mem = mp.memory_usage(max_usage=True)\n",
    "    # Solve the linear system\n",
    "    end_mem, psi = mp.memory_usage(proc=(scipy.linalg.solve, [\n",
    "        kernel_matrix,\n",
    "        -w[1:-1, 1:-1].flatten().reshape((N ** 2, 1)), # Cast vorticity to the required form\n",
    "    ]), max_usage=True, retval=True)\n",
    "    \n",
    "    psi = psi.reshape(N, N)\n",
    "\n",
    "    psi = np.pad(psi, (1, 1), mode=\"constant\")\n",
    "    \n",
    "    return psi, start_mem, end_mem\n"
   ]
  },
  {
   "cell_type": "markdown",
   "metadata": {},
   "source": [
    "# Sparse solver"
   ]
  },
  {
   "cell_type": "code",
   "execution_count": null,
   "metadata": {},
   "outputs": [],
   "source": [
    "def sparse_solver(w):\n",
    "    N = w.shape[0] - 2\n",
    "    nx = N + 2\n",
    "    ny = N + 2 # = nx\n",
    "\n",
    "    h = 1 / (N + 1)\n",
    "    \n",
    "    # Construct the sparse matrix\n",
    "    rows, cols, values = construct_laplacian_kernel_matrix(N, h)\n",
    "\n",
    "    # Create the sparse matrix from the above information\n",
    "    kernel_matrix_sparse = scipy.sparse.csr_matrix((values, (rows, cols)), shape=(N ** 2, N ** 2))\n",
    "    \n",
    "    start_mem = mp.memory_usage(max_usage=True)\n",
    "    # Solve the sparse linear system\n",
    "    end_mem, psi = mp.memory_usage(proc=(scipy.sparse.linalg.spsolve, [\n",
    "        kernel_matrix_sparse,\n",
    "        -w[1:-1, 1:-1].flatten().reshape((N ** 2, 1)), # Cast vorticity to the required form\n",
    "    ]), max_usage=True, retval=True)\n",
    "    \n",
    "    psi = psi.reshape(N, N)\n",
    "\n",
    "    psi = np.pad(psi, (1, 1), mode=\"constant\")\n",
    "    \n",
    "    return psi, start_mem, end_mem\n"
   ]
  },
  {
   "cell_type": "markdown",
   "metadata": {},
   "source": [
    "# Gauss-Seidel with SOR"
   ]
  },
  {
   "cell_type": "code",
   "execution_count": null,
   "metadata": {},
   "outputs": [],
   "source": [
    "def sparse_gauss_seidel_with_sor_solver(w, r=None):\n",
    "    N = w.shape[0] - 1\n",
    "    nx = N + 1\n",
    "    ny = N + 1 # = nx\n",
    "\n",
    "    h = 1 / N\n",
    "\n",
    "    # SOR parameter\n",
    "    if r is None:\n",
    "        r = 2 / (1 + np.pi / N) # optimal value\n",
    "\n",
    "    psi = np.zeros((nx, ny), dtype=np.float32) # initialize the streamfunction\n",
    "\n",
    "    start_mem = mp.memory_usage(max_usage=True)\n",
    "    N_ITERATIONS = 4 * nx\n",
    "    for iteration in range(1, N_ITERATIONS + 1):\n",
    "        for i in range(1, nx - 1):\n",
    "            for j in range(1, ny - 1):\n",
    "                psi[i, j] = (1 - r) * psi[i, j] + r * (\n",
    "                    psi[i - 1, j] + psi[i + 1, j] + psi[i, j - 1] + psi[i, j + 1] + w[i, j] * h ** 2\n",
    "                ) / 4\n",
    "\n",
    "    end_mem = mp.memory_usage(max_usage=True)\n",
    "                \n",
    "    return psi, start_mem, end_mem"
   ]
  },
  {
   "cell_type": "markdown",
   "metadata": {},
   "source": [
    "# Newton-Rhapson"
   ]
  },
  {
   "cell_type": "code",
   "execution_count": null,
   "metadata": {},
   "outputs": [],
   "source": [
    "# Given the vorticity, solve the Poisson eqn. to find the streamfunction\n",
    "\n",
    "def get_jacobian(N, h):\n",
    "    # Construct the sparse matrix\n",
    "    rows, cols, values = construct_laplacian_kernel_matrix(N, h)\n",
    "\n",
    "    # Create the sparse matrix from the above information\n",
    "    return scipy.sparse.csc_matrix((values, (rows, cols)), shape=(N ** 2, N ** 2))\n",
    "    \n",
    "\n",
    "def f(x, w, h):\n",
    "    # this N is different from before\n",
    "    N = int(np.sqrt(x.shape[0]))\n",
    "    \n",
    "    x = x.reshape(N, N)\n",
    "    x = np.pad(x, (1, 1), mode=\"constant\", constant_values=0)\n",
    "    \n",
    "    f = -4 * x[1:-1, 1:-1] + x[2:, 1:-1] + x[:-2, 1:-1] + x[1:-1, 2:] + x[1:-1, :-2]\n",
    "    f = f / h ** 2 + w[1:-1, 1:-1]\n",
    "    \n",
    "    return f.reshape((-1, 1))\n",
    "\n",
    "\n",
    "def newton_solver(w, TOL=1e-8, max_iter=100, quiet=True):\n",
    "    N = w.shape[0] - 1\n",
    "    nx = N + 1\n",
    "    ny = N + 1 # = nx\n",
    "\n",
    "    h = 1 / N\n",
    "    \n",
    "    # Initialization\n",
    "    x_current = np.zeros(((N - 1) ** 2, 1))\n",
    "    f_current = f(x_current, w, h)\n",
    "    \n",
    "    start_mem = mp.memory_usage(max_usage=True)\n",
    "    count = 0\n",
    "    while count < max_iter:\n",
    "        count += 1\n",
    "#         print(count)\n",
    "        \n",
    "        Jacobian = get_jacobian(N=N - 1, h=h)\n",
    "        \n",
    "        x_next = scipy.sparse.linalg.spsolve(Jacobian, Jacobian.dot(x_current) - f_current)\n",
    "        x_next = x_next.reshape((-1, 1))\n",
    "        \n",
    "        f_current = f(x_next, w, h)\n",
    "        \n",
    "        f_norm = scipy.linalg.norm(f_current)\n",
    "        x_norm = scipy.linalg.norm(x_next - x_current)\n",
    "#         print(f_norm)\n",
    "#         print(x_norm)\n",
    "        if f_norm <= TOL or x_norm <= TOL:\n",
    "            break\n",
    "        \n",
    "        x_current = x_next\n",
    "#         print()\n",
    "    \n",
    "    end_mem = mp.memory_usage(max_usage=True)\n",
    "    \n",
    "    if not quiet:\n",
    "        print(f\"count={count}\")\n",
    "        \n",
    "    psi = x_next.reshape(N - 1, N - 1)\n",
    "\n",
    "    psi = np.pad(psi, (1, 1), mode=\"constant\", constant_values=0)\n",
    "    \n",
    "    return psi, start_mem, end_mem\n"
   ]
  },
  {
   "cell_type": "code",
   "execution_count": null,
   "metadata": {},
   "outputs": [],
   "source": [
    "def newton_solver_n(w, n_iter, TOL=1e-8, quiet=True):\n",
    "    N = w.shape[0] - 1\n",
    "    nx = N + 1\n",
    "    ny = N + 1 # = nx\n",
    "\n",
    "    h = 1 / N\n",
    "    \n",
    "    # Initialization\n",
    "    x_current = np.zeros(((N - 1) ** 2, 1))\n",
    "    f_current = f(x_current, w, h)\n",
    "    \n",
    "    start_mem = mp.memory_usage(max_usage=True)\n",
    "    count = 0\n",
    "    while count < n_iter:\n",
    "        count += 1\n",
    "        \n",
    "        Jacobian = get_jacobian(N=N - 1, h=h)\n",
    "        \n",
    "        x_next = scipy.sparse.linalg.spsolve(Jacobian, Jacobian.dot(x_current) - f_current)\n",
    "        x_next = x_next.reshape((-1, 1))\n",
    "        \n",
    "        f_current = f(x_next, w, h)\n",
    "        \n",
    "        x_current = x_next\n",
    "    \n",
    "    end_mem = mp.memory_usage(max_usage=True)\n",
    "    \n",
    "    if not quiet:\n",
    "        print(f\"count={count}\")\n",
    "        \n",
    "    psi = x_next.reshape(N - 1, N - 1)\n",
    "\n",
    "    psi = np.pad(psi, (1, 1), mode=\"constant\", constant_values=0)\n",
    "    \n",
    "    return psi, start_mem, end_mem"
   ]
  },
  {
   "cell_type": "code",
   "execution_count": null,
   "metadata": {},
   "outputs": [],
   "source": [
    "# # Initialize grid and the value of the vorticity on it\n",
    "# nx = ny = 21\n",
    "# h = 1 / 20\n",
    "# x_grid, y_grid = np.meshgrid(np.linspace(0, 1, nx), np.linspace(0, 1, ny))\n",
    "# w = 2 * np.pi ** 2 * np.sin(np.pi * x_grid) * np.sin(np.pi * y_grid) # vorticity\n",
    "\n",
    "# # Solve the system\n",
    "# psi_1, _ = dense_solver(w)\n",
    "# psi_2, _ = sparse_solver(w)\n",
    "# psi_3, _, _ = sparse_gauss_seidel_with_sor_solver(w)\n",
    "# psi_4, _, _ = newton_solver(w, quiet=False)"
   ]
  },
  {
   "cell_type": "code",
   "execution_count": null,
   "metadata": {},
   "outputs": [],
   "source": [
    "# (\n",
    "#     np.allclose(psi_1, psi_2), np.allclose(psi_1, psi_3), np.allclose(psi_1, psi_4),\n",
    "#     np.allclose(psi_2, psi_3), np.allclose(psi_2, psi_4), np.allclose(psi_3, psi_4)\n",
    "# )"
   ]
  },
  {
   "cell_type": "code",
   "execution_count": null,
   "metadata": {},
   "outputs": [],
   "source": [
    "# for N in [10, 20, 40, 80, 120, 160, 240, 320, 400]:\n",
    "#     print(N)\n",
    "#     # Initialize grid and the value of the vorticity on it\n",
    "#     nx = ny = N + 1\n",
    "#     h = 1 / N\n",
    "#     x_grid, y_grid = np.meshgrid(np.linspace(0, 1, nx), np.linspace(0, 1, ny))\n",
    "#     w = 2 * np.pi ** 2 * np.sin(np.pi * x_grid) * np.sin(np.pi * y_grid) # vorticity\n",
    "\n",
    "#     # Solve the system\n",
    "#     psi_1, _ = sparse_solver(w)\n",
    "#     psi_2, _, _ = newton_solver(w, quiet=False)\n",
    "    \n",
    "#     print(np.allclose(psi_1, psi_2))\n",
    "#     print()"
   ]
  },
  {
   "cell_type": "markdown",
   "metadata": {},
   "source": [
    "# Memory usage comparison"
   ]
  },
  {
   "cell_type": "code",
   "execution_count": null,
   "metadata": {},
   "outputs": [],
   "source": [
    "# def df_from_performance_metrics(N_values, times, errors):\n",
    "#     return pd.DataFrame({\n",
    "#         \"N\": N_values,\n",
    "#         \"time\": times,\n",
    "#         \"std\": errors,\n",
    "#     })\n",
    "\n",
    "# df = df_from_performance_metrics(N_values, time_sparse, errors_sparse)\n",
    "# df.to_csv(\"times_sparse.csv\", index=False)\n",
    "\n",
    "# df = df_from_performance_metrics(N_values, time_simple, errors_simple)\n",
    "# df.to_csv(\"times_simple.csv\", index=False)\n",
    "\n",
    "# df = df_from_performance_metrics(N_values, time_gs, errors_gs)\n",
    "# df.to_csv(\"times_gs.csv\", index=False)"
   ]
  },
  {
   "cell_type": "code",
   "execution_count": null,
   "metadata": {},
   "outputs": [],
   "source": [
    "# for solver in [\"simple\", \"sparse\", \"gs\"]:\n",
    "#     df = pd.read_csv(f\"times_{solver}.csv\")\n",
    "#     plt.errorbar(x=df[\"N\"], y=df[\"time\"], yerr=df[\"std\"], label=solver)\n",
    "    \n",
    "# plt.legend()\n",
    "# plt.xscale(\"log\")"
   ]
  },
  {
   "cell_type": "markdown",
   "metadata": {},
   "source": [
    "# Memory usage\n",
    "\n",
    "Based on https://stackoverflow.com/questions/552744/how-do-i-profile-memory-usage-in-python/61472545#61472545"
   ]
  },
  {
   "cell_type": "code",
   "execution_count": null,
   "metadata": {},
   "outputs": [
    {
     "name": "stdout",
     "output_type": "stream",
     "text": [
      "count=1\n",
      "112.61328125\n",
      "CPU times: user 818 ms, sys: 2.83 s, total: 3.65 s\n",
      "Wall time: 2.19 s\n"
     ]
    },
    {
     "data": {
      "text/plain": [
       "121.20703125"
      ]
     },
     "execution_count": null,
     "metadata": {},
     "output_type": "execute_result"
    }
   ],
   "source": [
    "# %%time\n",
    "\n",
    "# N = 168\n",
    "# nx = ny = N + 1\n",
    "# h = 1 / N\n",
    "# x_grid, y_grid = np.meshgrid(np.linspace(0, 1, nx), np.linspace(0, 1, ny))\n",
    "# x_grid = x_grid.astype(np.float32)\n",
    "# y_grid = y_grid.astype(np.float32)\n",
    "# w = 2 * np.pi ** 2 * np.sin(np.pi * x_grid) * np.sin(np.pi * y_grid) # vorticity\n",
    "# w = w.astype(np.float32)\n",
    "\n",
    "# _, start_mem, end_mem = newton_solver(w, quiet=False)\n",
    "# # _, start_mem, end_mem = sparse_solver(w)\n",
    "# print(start_mem)\n",
    "\n",
    "# end_mem"
   ]
  },
  {
   "cell_type": "code",
   "execution_count": null,
   "metadata": {},
   "outputs": [
    {
     "data": {
      "text/plain": [
       "8.59375"
      ]
     },
     "execution_count": null,
     "metadata": {},
     "output_type": "execute_result"
    }
   ],
   "source": [
    "# end_mem - start_mem"
   ]
  },
  {
   "cell_type": "code",
   "execution_count": null,
   "metadata": {},
   "outputs": [],
   "source": [
    "# with open(\"outputs/memory_manual_2/newton_manual_2.txt\", \"at\") as file:\n",
    "#     file.write(f\"{N}, {start_mem}, {end_mem}\\n\")"
   ]
  },
  {
   "cell_type": "code",
   "execution_count": null,
   "metadata": {},
   "outputs": [],
   "source": [
    "# %%time\n",
    "\n",
    "\n",
    "# N_values = np.array([7, 14, 28, 56, 84, 112, 224, 336, 448, 672, 896])\n",
    "# N_values = np.array([7, 14, 28, 56])\n",
    "# N_values = np.array([336, 448])\n",
    "\n",
    "\n",
    "# plt.figure(figsize=(10, 6))\n",
    "\n",
    "# for n_iter in range(2, 4):\n",
    "#     mems = []\n",
    "    \n",
    "#     for N in N_values:\n",
    "#         print(N)\n",
    "\n",
    "#         nx = ny = N + 1\n",
    "#         h = 1 / N\n",
    "#         x_grid, y_grid = np.meshgrid(np.linspace(0, 1, nx), np.linspace(0, 1, ny))\n",
    "#         w = 2 * np.pi ** 2 * np.sin(np.pi * x_grid) * np.sin(np.pi * y_grid) # vorticity\n",
    "        \n",
    "#         _, start_mem, end_mem = newton_solver_n(w, n_iter=n_iter, quiet=False)\n",
    "#         mems.append(end_mem - start_mem)\n",
    "\n",
    "#     plt.plot(N_values, mems, label=n_iter)    \n",
    "\n",
    "# # plt.xscale(\"log\")\n",
    "# plt.legend()\n",
    "# plt.show()"
   ]
  },
  {
   "cell_type": "code",
   "execution_count": null,
   "metadata": {},
   "outputs": [
    {
     "data": {
      "image/png": "[encoded data removed]",
      "text/plain": [
       "<Figure size 720x432 with 1 Axes>"
      ]
     },
     "metadata": {
      "needs_background": "light"
     },
     "output_type": "display_data"
    }
   ],
   "source": [
    "sparse = [163.5234375, 304.1328125, 770.0625]\n",
    "s2 = [78.26171875, 68.28515625, 153.71875]\n",
    "s3 = [73.15234375, 71.86328125, 171.0625]\n",
    "\n",
    "N_values = np.array([336, 448, 672]) ** 2\n",
    "\n",
    "plt.figure(figsize=(10, 6))\n",
    "\n",
    "plt.plot(N_values, sparse, label=\"sparse\")\n",
    "plt.plot(N_values, s2, label=\"2\")\n",
    "plt.plot(N_values, s3, label=\"3\")\n",
    "\n",
    "plt.legend()\n",
    "plt.show()"
   ]
  },
  {
   "cell_type": "code",
   "execution_count": null,
   "metadata": {},
   "outputs": [],
   "source": []
  }
 ],
 "metadata": {
  "kernelspec": {
   "display_name": "python3",
   "language": "python",
   "name": "python3"
  }
 },
 "nbformat": 4,
 "nbformat_minor": 5
}
