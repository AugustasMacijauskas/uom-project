{
 "cells": [
  {
   "cell_type": "markdown",
   "metadata": {},
   "source": [
    "# streamfunction_vorticity_jax_solvers\n",
    "\n",
    "> Solvers based on the JAX package for the full Navier-Stokes equations in the streamfunction-vorticity form"
   ]
  },
  {
   "cell_type": "code",
   "execution_count": null,
   "metadata": {},
   "outputs": [],
   "source": [
    "#| default_exp streamfunction_vorticity_jax"
   ]
  },
  {
   "cell_type": "markdown",
   "metadata": {},
   "source": [
    "# Imports"
   ]
  },
  {
   "cell_type": "code",
   "execution_count": null,
   "metadata": {},
   "outputs": [],
   "source": [
    "# Autoreload modules\n",
    "%load_ext autoreload\n",
    "%autoreload 2"
   ]
  },
  {
   "cell_type": "code",
   "execution_count": null,
   "metadata": {},
   "outputs": [],
   "source": [
    "#| export\n",
    "from uom_project import core\n",
    "\n",
    "from functools import partial\n",
    "\n",
    "import numpy as np\n",
    "\n",
    "import jax\n",
    "import jax.numpy as jnp\n",
    "\n",
    "from jax import config\n",
    "config.update(\"jax_enable_x64\", True)"
   ]
  },
  {
   "cell_type": "code",
   "execution_count": null,
   "metadata": {},
   "outputs": [],
   "source": [
    "from uom_project import poisson_solvers, streamfunction_vorticity_newton\n",
    "\n",
    "from fastcore.test import test_eq, test_close"
   ]
  },
  {
   "cell_type": "markdown",
   "metadata": {},
   "source": [
    "# JAX solver"
   ]
  },
  {
   "cell_type": "code",
   "execution_count": null,
   "metadata": {},
   "outputs": [],
   "source": [
    "#| exporti\n",
    "@jax.jit\n",
    "def f_jax(x, Re, U_wall_top):\n",
    "    N = int(np.sqrt(x.shape[0] // 2 + 1))\n",
    "    h = 1 / N\n",
    "\n",
    "    psi = x[:(N-1)**2].reshape(N-1, N-1)\n",
    "    w_left   = x[(N-1)**2 + 0*(N-1) : (N-1)**2 + 1*(N-1)][:, 0]\n",
    "    w_right  = x[(N-1)**2 + 1*(N-1) : (N-1)**2 + 2*(N-1)][:, 0]\n",
    "    w_bottom = x[(N-1)**2 + 2*(N-1) : (N-1)**2 + 3*(N-1)][:, 0]\n",
    "    w_top    = x[(N-1)**2 + 3*(N-1) : (N-1)**2 + 4*(N-1)][:, 0]\n",
    "    w_middle = x[(N-1)**2 + 4*(N-1) :].reshape(N-1, N-1)\n",
    "\n",
    "    # Calculate the equations coming from the Poisson equation\n",
    "    f_poisson = -4 * psi\n",
    "    f_poisson = f_poisson.at[:-1, :].add(psi[1:, :])\n",
    "    f_poisson = f_poisson.at[1:, :].add(psi[:-1, :])\n",
    "    f_poisson = f_poisson.at[:, :-1].add(psi[:, 1:])\n",
    "    f_poisson = f_poisson.at[:, 1:].add(psi[:, :-1])\n",
    "    f_poisson = f_poisson + h ** 2 * w_middle\n",
    "\n",
    "    # Calculate the sides first\n",
    "    # y = 0, U_wall = 0\n",
    "    f_w_bottom = h ** 2 * (w_middle[:, 0] + 3 * w_bottom) + 8 * psi[:, 0]\n",
    "    # y = 1, U_wall is known here\n",
    "    f_w_top = h ** 2 * (w_middle[:, -1] + 3 * w_top) + 8 * (\n",
    "        h * U_wall_top + psi[:, -1]\n",
    "    )\n",
    "    # x = 0\n",
    "    f_w_left = h ** 2 * (w_middle[0, :] + 3 * w_left) + 8 * psi[0, :]\n",
    "    # x = 1\n",
    "    f_w_right = h ** 2 * (w_middle[-1, :] + 3 * w_right) + 8 * psi[-1, :]\n",
    "\n",
    "    f_w_middle = -4 * w_middle\n",
    "    f_w_middle = f_w_middle.at[:-1, :].add(w_middle[1:, :])\n",
    "    f_w_middle = f_w_middle.at[-1:, :].add(w_right)\n",
    "    f_w_middle = f_w_middle.at[1:, :].add(w_middle[:-1, :])\n",
    "    f_w_middle = f_w_middle.at[:1, :].add(w_left)\n",
    "    f_w_middle = f_w_middle.at[:, :-1].add(w_middle[:, 1:])\n",
    "    f_w_middle = f_w_middle.at[:, -1].add(w_top)\n",
    "    f_w_middle = f_w_middle.at[:, 1:].add(w_middle[:, :-1])\n",
    "    f_w_middle = f_w_middle.at[:, 0].add(w_bottom)\n",
    "\n",
    "    f_w_middle = f_w_middle.at[1:-1, 1:-1].add(Re * (\n",
    "        (psi[2:, 1:-1] - psi[:-2, 1:-1]) * (w_middle[1:-1, 2:] - w_middle[1:-1, :-2]) -\n",
    "        (psi[1:-1, 2:] - psi[1:-1, :-2]) * (w_middle[2:, 1:-1] - w_middle[:-2, 1:-1])\n",
    "    ) / 4)\n",
    "    f_w_middle = f_w_middle.at[:1, 1:-1].add(Re * (\n",
    "        psi[1, 1:-1] * (w_middle[0, 2:] - w_middle[0, :-2]) -\n",
    "        (psi[0, 2:] - psi[0, :-2]) * (w_middle[1, 1:-1] - w_left[1:-1])\n",
    "    ) / 4)\n",
    "    f_w_middle = f_w_middle.at[-1:, 1:-1].add(-Re * (\n",
    "        psi[-2, 1:-1] * (w_middle[-1, 2:] - w_middle[-1, :-2]) +\n",
    "        (psi[-1, 2:] - psi[-1, :-2]) * (w_right[1:-1] - w_middle[-2, 1:-1])\n",
    "    ) / 4)\n",
    "    f_w_middle = f_w_middle.at[1:-1, 0].add(Re * (\n",
    "        (psi[2:, 0] - psi[:-2, 0]) * (w_middle[1:-1, 1] - w_bottom[1:-1]) -\n",
    "        psi[1:-1, 1] * (w_middle[2:, 0] - w_middle[:-2, 0])\n",
    "    ) / 4)\n",
    "    f_w_middle = f_w_middle.at[1:-1, -1].add(Re * (\n",
    "        (psi[2:, -1] - psi[:-2, -1]) * (w_top[1:-1] - w_middle[1:-1, -2]) +\n",
    "        psi[1:-1, -2] * (w_middle[2:, -1] - w_middle[:-2, -1])\n",
    "    ) / 4)\n",
    "    f_w_middle = f_w_middle.at[0, 0].add(Re * (\n",
    "        psi[1, 0] * (w_middle[0, 1] - w_bottom[0]) -\n",
    "        psi[0, 1] * (w_middle[1, 0] - w_left[0])\n",
    "    ) / 4)\n",
    "    f_w_middle = f_w_middle.at[-1, 0].add(-Re * (\n",
    "        psi[-2, 0] * (w_middle[-1, 1] - w_bottom[-1]) +\n",
    "        psi[-1, 1] * (w_right[0] - w_middle[-2, 0])\n",
    "    ) / 4)\n",
    "    f_w_middle = f_w_middle.at[0, -1].add(Re * (\n",
    "        psi[1, -1] * (w_top[0] - w_middle[0, -2]) +\n",
    "        psi[0, -2] * (w_middle[1, -1] - w_left[-1])\n",
    "    ) / 4)\n",
    "    f_w_middle = f_w_middle.at[-1, -1].add(-Re * (\n",
    "        psi[-2, -1] * (w_top[-1] - w_middle[-1, -2]) -\n",
    "        psi[-1, -2] * (w_right[-1] - w_middle[-2, -1])\n",
    "    ) / 4)\n",
    "\n",
    "    return jnp.concatenate([\n",
    "        f_poisson.flatten(), f_w_left, f_w_right, f_w_bottom, f_w_top,\n",
    "        f_w_middle.flatten(),\n",
    "    ], axis=0)[:, None]\n"
   ]
  },
  {
   "cell_type": "code",
   "execution_count": null,
   "metadata": {},
   "outputs": [
    {
     "name": "stdout",
     "output_type": "stream",
     "text": [
      "CPU times: user 11.6 ms, sys: 5.17 ms, total: 16.8 ms\n",
      "Wall time: 25.4 ms\n",
      "CPU times: user 486 µs, sys: 56 µs, total: 542 µs\n",
      "Wall time: 1.87 ms\n",
      "CPU times: user 668 ms, sys: 30.7 ms, total: 699 ms\n",
      "Wall time: 1.03 s\n"
     ]
    }
   ],
   "source": [
    "N = 40\n",
    "size = (N - 1) ** 2 + (N + 1) ** 2 - 4\n",
    "x = np.random.randn(size, 1)\n",
    "Re = 10\n",
    "kernel_matrix = poisson_solvers.construct_laplacian_kernel_matrix(N=N-1, h=1)\n",
    "U_wall_top = np.sin(np.pi * np.arange(1, N) / N) ** 2\n",
    "\n",
    "res_1 = streamfunction_vorticity_newton.f(x, Re, U_wall_top, kernel_matrix)\n",
    "\n",
    "\n",
    "%time x_jax = jax.device_put(x).astype(jnp.float64)\n",
    "%time U_wall_top_jax = jax.device_put(U_wall_top)\n",
    "%time res_2 = f_jax(x_jax, Re, U_wall_top_jax).block_until_ready() # Compile once\n",
    "\n",
    "# Check MSE\n",
    "test_eq(np.allclose(res_1, res_2), True)\n",
    "test_close(res_1, res_2, eps=1e-8)"
   ]
  },
  {
   "cell_type": "code",
   "execution_count": null,
   "metadata": {},
   "outputs": [
    {
     "name": "stdout",
     "output_type": "stream",
     "text": [
      "221 µs ± 10.5 µs per loop (mean ± std. dev. of 7 runs, 1,000 loops each)\n"
     ]
    }
   ],
   "source": [
    "#| eval: false\n",
    "%timeit streamfunction_vorticity_newton.f(x, Re, U_wall_top, kernel_matrix)"
   ]
  },
  {
   "cell_type": "code",
   "execution_count": null,
   "metadata": {},
   "outputs": [
    {
     "name": "stdout",
     "output_type": "stream",
     "text": [
      "66.6 µs ± 15.1 µs per loop (mean ± std. dev. of 7 runs, 10,000 loops each)\n"
     ]
    }
   ],
   "source": [
    "#| eval: false\n",
    "%timeit f_jax(x_jax, Re, U_wall_top_jax).block_until_ready()"
   ]
  },
  {
   "cell_type": "code",
   "execution_count": null,
   "metadata": {},
   "outputs": [
    {
     "data": {
      "text/plain": [
       "((3198, 1), (3198, 1))"
      ]
     },
     "execution_count": null,
     "metadata": {},
     "output_type": "execute_result"
    }
   ],
   "source": [
    "res_1.shape, res_2.shape"
   ]
  },
  {
   "cell_type": "code",
   "execution_count": null,
   "metadata": {},
   "outputs": [
    {
     "name": "stdout",
     "output_type": "stream",
     "text": [
      "CPU times: user 1.27 s, sys: 180 ms, total: 1.45 s\n",
      "Wall time: 2.09 s\n"
     ]
    }
   ],
   "source": [
    "#| eval: false\n",
    "jac = jax.jit(jax.jacfwd(f_jax))\n",
    "%time jac(x_jax, Re, U_wall_top_jax).squeeze().block_until_ready(); # Compile once"
   ]
  },
  {
   "cell_type": "code",
   "execution_count": null,
   "metadata": {},
   "outputs": [
    {
     "name": "stdout",
     "output_type": "stream",
     "text": [
      "376 ms ± 76.6 ms per loop (mean ± std. dev. of 7 runs, 1 loop each)\n"
     ]
    }
   ],
   "source": [
    "#| eval: false\n",
    "%timeit jac(x_jax, Re, U_wall_top_jax).squeeze().block_until_ready()"
   ]
  },
  {
   "cell_type": "code",
   "execution_count": null,
   "metadata": {},
   "outputs": [
    {
     "name": "stdout",
     "output_type": "stream",
     "text": [
      "(1521, 1521)\n"
     ]
    }
   ],
   "source": [
    "import torch\n",
    "from torch.func import jacfwd\n",
    "from uom_project import streamfunction_vorticity_pytorch\n",
    "\n",
    "x = torch.randn(size, 1).double()\n",
    "U_wall_top = torch.sin(torch.pi * torch.arange(1, N) / N) ** 2\n",
    "print(kernel_matrix.shape)\n",
    "\n",
    "py_jac = jacfwd(streamfunction_vorticity_pytorch.f_pytorch)"
   ]
  },
  {
   "cell_type": "code",
   "execution_count": null,
   "metadata": {},
   "outputs": [
    {
     "name": "stdout",
     "output_type": "stream",
     "text": [
      "572 ms ± 86.6 ms per loop (mean ± std. dev. of 7 runs, 1 loop each)\n"
     ]
    }
   ],
   "source": [
    "#| eval: false\n",
    "%timeit py_jac(x, Re, U_wall_top).squeeze()"
   ]
  },
  {
   "cell_type": "code",
   "execution_count": null,
   "metadata": {},
   "outputs": [],
   "source": [
    "#| exporti\n",
    "\n",
    "def reconstruct_w_jax(w_tmp, N):\n",
    "    w = jnp.zeros((N+1, N+1))\n",
    "\n",
    "    w = w.at[:1, 1:-1].set(w_tmp[0*(N-1):1*(N-1)].T)\n",
    "    w = w.at[-1:, 1:-1].set(w_tmp[1*(N-1):2*(N-1)].T)\n",
    "    w = w.at[1:-1, :1].set(w_tmp[2*(N-1):3*(N-1)])\n",
    "    w = w.at[1:-1, -1:].set(w_tmp[3*(N-1):4*(N-1)])\n",
    "    w = w.at[1:-1, 1:-1].set(w_tmp[4*(N-1):].reshape((N - 1, N - 1)))\n",
    "\n",
    "    return w\n",
    "\n",
    "\n",
    "@partial(jax.jit, static_argnums=(0, 1, 6,))\n",
    "def newton_iteration_step(\n",
    "    f, get_jacobian, x, Re, U_wall_top, f_current, algorithm,\n",
    "):\n",
    "    jacobian = get_jacobian(x, Re, U_wall_top).squeeze()\n",
    "\n",
    "    dx = core.solve_sparse_linear_system_jax(\n",
    "        A=jacobian, b=-f_current, algorithm=algorithm,\n",
    "    )\n",
    "    x = x + dx\n",
    "\n",
    "    f_current = f(x=x, Re=Re, U_wall_top=U_wall_top)\n",
    "    f_norm = jnp.linalg.norm(f_current)\n",
    "\n",
    "    return x, dx, f_current, f_norm\n",
    "\n",
    "\n",
    "def newton_iterator_jax(\n",
    "    f, get_jacobian, N, Re, U_wall_top,\n",
    "    algorithm=\"base\", TOL=1e-8, max_iter=10, quiet=True\n",
    "):\n",
    "    '''\n",
    "        - f: evaluates the function given x, Re\n",
    "        - get_jacobian: evaluates the Jacobian given N, h\n",
    "        - N: number of grid points\n",
    "        - h: grid size\n",
    "        - Re: Reynolds number\n",
    "    '''\n",
    "\n",
    "    n_iter = 0 # number of iterations\n",
    "\n",
    "    # Initialization\n",
    "    # Size (N - 1) ** 2         + (N + 1) ** 2    - 4\n",
    "    # Size (for streamfunction) + (for vorticity) - (corners of vorticity)\n",
    "    x = jnp.zeros(((N - 1) ** 2 + (N + 1) ** 2 - 4, 1), dtype=jnp.float64)\n",
    "    f_current = f(x=x, Re=Re, U_wall_top=U_wall_top)\n",
    "\n",
    "    # Check if the initial guess is a solution\n",
    "    f_norm = jnp.linalg.norm(f_current)\n",
    "    if f_norm <= TOL:\n",
    "        if not quiet:\n",
    "            print(f\"n_iter={n_iter}\")\n",
    "\n",
    "        return x, n_iter\n",
    "\n",
    "    # Iterate\n",
    "    while n_iter < max_iter:\n",
    "        n_iter += 1\n",
    "\n",
    "        x, dx, f_current, f_norm = newton_iteration_step(\n",
    "            f=f, get_jacobian=get_jacobian,\n",
    "            x=x, Re=Re, U_wall_top=U_wall_top,\n",
    "            f_current=f_current,\n",
    "            algorithm=algorithm,\n",
    "        )\n",
    "\n",
    "        # Check for convergence\n",
    "        if not quiet:\n",
    "            print(f\"iter={n_iter}; residual={f_norm}; dx={jnp.linalg.norm(dx)}\")\n",
    "        if f_norm <= TOL:\n",
    "            break\n",
    "\n",
    "    if not quiet:\n",
    "        print(f\"n_iter={n_iter}\")\n",
    "\n",
    "    return x, n_iter\n"
   ]
  },
  {
   "cell_type": "code",
   "execution_count": null,
   "metadata": {},
   "outputs": [],
   "source": [
    "#| export\n",
    "def newton_solver_jax(\n",
    "    f, get_jacobian, N, Re, U_wall_top,\n",
    "    algorithm=\"base\", TOL=1e-8, max_iter=10, quiet=True\n",
    "):\n",
    "\n",
    "    solution, n_iter = newton_iterator_jax(\n",
    "        f=f, get_jacobian=get_jacobian, N=N, Re=Re, U_wall_top=U_wall_top,\n",
    "        algorithm=algorithm,\n",
    "        TOL=TOL, max_iter=max_iter, quiet=quiet\n",
    "    )\n",
    "\n",
    "    psi, w = solution[:(N - 1) ** 2], solution[(N - 1) ** 2:]\n",
    "\n",
    "    # Get final psi\n",
    "    psi = psi.reshape(N - 1, N - 1)\n",
    "    psi = jnp.pad(psi, (1, 1), mode=\"constant\", constant_values=0)\n",
    "\n",
    "    # Get final w\n",
    "    w = reconstruct_w_jax(w_tmp=w, N=N)\n",
    "    w = w.reshape(N + 1, N + 1)\n",
    "\n",
    "    return w, psi, n_iter\n"
   ]
  },
  {
   "cell_type": "code",
   "execution_count": null,
   "metadata": {},
   "outputs": [
    {
     "name": "stdout",
     "output_type": "stream",
     "text": [
      "iter=1; residual=2.914118169851718e-14; dx=39.71450891546215\n",
      "n_iter=1\n",
      "iter=1; residual=1.5969150036293684e-14; dx=39.71450891546271\n",
      "n_iter=1\n"
     ]
    }
   ],
   "source": [
    "N = 20\n",
    "Re = 0 # i.e. viscosity mu = inf\n",
    "U_wall_top = np.sin(np.pi * np.arange(1, N) / N) ** 2\n",
    "\n",
    "w, psi, _ = streamfunction_vorticity_newton.newton_solver(\n",
    "    f=partial(streamfunction_vorticity_newton.f, U_wall_top=U_wall_top),\n",
    "    get_jacobian=streamfunction_vorticity_newton.get_jacobian,\n",
    "    N=N, Re=Re, quiet=False\n",
    ")\n",
    "\n",
    "U_wall_top_jax = jax.device_put(U_wall_top)\n",
    "w2, psi2, n_iter = newton_solver_jax(\n",
    "    f=f_jax,\n",
    "    get_jacobian=jax.jit(jax.jacfwd(f_jax)),\n",
    "    U_wall_top=U_wall_top_jax,\n",
    "    N=N, Re=Re, quiet=False,\n",
    "    algorithm=\"lineax_base\",\n",
    ")\n",
    "test_eq(np.allclose(w, w2), True)\n",
    "test_eq(np.allclose(psi, psi2), True)\n",
    "test_eq(n_iter, 1)"
   ]
  },
  {
   "cell_type": "code",
   "execution_count": null,
   "metadata": {},
   "outputs": [
    {
     "name": "stdout",
     "output_type": "stream",
     "text": [
      "iter=1; residual=1.083638166644002; dx=39.71450891546215\n",
      "iter=2; residual=0.001540492931316756; dx=2.273926820301316\n",
      "iter=3; residual=8.799678364852772e-10; dx=0.001464259783746122\n",
      "n_iter=3\n",
      "iter=1; residual=1.0836381666440216; dx=39.71450891546271\n",
      "iter=2; residual=0.0015404929313102245; dx=2.2739268203012495\n",
      "iter=3; residual=8.799683858705381e-10; dx=0.0014642597837290449\n",
      "n_iter=3\n"
     ]
    }
   ],
   "source": [
    "N = 20\n",
    "Re = 10\n",
    "U_wall_top = np.sin(np.pi * np.arange(1, N) / N) ** 2\n",
    "\n",
    "w, psi, _ = streamfunction_vorticity_newton.newton_solver(\n",
    "    f=partial(streamfunction_vorticity_newton.f, U_wall_top=U_wall_top),\n",
    "    get_jacobian=streamfunction_vorticity_newton.get_jacobian,\n",
    "    N=N, Re=Re, quiet=False\n",
    ")\n",
    "\n",
    "U_wall_top_jax = jax.device_put(U_wall_top)\n",
    "w2, psi2, n_iter = newton_solver_jax(\n",
    "    f=f_jax,\n",
    "    get_jacobian=jax.jit(jax.jacfwd(f_jax)),\n",
    "    U_wall_top=U_wall_top_jax,\n",
    "    N=N, Re=Re, quiet=False,\n",
    "    algorithm=\"lineax_base\",\n",
    ")\n",
    "test_eq(np.allclose(w, w2), True)\n",
    "test_eq(np.allclose(psi, psi2), True)\n",
    "test_eq(n_iter, 3)"
   ]
  },
  {
   "cell_type": "code",
   "execution_count": null,
   "metadata": {},
   "outputs": [
    {
     "name": "stdout",
     "output_type": "stream",
     "text": [
      "iter=1; residual=5.3021836249034475; dx=92.2537418024731\n",
      "iter=2; residual=0.006521635545184045; dx=4.1175639110773234\n",
      "iter=3; residual=3.950960452092918e-09; dx=0.003689348557317348\n",
      "n_iter=3\n",
      "iter=1; residual=5.302183624903549; dx=92.25374180247387\n",
      "iter=2; residual=0.006521635545207267; dx=4.117563911077535\n",
      "iter=3; residual=3.950963700483887e-09; dx=0.0036893485572719108\n",
      "n_iter=3\n"
     ]
    }
   ],
   "source": [
    "N = 20\n",
    "Re = 10\n",
    "U_wall_top = 1.0\n",
    "\n",
    "w, psi, _ = streamfunction_vorticity_newton.newton_solver(\n",
    "    f=partial(streamfunction_vorticity_newton.f, U_wall_top=U_wall_top),\n",
    "    get_jacobian=streamfunction_vorticity_newton.get_jacobian,\n",
    "    N=N, Re=Re, quiet=False\n",
    ")\n",
    "\n",
    "U_wall_top_jax = jax.device_put(U_wall_top)\n",
    "w2, psi2, n_iter = newton_solver_jax(\n",
    "    f=f_jax,\n",
    "    get_jacobian=jax.jit(jax.jacfwd(f_jax)),\n",
    "    U_wall_top=U_wall_top_jax,\n",
    "    N=N, Re=Re, quiet=False,\n",
    "    algorithm=\"lineax_base\",\n",
    ")\n",
    "test_eq(np.allclose(w, w2), True)\n",
    "test_eq(np.allclose(psi, psi2), True)\n",
    "test_eq(n_iter, 3)"
   ]
  },
  {
   "cell_type": "code",
   "execution_count": null,
   "metadata": {},
   "outputs": [
    {
     "name": "stdout",
     "output_type": "stream",
     "text": [
      "CPU times: user 4.91 s, sys: 429 ms, total: 5.34 s\n",
      "Wall time: 5.14 s\n",
      "CPU times: user 4.22 s, sys: 362 ms, total: 4.58 s\n",
      "Wall time: 5.28 s\n"
     ]
    }
   ],
   "source": [
    "N = 40\n",
    "Re = 10\n",
    "U_wall_top = np.sin(np.pi * np.arange(1, N) / N) ** 2\n",
    "U_wall_top_jax = jax.device_put(U_wall_top)\n",
    "\n",
    "fun = partial(streamfunction_vorticity_newton.f, U_wall_top=U_wall_top)\n",
    "\n",
    "jac = streamfunction_vorticity_newton.get_jacobian\n",
    "jac_jax = jax.jit(jax.jacfwd(f_jax))\n",
    "\n",
    "%time newton_solver_jax(f=f_jax, get_jacobian=jac_jax, U_wall_top=U_wall_top_jax, N=N, Re=Re, algorithm=\"base\");\n",
    "%time newton_solver_jax(f=f_jax, get_jacobian=jac_jax, U_wall_top=U_wall_top_jax, N=N, Re=Re, algorithm=\"lineax_base\");"
   ]
  },
  {
   "cell_type": "code",
   "execution_count": null,
   "metadata": {},
   "outputs": [
    {
     "name": "stdout",
     "output_type": "stream",
     "text": [
      "4.26 s ± 851 ms per loop (mean ± std. dev. of 7 runs, 1 loop each)\n"
     ]
    }
   ],
   "source": [
    "#| eval: false\n",
    "%timeit streamfunction_vorticity_newton.newton_solver(f=fun, get_jacobian=jac, N=N, Re=Re)"
   ]
  },
  {
   "cell_type": "code",
   "execution_count": null,
   "metadata": {},
   "outputs": [
    {
     "name": "stdout",
     "output_type": "stream",
     "text": [
      "2.26 s ± 1.05 s per loop (mean ± std. dev. of 7 runs, 1 loop each)\n"
     ]
    }
   ],
   "source": [
    "#| eval: false\n",
    "%timeit newton_solver_jax(f=f_jax, get_jacobian=jac_jax, U_wall_top=U_wall_top_jax, N=N, Re=Re, algorithm=\"base\")"
   ]
  },
  {
   "cell_type": "code",
   "execution_count": null,
   "metadata": {},
   "outputs": [
    {
     "name": "stdout",
     "output_type": "stream",
     "text": [
      "1.71 s ± 215 ms per loop (mean ± std. dev. of 7 runs, 1 loop each)\n"
     ]
    }
   ],
   "source": [
    "#| eval: false\n",
    "%timeit newton_solver_jax(f=f_jax, get_jacobian=jac_jax, U_wall_top=U_wall_top_jax, N=N, Re=Re, algorithm=\"lineax_base\")"
   ]
  },
  {
   "cell_type": "markdown",
   "metadata": {},
   "source": [
    "# Export"
   ]
  },
  {
   "cell_type": "code",
   "execution_count": null,
   "metadata": {},
   "outputs": [],
   "source": [
    "#| hide\n",
    "import nbdev; nbdev.nbdev_export()"
   ]
  }
 ],
 "metadata": {
  "kernelspec": {
   "display_name": "python3",
   "language": "python",
   "name": "python3"
  }
 },
 "nbformat": 4,
 "nbformat_minor": 2
}
