{
 "cells": [
  {
   "cell_type": "markdown",
   "metadata": {},
   "source": [
    "# streamfunction_vorticity_jax_solvers\n",
    "\n",
    "> Solvers based on the JAX package for the full Navier-Stokes equations in the streamfunction-vorticity form"
   ]
  },
  {
   "cell_type": "code",
   "execution_count": null,
   "metadata": {},
   "outputs": [],
   "source": [
    "#| default_exp streamfunction_vorticity_jax"
   ]
  },
  {
   "cell_type": "markdown",
   "metadata": {},
   "source": [
    "# Imports"
   ]
  },
  {
   "cell_type": "code",
   "execution_count": null,
   "metadata": {},
   "outputs": [
    {
     "name": "stdout",
     "output_type": "stream",
     "text": [
      "The autoreload extension is already loaded. To reload it, use:\n",
      "  %reload_ext autoreload\n"
     ]
    }
   ],
   "source": [
    "# Autoreload modules\n",
    "%load_ext autoreload\n",
    "%autoreload 2"
   ]
  },
  {
   "cell_type": "code",
   "execution_count": null,
   "metadata": {},
   "outputs": [],
   "source": [
    "#| export\n",
    "from uom_project import core\n",
    "\n",
    "from functools import partial\n",
    "\n",
    "import numpy as np\n",
    "\n",
    "import jax\n",
    "import jax.numpy as jnp\n",
    "jax.config.update(\"jax_enable_x64\", True) # enable JAX to use double precision\n"
   ]
  },
  {
   "cell_type": "code",
   "execution_count": null,
   "metadata": {},
   "outputs": [],
   "source": [
    "from uom_project import streamfunction_vorticity_newton\n",
    "\n",
    "import optimistix as optx\n",
    "\n",
    "from fastcore.test import test_eq, test_close"
   ]
  },
  {
   "cell_type": "markdown",
   "metadata": {},
   "source": [
    "# JAX Newton solver"
   ]
  },
  {
   "cell_type": "code",
   "execution_count": null,
   "metadata": {},
   "outputs": [],
   "source": [
    "#| exporti\n",
    "@jax.jit\n",
    "def f_jax(x, Re, U_wall_top):\n",
    "    N = int(np.sqrt(x.shape[0] // 2 + 1))\n",
    "    h = 1 / N\n",
    "\n",
    "    psi = x[:(N-1)**2].reshape(N-1, N-1)\n",
    "    w_left   = x[(N-1)**2 + 0*(N-1) : (N-1)**2 + 1*(N-1)]\n",
    "    w_right  = x[(N-1)**2 + 1*(N-1) : (N-1)**2 + 2*(N-1)]\n",
    "    w_bottom = x[(N-1)**2 + 2*(N-1) : (N-1)**2 + 3*(N-1)]\n",
    "    w_top    = x[(N-1)**2 + 3*(N-1) : (N-1)**2 + 4*(N-1)]\n",
    "    w_middle = x[(N-1)**2 + 4*(N-1) :].reshape(N-1, N-1)\n",
    "\n",
    "    # Calculate the equations coming from the Poisson equation\n",
    "    f_poisson = -4 * psi\n",
    "    f_poisson = f_poisson.at[:-1, :].add(psi[1:, :])\n",
    "    f_poisson = f_poisson.at[1:, :].add(psi[:-1, :])\n",
    "    f_poisson = f_poisson.at[:, :-1].add(psi[:, 1:])\n",
    "    f_poisson = f_poisson.at[:, 1:].add(psi[:, :-1])\n",
    "    f_poisson = f_poisson + h ** 2 * w_middle\n",
    "\n",
    "    # Calculate the sides first\n",
    "    # y = 0, U_wall = 0\n",
    "    f_w_bottom = h ** 2 * (w_middle[:, 0] + 3 * w_bottom) + 8 * psi[:, 0]\n",
    "    # y = 1, U_wall is known here\n",
    "    f_w_top = h ** 2 * (w_middle[:, -1] + 3 * w_top) + 8 * (\n",
    "        h * U_wall_top + psi[:, -1]\n",
    "    )\n",
    "    # x = 0\n",
    "    f_w_left = h ** 2 * (w_middle[0, :] + 3 * w_left) + 8 * psi[0, :]\n",
    "    # x = 1\n",
    "    f_w_right = h ** 2 * (w_middle[-1, :] + 3 * w_right) + 8 * psi[-1, :]\n",
    "\n",
    "    f_w_middle = -4 * w_middle\n",
    "    f_w_middle = f_w_middle.at[:-1, :].add(w_middle[1:, :])\n",
    "    f_w_middle = f_w_middle.at[-1:, :].add(w_right)\n",
    "    f_w_middle = f_w_middle.at[1:, :].add(w_middle[:-1, :])\n",
    "    f_w_middle = f_w_middle.at[:1, :].add(w_left)\n",
    "    f_w_middle = f_w_middle.at[:, :-1].add(w_middle[:, 1:])\n",
    "    f_w_middle = f_w_middle.at[:, -1].add(w_top)\n",
    "    f_w_middle = f_w_middle.at[:, 1:].add(w_middle[:, :-1])\n",
    "    f_w_middle = f_w_middle.at[:, 0].add(w_bottom)\n",
    "\n",
    "    f_w_middle = f_w_middle.at[1:-1, 1:-1].add(Re * (\n",
    "        (psi[2:, 1:-1] - psi[:-2, 1:-1]) * (w_middle[1:-1, 2:] - w_middle[1:-1, :-2]) -\n",
    "        (psi[1:-1, 2:] - psi[1:-1, :-2]) * (w_middle[2:, 1:-1] - w_middle[:-2, 1:-1])\n",
    "    ) / 4)\n",
    "    f_w_middle = f_w_middle.at[:1, 1:-1].add(Re * (\n",
    "        psi[1, 1:-1] * (w_middle[0, 2:] - w_middle[0, :-2]) -\n",
    "        (psi[0, 2:] - psi[0, :-2]) * (w_middle[1, 1:-1] - w_left[1:-1])\n",
    "    ) / 4)\n",
    "    f_w_middle = f_w_middle.at[-1:, 1:-1].add(-Re * (\n",
    "        psi[-2, 1:-1] * (w_middle[-1, 2:] - w_middle[-1, :-2]) +\n",
    "        (psi[-1, 2:] - psi[-1, :-2]) * (w_right[1:-1] - w_middle[-2, 1:-1])\n",
    "    ) / 4)\n",
    "    f_w_middle = f_w_middle.at[1:-1, 0].add(Re * (\n",
    "        (psi[2:, 0] - psi[:-2, 0]) * (w_middle[1:-1, 1] - w_bottom[1:-1]) -\n",
    "        psi[1:-1, 1] * (w_middle[2:, 0] - w_middle[:-2, 0])\n",
    "    ) / 4)\n",
    "    f_w_middle = f_w_middle.at[1:-1, -1].add(Re * (\n",
    "        (psi[2:, -1] - psi[:-2, -1]) * (w_top[1:-1] - w_middle[1:-1, -2]) +\n",
    "        psi[1:-1, -2] * (w_middle[2:, -1] - w_middle[:-2, -1])\n",
    "    ) / 4)\n",
    "    f_w_middle = f_w_middle.at[0, 0].add(Re * (\n",
    "        psi[1, 0] * (w_middle[0, 1] - w_bottom[0]) -\n",
    "        psi[0, 1] * (w_middle[1, 0] - w_left[0])\n",
    "    ) / 4)\n",
    "    f_w_middle = f_w_middle.at[-1, 0].add(-Re * (\n",
    "        psi[-2, 0] * (w_middle[-1, 1] - w_bottom[-1]) +\n",
    "        psi[-1, 1] * (w_right[0] - w_middle[-2, 0])\n",
    "    ) / 4)\n",
    "    f_w_middle = f_w_middle.at[0, -1].add(Re * (\n",
    "        psi[1, -1] * (w_top[0] - w_middle[0, -2]) +\n",
    "        psi[0, -2] * (w_middle[1, -1] - w_left[-1])\n",
    "    ) / 4)\n",
    "    f_w_middle = f_w_middle.at[-1, -1].add(-Re * (\n",
    "        psi[-2, -1] * (w_top[-1] - w_middle[-1, -2]) -\n",
    "        psi[-1, -2] * (w_right[-1] - w_middle[-2, -1])\n",
    "    ) / 4)\n",
    "\n",
    "    return jnp.concatenate([\n",
    "        f_poisson.flatten(), f_w_left, f_w_right, f_w_bottom, f_w_top,\n",
    "        f_w_middle.flatten(),\n",
    "    ], axis=0)\n"
   ]
  },
  {
   "cell_type": "code",
   "execution_count": null,
   "metadata": {},
   "outputs": [
    {
     "name": "stdout",
     "output_type": "stream",
     "text": [
      "CPU times: user 480 µs, sys: 66 µs, total: 546 µs\n",
      "Wall time: 2.34 ms\n",
      "CPU times: user 515 µs, sys: 58 µs, total: 573 µs\n",
      "Wall time: 6.65 ms\n",
      "CPU times: user 142 µs, sys: 11 µs, total: 153 µs\n",
      "Wall time: 383 µs\n"
     ]
    }
   ],
   "source": [
    "N = 40\n",
    "size = (N - 1) ** 2 + (N + 1) ** 2 - 4\n",
    "x = np.random.randn(size)\n",
    "Re = 10\n",
    "U_wall_top = np.sin(np.pi * np.arange(1, N) / N) ** 2\n",
    "\n",
    "res_1 = streamfunction_vorticity_newton.f(x, Re, U_wall_top)\n",
    "\n",
    "\n",
    "%time x_jax = jax.device_put(x).astype(jnp.float64)\n",
    "%time U_wall_top_jax = jax.device_put(U_wall_top)\n",
    "%time res_2 = f_jax(x_jax, Re, U_wall_top_jax).block_until_ready() # Compile once\n",
    "\n",
    "# Check MSE\n",
    "test_eq(np.allclose(res_1, res_2), True)\n",
    "test_close(res_1, res_2, eps=1e-8)"
   ]
  },
  {
   "cell_type": "code",
   "execution_count": null,
   "metadata": {},
   "outputs": [
    {
     "name": "stdout",
     "output_type": "stream",
     "text": [
      "271 µs ± 153 µs per loop (mean ± std. dev. of 7 runs, 1,000 loops each)\n"
     ]
    }
   ],
   "source": [
    "#| eval: false\n",
    "%timeit streamfunction_vorticity_newton.f(x, Re, U_wall_top)"
   ]
  },
  {
   "cell_type": "code",
   "execution_count": null,
   "metadata": {},
   "outputs": [
    {
     "name": "stdout",
     "output_type": "stream",
     "text": [
      "48.1 µs ± 9.85 µs per loop (mean ± std. dev. of 7 runs, 10,000 loops each)\n"
     ]
    }
   ],
   "source": [
    "#| eval: false\n",
    "%timeit f_jax(x_jax, Re, U_wall_top_jax).block_until_ready()"
   ]
  },
  {
   "cell_type": "code",
   "execution_count": null,
   "metadata": {},
   "outputs": [
    {
     "data": {
      "text/plain": [
       "((3198,), (3198,))"
      ]
     },
     "execution_count": null,
     "metadata": {},
     "output_type": "execute_result"
    }
   ],
   "source": [
    "res_1.shape, res_2.shape"
   ]
  },
  {
   "cell_type": "code",
   "execution_count": null,
   "metadata": {},
   "outputs": [
    {
     "name": "stdout",
     "output_type": "stream",
     "text": [
      "CPU times: user 1.11 s, sys: 152 ms, total: 1.26 s\n",
      "Wall time: 1.54 s\n"
     ]
    },
    {
     "data": {
      "text/plain": [
       "(3198, 3198)"
      ]
     },
     "execution_count": null,
     "metadata": {},
     "output_type": "execute_result"
    }
   ],
   "source": [
    "#| eval: false\n",
    "jac = jax.jit(jax.jacfwd(f_jax))\n",
    "%time jacobian = jac(x_jax, Re, U_wall_top_jax).block_until_ready(); # Compile once\n",
    "\n",
    "jacobian.shape"
   ]
  },
  {
   "cell_type": "code",
   "execution_count": null,
   "metadata": {},
   "outputs": [
    {
     "name": "stdout",
     "output_type": "stream",
     "text": [
      "271 ms ± 70.4 ms per loop (mean ± std. dev. of 30 runs, 1 loop each)\n"
     ]
    }
   ],
   "source": [
    "#| eval: false\n",
    "%timeit -r 30 jac(x_jax, Re, U_wall_top_jax).block_until_ready()"
   ]
  },
  {
   "cell_type": "code",
   "execution_count": null,
   "metadata": {},
   "outputs": [],
   "source": [
    "#| eval: false\n",
    "import torch\n",
    "from torch.func import jacfwd\n",
    "from uom_project import streamfunction_vorticity_pytorch\n",
    "\n",
    "x = torch.randn(size, 1).double()\n",
    "U_wall_top = torch.sin(torch.pi * torch.arange(1, N) / N) ** 2\n",
    "\n",
    "py_jac = jacfwd(streamfunction_vorticity_pytorch.f_pytorch)"
   ]
  },
  {
   "cell_type": "code",
   "execution_count": null,
   "metadata": {},
   "outputs": [
    {
     "name": "stdout",
     "output_type": "stream",
     "text": [
      "652 ms ± 99.5 ms per loop (mean ± std. dev. of 7 runs, 1 loop each)\n"
     ]
    }
   ],
   "source": [
    "#| eval: false\n",
    "%timeit py_jac(x, Re, U_wall_top).squeeze()"
   ]
  },
  {
   "cell_type": "code",
   "execution_count": null,
   "metadata": {},
   "outputs": [],
   "source": [
    "#| exporti\n",
    "\n",
    "def reconstruct_w_jax(w_tmp, N):\n",
    "    w = jnp.zeros((N+1, N+1))\n",
    "\n",
    "    w = w.at[0, 1:-1].set(w_tmp[0*(N-1):1*(N-1)])\n",
    "    w = w.at[-1, 1:-1].set(w_tmp[1*(N-1):2*(N-1)])\n",
    "    w = w.at[1:-1, 0].set(w_tmp[2*(N-1):3*(N-1)])\n",
    "    w = w.at[1:-1, -1].set(w_tmp[3*(N-1):4*(N-1)])\n",
    "    w = w.at[1:-1, 1:-1].set(w_tmp[4*(N-1):].reshape((N - 1, N - 1)))\n",
    "\n",
    "    return w\n",
    "\n",
    "\n",
    "@partial(jax.jit, static_argnums=(0, 5,))\n",
    "def newton_iteration_step(\n",
    "    f, x, Re, U_wall_top, f_current, algorithm=\"lineax_lu\",\n",
    "):\n",
    "    jacobian = jax.jacfwd(f)(x, Re, U_wall_top)\n",
    "\n",
    "    dx = core.solve_sparse_linear_system_jax(\n",
    "        A=jacobian, b=-f_current, algorithm=algorithm,\n",
    "    )\n",
    "    x = x + dx\n",
    "\n",
    "    f_current = f(x=x, Re=Re, U_wall_top=U_wall_top)\n",
    "    f_norm = jnp.linalg.norm(f_current)\n",
    "\n",
    "    return x, dx, f_current, f_norm\n",
    "\n",
    "\n",
    "def newton_iterator_jax(\n",
    "    f, N, Re, U_wall_top,\n",
    "    algorithm=\"lineax_lu\", TOL=1e-8, max_iter=10, quiet=True\n",
    "):\n",
    "    '''\n",
    "        - f: evaluates the function given x, Re\n",
    "        - get_jacobian: evaluates the Jacobian given N, h\n",
    "        - N: number of grid points\n",
    "        - h: grid size\n",
    "        - Re: Reynolds number\n",
    "    '''\n",
    "\n",
    "    n_iter = 0 # number of iterations\n",
    "\n",
    "    # Initialization\n",
    "    # Size (N - 1) ** 2         + (N + 1) ** 2    - 4\n",
    "    # Size (for streamfunction) + (for vorticity) - (corners of vorticity)\n",
    "    x = jnp.zeros(((N - 1) ** 2 + (N + 1) ** 2 - 4, ), dtype=jnp.float64)\n",
    "    f_current = f(x=x, Re=Re, U_wall_top=U_wall_top)\n",
    "\n",
    "    # Check if the initial guess is a solution\n",
    "    f_norm = jnp.linalg.norm(f_current)\n",
    "    if f_norm <= TOL:\n",
    "        if not quiet:\n",
    "            print(f\"n_iter={n_iter}\")\n",
    "\n",
    "        return x, n_iter\n",
    "\n",
    "    # Iterate\n",
    "    while n_iter < max_iter:\n",
    "        n_iter += 1\n",
    "\n",
    "        x, dx, f_current, f_norm = newton_iteration_step(\n",
    "            f=f, x=x, Re=Re, U_wall_top=U_wall_top,\n",
    "            f_current=f_current,\n",
    "            algorithm=algorithm,\n",
    "        )\n",
    "\n",
    "        # Check for convergence\n",
    "        if not quiet:\n",
    "            print(f\"iter={n_iter}; residual={f_norm}; dx={jnp.linalg.norm(dx)}\")\n",
    "        if f_norm <= TOL:\n",
    "            break\n",
    "\n",
    "    if not quiet:\n",
    "        print(f\"n_iter={n_iter}\")\n",
    "\n",
    "    return x, n_iter\n"
   ]
  },
  {
   "cell_type": "code",
   "execution_count": null,
   "metadata": {},
   "outputs": [],
   "source": [
    "#| export\n",
    "def newton_solver_jax(\n",
    "    f, N, Re, U_wall_top,\n",
    "    algorithm=\"lineax_lu\", TOL=1e-8, max_iter=10, quiet=True\n",
    "):\n",
    "\n",
    "    solution, n_iter = newton_iterator_jax(\n",
    "        f=f, N=N, Re=Re, U_wall_top=U_wall_top,\n",
    "        algorithm=algorithm,\n",
    "        TOL=TOL, max_iter=max_iter, quiet=quiet\n",
    "    )\n",
    "\n",
    "    psi, w = solution[:(N - 1) ** 2], solution[(N - 1) ** 2:]\n",
    "\n",
    "    # Get final psi\n",
    "    psi = psi.reshape(N - 1, N - 1)\n",
    "    psi = jnp.pad(psi, (1, 1), mode=\"constant\", constant_values=0)\n",
    "\n",
    "    # Get final w\n",
    "    w = reconstruct_w_jax(w_tmp=w, N=N)\n",
    "    w = w.reshape(N + 1, N + 1)\n",
    "\n",
    "    return w, psi, n_iter\n"
   ]
  },
  {
   "cell_type": "code",
   "execution_count": null,
   "metadata": {},
   "outputs": [
    {
     "name": "stdout",
     "output_type": "stream",
     "text": [
      "iter=1; residual=1.8164849050301797e-14; dx=39.71450891546252\n",
      "n_iter=1\n",
      "iter=1; residual=1.5969150036293684e-14; dx=39.71450891546271\n",
      "n_iter=1\n"
     ]
    }
   ],
   "source": [
    "N = 20\n",
    "Re = 0.0 # i.e. viscosity mu = inf\n",
    "U_wall_top = np.sin(np.pi * np.arange(1, N) / N) ** 2\n",
    "\n",
    "w, psi, _ = streamfunction_vorticity_newton.newton_solver(\n",
    "    f=partial(streamfunction_vorticity_newton.f, U_wall_top=U_wall_top),\n",
    "    get_jacobian=streamfunction_vorticity_newton.get_jacobian,\n",
    "    N=N, Re=Re, quiet=False\n",
    ")\n",
    "\n",
    "U_wall_top_jax = jax.device_put(U_wall_top)\n",
    "w2, psi2, n_iter = newton_solver_jax(\n",
    "    f=f_jax,\n",
    "    U_wall_top=U_wall_top_jax,\n",
    "    N=N, Re=Re, quiet=False,\n",
    "    algorithm=\"lineax_lu\",\n",
    ")\n",
    "test_eq(np.allclose(w, w2), True)\n",
    "test_eq(np.allclose(psi, psi2), True)\n",
    "test_eq(n_iter, 1)"
   ]
  },
  {
   "cell_type": "code",
   "execution_count": null,
   "metadata": {},
   "outputs": [
    {
     "name": "stdout",
     "output_type": "stream",
     "text": [
      "iter=1; residual=1.0836381666439978; dx=39.71450891546252\n",
      "iter=2; residual=0.0015404929313136678; dx=2.273926820301393\n",
      "iter=3; residual=8.799686196636605e-10; dx=0.001464259783738233\n",
      "n_iter=3\n",
      "iter=1; residual=1.0836381666440216; dx=39.71450891546271\n",
      "iter=2; residual=0.0015404929313102245; dx=2.2739268203012495\n",
      "iter=3; residual=8.799683858705381e-10; dx=0.0014642597837290449\n",
      "n_iter=3\n"
     ]
    }
   ],
   "source": [
    "N = 20\n",
    "Re = 10.0\n",
    "U_wall_top = np.sin(np.pi * np.arange(1, N) / N) ** 2\n",
    "\n",
    "w, psi, _ = streamfunction_vorticity_newton.newton_solver(\n",
    "    f=partial(streamfunction_vorticity_newton.f, U_wall_top=U_wall_top),\n",
    "    get_jacobian=streamfunction_vorticity_newton.get_jacobian,\n",
    "    N=N, Re=Re, quiet=False\n",
    ")\n",
    "\n",
    "U_wall_top_jax = jax.device_put(U_wall_top)\n",
    "w2, psi2, n_iter = newton_solver_jax(\n",
    "    f=f_jax,\n",
    "    U_wall_top=U_wall_top_jax,\n",
    "    N=N, Re=Re, quiet=False,\n",
    "    algorithm=\"lineax_lu\",\n",
    ")\n",
    "test_eq(np.allclose(w, w2), True)\n",
    "test_eq(np.allclose(psi, psi2), True)\n",
    "test_eq(n_iter, 3)"
   ]
  },
  {
   "cell_type": "code",
   "execution_count": null,
   "metadata": {},
   "outputs": [
    {
     "name": "stdout",
     "output_type": "stream",
     "text": [
      "iter=1; residual=5.302183624903474; dx=92.25374180247326\n",
      "iter=2; residual=0.006521635545205214; dx=4.11756391107747\n",
      "iter=3; residual=3.950959477471047e-09; dx=0.0036893485573113297\n",
      "n_iter=3\n",
      "iter=1; residual=5.302183624903549; dx=92.25374180247387\n",
      "iter=2; residual=0.006521635545207267; dx=4.117563911077535\n",
      "iter=3; residual=3.950963700483887e-09; dx=0.0036893485572719108\n",
      "n_iter=3\n"
     ]
    }
   ],
   "source": [
    "N = 20\n",
    "Re = 10.0\n",
    "U_wall_top = 1.0\n",
    "\n",
    "w, psi, _ = streamfunction_vorticity_newton.newton_solver(\n",
    "    f=partial(streamfunction_vorticity_newton.f, U_wall_top=U_wall_top),\n",
    "    get_jacobian=streamfunction_vorticity_newton.get_jacobian,\n",
    "    N=N, Re=Re, quiet=False\n",
    ")\n",
    "\n",
    "U_wall_top_jax = jax.device_put(U_wall_top)\n",
    "w2, psi2, n_iter = newton_solver_jax(\n",
    "    f=f_jax,\n",
    "    U_wall_top=U_wall_top_jax,\n",
    "    N=N, Re=Re, quiet=False,\n",
    "    algorithm=\"lineax_lu\",\n",
    ")\n",
    "test_eq(np.allclose(w, w2), True)\n",
    "test_eq(np.allclose(psi, psi2), True)\n",
    "test_eq(n_iter, 3)"
   ]
  },
  {
   "cell_type": "code",
   "execution_count": null,
   "metadata": {},
   "outputs": [
    {
     "name": "stdout",
     "output_type": "stream",
     "text": [
      "CPU times: user 4.83 s, sys: 438 ms, total: 5.27 s\n",
      "Wall time: 4.42 s\n",
      "CPU times: user 3.78 s, sys: 354 ms, total: 4.14 s\n",
      "Wall time: 2.88 s\n"
     ]
    }
   ],
   "source": [
    "#| eval: false\n",
    "N = 40\n",
    "Re = 10.0\n",
    "U_wall_top = np.sin(np.pi * np.arange(1, N) / N) ** 2\n",
    "U_wall_top_jax = jax.device_put(U_wall_top)\n",
    "\n",
    "fun = partial(streamfunction_vorticity_newton.f, U_wall_top=U_wall_top)\n",
    "\n",
    "jac = streamfunction_vorticity_newton.get_jacobian\n",
    "\n",
    "# NOTE: lineax version compiles about 2x faster than jax the version\n",
    "%time newton_solver_jax(f=f_jax, U_wall_top=U_wall_top_jax, N=N, Re=Re, algorithm=\"jax_base\");\n",
    "%time newton_solver_jax(f=f_jax, U_wall_top=U_wall_top_jax, N=N, Re=Re, algorithm=\"lineax_lu\");"
   ]
  },
  {
   "cell_type": "code",
   "execution_count": null,
   "metadata": {},
   "outputs": [
    {
     "name": "stdout",
     "output_type": "stream",
     "text": [
      "3.4 s ± 679 ms per loop (mean ± std. dev. of 7 runs, 1 loop each)\n"
     ]
    }
   ],
   "source": [
    "#| eval: false\n",
    "%timeit streamfunction_vorticity_newton.newton_solver(f=fun, get_jacobian=jac, N=N, Re=Re)"
   ]
  },
  {
   "cell_type": "code",
   "execution_count": null,
   "metadata": {},
   "outputs": [
    {
     "name": "stdout",
     "output_type": "stream",
     "text": [
      "The slowest run took 4.07 times longer than the fastest. This could mean that an intermediate result is being cached.\n",
      "1.95 s ± 786 ms per loop (mean ± std. dev. of 30 runs, 1 loop each)\n"
     ]
    }
   ],
   "source": [
    "#| eval: false\n",
    "%timeit -r 30 newton_solver_jax(f=f_jax, U_wall_top=U_wall_top_jax, N=N, Re=Re, algorithm=\"jax_base\")\n",
    "# %timeit newton_solver_jax(f=f_jax, U_wall_top=U_wall_top_jax, N=N, Re=Re, algorithm=\"jax_base\")"
   ]
  },
  {
   "cell_type": "markdown",
   "metadata": {},
   "source": [
    "On a GPU:\n",
    "\n",
    "520 ms ± 2.56 ms per loop (mean ± std. dev. of 30 runs, 1 loop each)"
   ]
  },
  {
   "cell_type": "code",
   "execution_count": null,
   "metadata": {},
   "outputs": [
    {
     "name": "stdout",
     "output_type": "stream",
     "text": [
      "2.25 s ± 668 ms per loop (mean ± std. dev. of 30 runs, 1 loop each)\n"
     ]
    }
   ],
   "source": [
    "#| eval: false\n",
    "%timeit -r 30 newton_solver_jax(f=f_jax, U_wall_top=U_wall_top_jax, N=N, Re=Re, algorithm=\"lineax_lu\");\n",
    "# %timeit newton_solver_jax(f=f_jax, U_wall_top=U_wall_top_jax, N=N, Re=Re, algorithm=\"lineax_lu\");"
   ]
  },
  {
   "cell_type": "markdown",
   "metadata": {},
   "source": [
    "On a GPU:\n",
    "\n",
    "525 ms ± 2.81 ms per loop (mean ± std. dev. of 30 runs, 1 loop each)"
   ]
  },
  {
   "cell_type": "markdown",
   "metadata": {},
   "source": [
    "# JAX root solver"
   ]
  },
  {
   "cell_type": "code",
   "execution_count": null,
   "metadata": {},
   "outputs": [],
   "source": [
    "# NOTE: other algorithms are available in optimistix, but even Newton is\n",
    "# slower than my baseline, so I did not bother checking the others\n",
    "JAX_ROOT_SOLVING_ALGORITHMS = {\n",
    "    \"newton\": optx.Newton,\n",
    "}\n",
    "\n",
    "def root_solver_jax(\n",
    "    f, N, Re, U_wall_top, rtol=1e-8, atol=1e-8, max_steps=10, algorithm=\"newton\",\n",
    "):\n",
    "    solver = JAX_ROOT_SOLVING_ALGORITHMS[algorithm](atol=atol, rtol=rtol)\n",
    "\n",
    "    fn = lambda x, args: f(x, *args)\n",
    "    solution = optx.root_find(\n",
    "        fn=fn,\n",
    "        args=(Re, U_wall_top),\n",
    "        y0=jnp.zeros((N - 1) ** 2 + (N + 1) ** 2 - 4, dtype=jnp.float64),\n",
    "        solver=solver,\n",
    "        max_steps=max_steps,\n",
    "        options={\n",
    "            \"norm\": optx._misc.two_norm,\n",
    "            # \"norm\": optx._misc.max_norm,\n",
    "        }\n",
    "    )\n",
    "\n",
    "    psi, w = solution.value[:(N - 1) ** 2], solution.value[(N - 1) ** 2:]\n",
    "\n",
    "    # Get final psi\n",
    "    psi = psi.reshape(N - 1, N - 1)\n",
    "    psi = jnp.pad(psi, (1, 1), mode=\"constant\", constant_values=0)\n",
    "\n",
    "    # Get final w\n",
    "    w = reconstruct_w_jax(w_tmp=w, N=N)\n",
    "    w = w.reshape(N + 1, N + 1)\n",
    "\n",
    "    return w, psi, solution\n"
   ]
  },
  {
   "cell_type": "code",
   "execution_count": null,
   "metadata": {},
   "outputs": [
    {
     "name": "stdout",
     "output_type": "stream",
     "text": [
      "iter=1; residual=1.8164849050301797e-14; dx=39.71450891546252\n",
      "n_iter=1\n"
     ]
    }
   ],
   "source": [
    "#| eval: false\n",
    "\n",
    "N = 20\n",
    "Re = 0.0 # i.e. viscosity mu = inf\n",
    "U_wall_top = np.sin(np.pi * np.arange(1, N) / N) ** 2\n",
    "\n",
    "w, psi, _ = streamfunction_vorticity_newton.newton_solver(\n",
    "    f=partial(streamfunction_vorticity_newton.f, U_wall_top=U_wall_top),\n",
    "    get_jacobian=streamfunction_vorticity_newton.get_jacobian,\n",
    "    N=N, Re=Re, quiet=False\n",
    ")\n",
    "\n",
    "U_wall_top_jax = jax.device_put(U_wall_top)\n",
    "w2, psi2, solution = root_solver_jax(\n",
    "    f=f_jax, U_wall_top=U_wall_top_jax,\n",
    "    N=N, Re=Re,\n",
    "    algorithm=\"newton\",\n",
    ")\n",
    "\n",
    "test_eq(np.allclose(w, w2), True)\n",
    "test_eq(np.allclose(psi, psi2), True)\n",
    "test_eq(solution.stats[\"num_steps\"].item(), 2)"
   ]
  },
  {
   "cell_type": "code",
   "execution_count": null,
   "metadata": {},
   "outputs": [
    {
     "name": "stdout",
     "output_type": "stream",
     "text": [
      "iter=1; residual=1.0836381666439978; dx=39.71450891546252\n",
      "iter=2; residual=0.0015404929313136678; dx=2.273926820301393\n",
      "iter=3; residual=8.799686196636605e-10; dx=0.001464259783738233\n",
      "n_iter=3\n"
     ]
    }
   ],
   "source": [
    "#| eval: false\n",
    "\n",
    "N = 20\n",
    "Re = 10.0\n",
    "U_wall_top = np.sin(np.pi * np.arange(1, N) / N) ** 2\n",
    "\n",
    "w, psi, _ = streamfunction_vorticity_newton.newton_solver(\n",
    "    f=partial(streamfunction_vorticity_newton.f, U_wall_top=U_wall_top),\n",
    "    get_jacobian=streamfunction_vorticity_newton.get_jacobian,\n",
    "    N=N, Re=Re, quiet=False\n",
    ")\n",
    "\n",
    "U_wall_top_jax = jax.device_put(U_wall_top)\n",
    "w2, psi2, solution = root_solver_jax(\n",
    "    f=f_jax, U_wall_top=U_wall_top_jax,\n",
    "    N=N, Re=Re,\n",
    "    algorithm=\"newton\",\n",
    ")\n",
    "\n",
    "test_eq(np.allclose(w, w2), True)\n",
    "test_eq(np.allclose(psi, psi2), True)\n",
    "test_eq(solution.stats[\"num_steps\"].item(), 4)"
   ]
  },
  {
   "cell_type": "code",
   "execution_count": null,
   "metadata": {},
   "outputs": [
    {
     "name": "stdout",
     "output_type": "stream",
     "text": [
      "iter=1; residual=5.302183624903474; dx=92.25374180247326\n",
      "iter=2; residual=0.006521635545205214; dx=4.11756391107747\n",
      "iter=3; residual=3.950959477471047e-09; dx=0.0036893485573113297\n",
      "n_iter=3\n"
     ]
    }
   ],
   "source": [
    "#| eval: false\n",
    "\n",
    "N = 20\n",
    "Re = 10.0\n",
    "U_wall_top = 1.0\n",
    "\n",
    "w, psi, _ = streamfunction_vorticity_newton.newton_solver(\n",
    "    f=partial(streamfunction_vorticity_newton.f, U_wall_top=U_wall_top),\n",
    "    get_jacobian=streamfunction_vorticity_newton.get_jacobian,\n",
    "    N=N, Re=Re, quiet=False\n",
    ")\n",
    "\n",
    "U_wall_top_jax = jax.device_put(U_wall_top)\n",
    "w2, psi2, solution = root_solver_jax(\n",
    "    f=f_jax, U_wall_top=U_wall_top_jax,\n",
    "    N=N, Re=Re,\n",
    "    algorithm=\"newton\",\n",
    ")\n",
    "\n",
    "test_eq(np.allclose(w, w2), True)\n",
    "test_eq(np.allclose(psi, psi2), True)\n",
    "test_eq(solution.stats[\"num_steps\"].item(), 4)"
   ]
  },
  {
   "cell_type": "code",
   "execution_count": null,
   "metadata": {},
   "outputs": [
    {
     "name": "stdout",
     "output_type": "stream",
     "text": [
      "CPU times: user 3.87 s, sys: 147 ms, total: 4.01 s\n",
      "Wall time: 4.2 s\n"
     ]
    }
   ],
   "source": [
    "#| eval: false\n",
    "\n",
    "N = 20\n",
    "Re = 10.0\n",
    "U_wall_top = np.sin(np.pi * np.arange(1, N) / N) ** 2\n",
    "U_wall_top_jax = jax.device_put(U_wall_top)\n",
    "\n",
    "fun = partial(streamfunction_vorticity_newton.f, U_wall_top=U_wall_top)\n",
    "\n",
    "jac = streamfunction_vorticity_newton.get_jacobian\n",
    "\n",
    "%time root_solver_jax(f=f_jax, U_wall_top=U_wall_top_jax, N=N, Re=Re, algorithm=\"newton\");"
   ]
  },
  {
   "cell_type": "code",
   "execution_count": null,
   "metadata": {},
   "outputs": [
    {
     "name": "stdout",
     "output_type": "stream",
     "text": [
      "The slowest run took 4.26 times longer than the fastest. This could mean that an intermediate result is being cached.\n",
      "683 ms ± 470 ms per loop (mean ± std. dev. of 7 runs, 1 loop each)\n"
     ]
    }
   ],
   "source": [
    "#| eval: false\n",
    "%timeit streamfunction_vorticity_newton.newton_solver(f=fun, get_jacobian=jac, N=N, Re=Re)"
   ]
  },
  {
   "cell_type": "code",
   "execution_count": null,
   "metadata": {},
   "outputs": [
    {
     "name": "stdout",
     "output_type": "stream",
     "text": [
      "3.8 s ± 192 ms per loop (mean ± std. dev. of 7 runs, 1 loop each)\n"
     ]
    }
   ],
   "source": [
    "#| eval: false\n",
    "%timeit root_solver_jax(f=f_jax, U_wall_top=U_wall_top_jax, N=N, Re=Re, algorithm=\"newton\")"
   ]
  },
  {
   "cell_type": "markdown",
   "metadata": {},
   "source": [
    "# Export"
   ]
  },
  {
   "cell_type": "code",
   "execution_count": null,
   "metadata": {},
   "outputs": [],
   "source": [
    "#| hide\n",
    "import nbdev; nbdev.nbdev_export()"
   ]
  }
 ],
 "metadata": {
  "kernelspec": {
   "display_name": "python3",
   "language": "python",
   "name": "python3"
  }
 },
 "nbformat": 4,
 "nbformat_minor": 2
}
