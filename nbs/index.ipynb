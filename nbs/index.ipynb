{
 "cells": [
  {
   "cell_type": "code",
   "execution_count": null,
   "metadata": {},
   "outputs": [],
   "source": [
    "#| hide\n",
    "from uom_project import poisson_solvers\n",
    "\n",
    "import numpy as np"
   ]
  },
  {
   "cell_type": "markdown",
   "metadata": {},
   "source": [
    "# uom-project\n",
    "\n",
    "> Repository containing code and and other materials for my undergraduate project on numerical solutions to the Navier-Stokes equations at the University of Manchester."
   ]
  },
  {
   "cell_type": "markdown",
   "metadata": {},
   "source": [
    "## Install"
   ]
  },
  {
   "cell_type": "markdown",
   "metadata": {},
   "source": [
    "```sh\n",
    "pip install uom_project\n",
    "```"
   ]
  },
  {
   "cell_type": "markdown",
   "metadata": {},
   "source": [
    "## How to use"
   ]
  },
  {
   "cell_type": "markdown",
   "metadata": {},
   "source": [
    "### Poisson solvers\n",
    "\n",
    "#### Gauss-Seidel"
   ]
  },
  {
   "cell_type": "code",
   "execution_count": null,
   "metadata": {},
   "outputs": [],
   "source": [
    "N = 20\n",
    "nx = ny = N + 1\n",
    "h = 1 / N\n",
    "\n",
    "# SOR parameter\n",
    "r = 2 / (1 + np.pi / N) # optimal value\n",
    "\n",
    "# Initialize grid and the value of the vorticity `w` on it\n",
    "x_grid, y_grid = np.meshgrid(\n",
    "    np.linspace(0, 1, nx), np.linspace(0, 1, ny), indexing=\"ij\"\n",
    ")\n",
    "w = 2 * np.pi ** 2 * np.sin(np.pi * x_grid) * np.sin(np.pi * y_grid)\n",
    "\n",
    "# Compute the exact solution\n",
    "exact_solution = np.sin(np.pi * x_grid) * np.sin(np.pi * y_grid)"
   ]
  },
  {
   "cell_type": "code",
   "execution_count": null,
   "metadata": {},
   "outputs": [
    {
     "data": {
      "text/plain": [
       "0.0020587065214789924"
      ]
     },
     "execution_count": null,
     "metadata": {},
     "output_type": "execute_result"
    }
   ],
   "source": [
    "psi = poisson_solvers.poisson_gauss_seidel_with_sor_solver(w, verbose=False,)[0]\n",
    "\n",
    "# Check absolute error is small\n",
    "np.abs(psi - exact_solution).max()"
   ]
  },
  {
   "cell_type": "code",
   "execution_count": null,
   "metadata": {},
   "outputs": [
    {
     "data": {
      "text/plain": [
       "0.002058706764533902"
      ]
     },
     "execution_count": null,
     "metadata": {},
     "output_type": "execute_result"
    }
   ],
   "source": [
    "psi = poisson_solvers.poisson_non_iterative_solver(w)\n",
    "\n",
    "# Check absolute error is small\n",
    "np.abs(psi - exact_solution).max()"
   ]
  },
  {
   "cell_type": "code",
   "execution_count": null,
   "metadata": {},
   "outputs": [
    {
     "data": {
      "text/plain": [
       "0.002058706764533458"
      ]
     },
     "execution_count": null,
     "metadata": {},
     "output_type": "execute_result"
    }
   ],
   "source": [
    "options = { \"line_search\": None, \"jac_options\": { \"reduction_method\": \"svd\" } }\n",
    "psi, solution = poisson_solvers.newton_alternative(w, method=\"broyden2\", options=options)\n",
    "\n",
    "# Check absolute error is small\n",
    "np.abs(psi - exact_solution).max()"
   ]
  },
  {
   "cell_type": "markdown",
   "metadata": {},
   "source": [
    "#### SciPy solvers"
   ]
  },
  {
   "cell_type": "code",
   "execution_count": null,
   "metadata": {},
   "outputs": [],
   "source": []
  }
 ],
 "metadata": {
  "kernelspec": {
   "display_name": "python3",
   "language": "python",
   "name": "python3"
  }
 },
 "nbformat": 4,
 "nbformat_minor": 4
}
