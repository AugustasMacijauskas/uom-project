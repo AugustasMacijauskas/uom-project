{
 "cells": [
  {
   "cell_type": "code",
   "execution_count": null,
   "metadata": {},
   "outputs": [],
   "source": [
    "#| hide\n",
    "from uom_project import (\n",
    "    core, poisson_solvers, streamfunction_vorticity,\n",
    "    streamfunction_vorticity_newton,\n",
    ")\n",
    "\n",
    "from functools import partial\n",
    "\n",
    "import numpy as np"
   ]
  },
  {
   "cell_type": "markdown",
   "metadata": {},
   "source": [
    "# uom-project\n",
    "\n",
    "> Repository containing code and and other materials for my undergraduate project on numerical solutions to the Navier-Stokes equations at the University of Manchester."
   ]
  },
  {
   "cell_type": "markdown",
   "metadata": {},
   "source": [
    "## Install"
   ]
  },
  {
   "cell_type": "markdown",
   "metadata": {},
   "source": [
    "```sh\n",
    "pip install uom_project\n",
    "```"
   ]
  },
  {
   "cell_type": "markdown",
   "metadata": {},
   "source": [
    "## How to use"
   ]
  },
  {
   "cell_type": "markdown",
   "metadata": {},
   "source": [
    "### Poisson solvers"
   ]
  },
  {
   "cell_type": "code",
   "execution_count": null,
   "metadata": {},
   "outputs": [],
   "source": [
    "# Setup the problem\n",
    "w, exact_solution = core.setup_poisson_problem(N=20)[:2]"
   ]
  },
  {
   "cell_type": "markdown",
   "metadata": {},
   "source": [
    "#### Gauss-Seidel"
   ]
  },
  {
   "cell_type": "code",
   "execution_count": null,
   "metadata": {},
   "outputs": [
    {
     "data": {
      "text/plain": [
       "0.0020587065214789924"
      ]
     },
     "execution_count": null,
     "metadata": {},
     "output_type": "execute_result"
    }
   ],
   "source": [
    "psi = poisson_solvers.poisson_gauss_seidel_with_sor_solver(w, verbose=False)[0]\n",
    "np.abs(psi - exact_solution).max() # Check absolute error is small"
   ]
  },
  {
   "cell_type": "markdown",
   "metadata": {},
   "source": [
    "#### SciPy solvers"
   ]
  },
  {
   "cell_type": "code",
   "execution_count": null,
   "metadata": {},
   "outputs": [
    {
     "data": {
      "text/plain": [
       "0.002058706764533902"
      ]
     },
     "execution_count": null,
     "metadata": {},
     "output_type": "execute_result"
    }
   ],
   "source": [
    "psi = poisson_solvers.poisson_non_iterative_solver(w, algorithm=\"base\")\n",
    "np.abs(psi - exact_solution).max() # Check absolute error is small"
   ]
  },
  {
   "cell_type": "code",
   "execution_count": null,
   "metadata": {},
   "outputs": [
    {
     "data": {
      "text/plain": [
       "0.00205870676453368"
      ]
     },
     "execution_count": null,
     "metadata": {},
     "output_type": "execute_result"
    }
   ],
   "source": [
    "psi = poisson_solvers.poisson_non_iterative_solver(w, algorithm=\"bicgstab\")\n",
    "np.abs(psi - exact_solution).max() # Check absolute error is small"
   ]
  },
  {
   "cell_type": "markdown",
   "metadata": {},
   "source": [
    "#### Newton's and similar solvers"
   ]
  },
  {
   "cell_type": "code",
   "execution_count": null,
   "metadata": {},
   "outputs": [
    {
     "data": {
      "text/plain": [
       "0.002058706764533902"
      ]
     },
     "execution_count": null,
     "metadata": {},
     "output_type": "execute_result"
    }
   ],
   "source": [
    "psi = poisson_solvers.poisson_newton_solver(w)\n",
    "np.abs(psi - exact_solution).max() # Check absolute error is small"
   ]
  },
  {
   "cell_type": "code",
   "execution_count": null,
   "metadata": {},
   "outputs": [
    {
     "data": {
      "text/plain": [
       "0.002058706764533458"
      ]
     },
     "execution_count": null,
     "metadata": {},
     "output_type": "execute_result"
    }
   ],
   "source": [
    "options = { \"line_search\": None, \"jac_options\": { \"reduction_method\": \"svd\" } }\n",
    "psi, solution = poisson_solvers.poisson_newton_alternative_solver(\n",
    "    w, method=\"broyden2\", options=options\n",
    ")\n",
    "np.abs(psi - exact_solution).max() # Check absolute error is small"
   ]
  },
  {
   "cell_type": "markdown",
   "metadata": {},
   "source": [
    "### Solving the full Navier-Stokes equations in the streamfunction-vorticity form"
   ]
  },
  {
   "cell_type": "code",
   "execution_count": null,
   "metadata": {},
   "outputs": [
    {
     "name": "stdout",
     "output_type": "stream",
     "text": [
      "t=0.50000; w(0.5, 0.5)=-0.5345059709566309\n",
      "t=1.00000; w(0.5, 0.5)=-0.639156573004994\n",
      "t=1.50000; w(0.5, 0.5)=-0.6466476560907706\n",
      "t=2.00000; w(0.5, 0.5)=-0.6471822817711572\n",
      "t=2.50000; w(0.5, 0.5)=-0.6472204426025077\n",
      "t=3.00000; w(0.5, 0.5)=-0.6472231665567474\n",
      "t=3.50000; w(0.5, 0.5)=-0.6472233609961568\n"
     ]
    }
   ],
   "source": [
    "N = 20\n",
    "nx, ny, x_grid, y_grid = core.setup_poisson_problem(N=N)[2:]\n",
    "h = 1 / N\n",
    "\n",
    "\n",
    "U_wall_top = np.sin(np.pi * np.arange(1, nx - 1) * h) ** 2\n",
    "Re = 10 # i.e. mu = 0.1\n",
    "\n",
    "tfinal = 3.5\n",
    "dt = 0.2 * Re / (N ** 2)\n",
    "dpic = 0.5\n",
    "\n",
    "w, psi, _ = streamfunction_vorticity.streamfunction_vorticity_iterative_solver(\n",
    "    N=N, Re=Re, tfinal=tfinal, U_wall_top=U_wall_top, dt=dt, print_every=dpic\n",
    ")"
   ]
  },
  {
   "cell_type": "code",
   "execution_count": null,
   "metadata": {},
   "outputs": [
    {
     "name": "stdout",
     "output_type": "stream",
     "text": [
      "iter=1; residual=1.0836381666440038; dx=39.71450891546238\n",
      "iter=2; residual=0.0015404929313134973; dx=2.2739268203013605\n",
      "iter=3; residual=8.799679858681107e-10; dx=0.0014642597837430872\n",
      "n_iter=3\n"
     ]
    },
    {
     "data": {
      "text/plain": [
       "(True, True)"
      ]
     },
     "execution_count": null,
     "metadata": {},
     "output_type": "execute_result"
    }
   ],
   "source": [
    "w2, psi2, _ = streamfunction_vorticity_newton.newton_solver(\n",
    "    f=partial(streamfunction_vorticity_newton.f, U_wall_top=U_wall_top),\n",
    "    get_jacobian=streamfunction_vorticity_newton.get_jacobian,\n",
    "    N=N, Re=Re, quiet=False,\n",
    ")\n",
    "\n",
    "np.allclose(w, w2, ), np.allclose(psi, psi2)"
   ]
  },
  {
   "cell_type": "code",
   "execution_count": null,
   "metadata": {},
   "outputs": [],
   "source": []
  }
 ],
 "metadata": {
  "kernelspec": {
   "display_name": "python3",
   "language": "python",
   "name": "python3"
  }
 },
 "nbformat": 4,
 "nbformat_minor": 4
}
