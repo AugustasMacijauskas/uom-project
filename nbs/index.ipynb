{
 "cells": [
  {
   "cell_type": "code",
   "execution_count": null,
   "metadata": {},
   "outputs": [],
   "source": [
    "#| hide\n",
    "from uom_project import (\n",
    "    poisson_solvers, streamfunction_vorticity\n",
    ")\n",
    "\n",
    "import numpy as np"
   ]
  },
  {
   "cell_type": "markdown",
   "metadata": {},
   "source": [
    "# uom-project\n",
    "\n",
    "> Repository containing code and and other materials for my undergraduate project on numerical solutions to the Navier-Stokes equations at the University of Manchester."
   ]
  },
  {
   "cell_type": "markdown",
   "metadata": {},
   "source": [
    "## Install"
   ]
  },
  {
   "cell_type": "markdown",
   "metadata": {},
   "source": [
    "```sh\n",
    "pip install uom_project\n",
    "```"
   ]
  },
  {
   "cell_type": "markdown",
   "metadata": {},
   "source": [
    "## How to use"
   ]
  },
  {
   "cell_type": "markdown",
   "metadata": {},
   "source": [
    "### Poisson solvers"
   ]
  },
  {
   "cell_type": "code",
   "execution_count": null,
   "metadata": {},
   "outputs": [],
   "source": [
    "# Setup the problem\n",
    "w, exact_solution = poisson_solvers.setup_poisson_problem(N=20)[:2]"
   ]
  },
  {
   "cell_type": "markdown",
   "metadata": {},
   "source": [
    "#### Gauss-Seidel"
   ]
  },
  {
   "cell_type": "code",
   "execution_count": null,
   "metadata": {},
   "outputs": [
    {
     "data": {
      "text/plain": [
       "0.0020587065214789924"
      ]
     },
     "execution_count": null,
     "metadata": {},
     "output_type": "execute_result"
    }
   ],
   "source": [
    "psi = poisson_solvers.poisson_gauss_seidel_with_sor_solver(w, verbose=False)[0]\n",
    "np.abs(psi - exact_solution).max() # Check absolute error is small"
   ]
  },
  {
   "cell_type": "markdown",
   "metadata": {},
   "source": [
    "#### SciPy solvers"
   ]
  },
  {
   "cell_type": "code",
   "execution_count": null,
   "metadata": {},
   "outputs": [
    {
     "data": {
      "text/plain": [
       "0.002058706764533902"
      ]
     },
     "execution_count": null,
     "metadata": {},
     "output_type": "execute_result"
    }
   ],
   "source": [
    "psi = poisson_solvers.poisson_non_iterative_solver(w, algorithm=\"base\")\n",
    "np.abs(psi - exact_solution).max() # Check absolute error is small"
   ]
  },
  {
   "cell_type": "code",
   "execution_count": null,
   "metadata": {},
   "outputs": [
    {
     "data": {
      "text/plain": [
       "0.00205870676453368"
      ]
     },
     "execution_count": null,
     "metadata": {},
     "output_type": "execute_result"
    }
   ],
   "source": [
    "psi = poisson_solvers.poisson_non_iterative_solver(w, algorithm=\"bicgstab\")\n",
    "np.abs(psi - exact_solution).max() # Check absolute error is small"
   ]
  },
  {
   "cell_type": "markdown",
   "metadata": {},
   "source": [
    "#### Newton's and similar solvers"
   ]
  },
  {
   "cell_type": "code",
   "execution_count": null,
   "metadata": {},
   "outputs": [
    {
     "data": {
      "text/plain": [
       "0.002058706764533902"
      ]
     },
     "execution_count": null,
     "metadata": {},
     "output_type": "execute_result"
    }
   ],
   "source": [
    "psi = poisson_solvers.poisson_newton_solver(w)\n",
    "np.abs(psi - exact_solution).max() # Check absolute error is small"
   ]
  },
  {
   "cell_type": "code",
   "execution_count": null,
   "metadata": {},
   "outputs": [
    {
     "data": {
      "text/plain": [
       "0.002058706764533458"
      ]
     },
     "execution_count": null,
     "metadata": {},
     "output_type": "execute_result"
    }
   ],
   "source": [
    "options = { \"line_search\": None, \"jac_options\": { \"reduction_method\": \"svd\" } }\n",
    "psi, solution = poisson_solvers.poisson_newton_alternative_solver(\n",
    "    w, method=\"broyden2\", options=options\n",
    ")\n",
    "np.abs(psi - exact_solution).max() # Check absolute error is small"
   ]
  },
  {
   "cell_type": "markdown",
   "metadata": {},
   "source": [
    "### Solving the full Navier-Stokes equations in the streamfunction-vorticity form"
   ]
  },
  {
   "cell_type": "code",
   "execution_count": null,
   "metadata": {},
   "outputs": [
    {
     "name": "stdout",
     "output_type": "stream",
     "text": [
      "t=0.50000; w(0.5, 0.5)=-0.5445007002863919\n",
      "t=1.00000; w(0.5, 0.5)=-0.6387065173446145\n",
      "t=1.50000; w(0.5, 0.5)=-0.6449337461819148\n",
      "t=2.00000; w(0.5, 0.5)=-0.645344900927984\n",
      "t=2.50000; w(0.5, 0.5)=-0.6453720522954078\n",
      "t=3.00000; w(0.5, 0.5)=-0.6453738453432901\n"
     ]
    }
   ],
   "source": [
    "N = 10\n",
    "Re = 10 # i.e. mu = 0.1\n",
    "\n",
    "tfinal = 3.0\n",
    "dt = 0.2 * Re / (N ** 2)\n",
    "\n",
    "# We'll only need these later\n",
    "nx, ny, x_grid, y_grid = poisson_solvers.setup_poisson_problem(N=N)[2:]\n",
    "h = 1 / N\n",
    "\n",
    "U_wall_top = np.sin(np.pi * np.arange(1, nx - 1) * h) ** 2\n",
    "\n",
    "dpic = 0.5\n",
    "\n",
    "w, psi, _ = streamfunction_vorticity.streamfunction_vorticity_iterative_solver(\n",
    "    N=N, Re=Re, tfinal=tfinal, U_wall_top=U_wall_top, dt=dt, print_every=dpic\n",
    ")"
   ]
  }
 ],
 "metadata": {
  "kernelspec": {
   "display_name": "python3",
   "language": "python",
   "name": "python3"
  }
 },
 "nbformat": 4,
 "nbformat_minor": 4
}
