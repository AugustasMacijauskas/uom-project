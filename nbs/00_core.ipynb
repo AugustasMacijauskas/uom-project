{
 "cells": [
  {
   "cell_type": "markdown",
   "metadata": {},
   "source": [
    "# core\n",
    "\n",
    "> Core methods used later in the project"
   ]
  },
  {
   "cell_type": "code",
   "execution_count": null,
   "metadata": {},
   "outputs": [],
   "source": [
    "#| default_exp core"
   ]
  },
  {
   "cell_type": "markdown",
   "metadata": {},
   "source": [
    "# Imports"
   ]
  },
  {
   "cell_type": "code",
   "execution_count": null,
   "metadata": {},
   "outputs": [],
   "source": [
    "# Autoreload modules\n",
    "%load_ext autoreload\n",
    "%autoreload 2"
   ]
  },
  {
   "cell_type": "code",
   "execution_count": null,
   "metadata": {},
   "outputs": [],
   "source": [
    "#| export\n",
    "import numpy as np\n",
    "from scipy import sparse\n",
    "\n",
    "import torch\n",
    "\n",
    "import jax\n",
    "import lineax as lx"
   ]
  },
  {
   "cell_type": "markdown",
   "metadata": {},
   "source": [
    "# Code"
   ]
  },
  {
   "cell_type": "code",
   "execution_count": null,
   "metadata": {},
   "outputs": [],
   "source": [
    "#| export\n",
    "def setup_poisson_problem(N):\n",
    "    \"\"\"\n",
    "    Setup a 2D Poisson problem. Only square domains are supported.\n",
    "    \"\"\"\n",
    "\n",
    "    nx = ny = N + 1\n",
    "\n",
    "    # Initialize grid\n",
    "    x_grid, y_grid = np.meshgrid(\n",
    "        np.linspace(0, 1, nx), np.linspace(0, 1, ny), indexing=\"ij\"\n",
    "    )\n",
    "\n",
    "    # Initialize the value of the vorticity on the grid\n",
    "    w = 2 * np.pi ** 2 * np.sin(np.pi * x_grid) * np.sin(np.pi * y_grid)\n",
    "\n",
    "    exact_solution = np.sin(np.pi * x_grid) * np.sin(np.pi * y_grid)\n",
    "\n",
    "    return w, exact_solution, nx, ny, x_grid, y_grid"
   ]
  },
  {
   "cell_type": "code",
   "execution_count": null,
   "metadata": {},
   "outputs": [],
   "source": [
    "#| exporti\n",
    "SPARSE_ALGORITHM_DICT = {\n",
    "    \"base\": sparse.linalg.spsolve,\n",
    "    \"cg\": sparse.linalg.cg,\n",
    "    \"bicgstab\": sparse.linalg.bicgstab,\n",
    "}"
   ]
  },
  {
   "cell_type": "code",
   "execution_count": null,
   "metadata": {},
   "outputs": [],
   "source": [
    "#| export\n",
    "def solve_sparse_linear_system(A, b, algorithm=\"base\", **kwargs):\n",
    "    \"\"\"\n",
    "    Solve a sparse linear system using the specified algorithm.\n",
    "    \"\"\"\n",
    "\n",
    "    solver = SPARSE_ALGORITHM_DICT[algorithm]\n",
    "\n",
    "    if algorithm == \"base\" and len(b.shape) == 1:\n",
    "        b = sparse.csr_matrix(b[:, None])\n",
    "\n",
    "    soln = solver(A, b, **kwargs)\n",
    "\n",
    "    return soln if algorithm == \"base\" else soln[0]\n"
   ]
  },
  {
   "cell_type": "code",
   "execution_count": null,
   "metadata": {},
   "outputs": [],
   "source": [
    "#| exporti\n",
    "def lu_solve(A, b):\n",
    "    LU, pivots = torch.linalg.lu_factor(A)\n",
    "    return torch.linalg.lu_solve(LU, pivots, b)\n",
    "\n",
    "\n",
    "TORCH_ALGORITHM_DICT = {\n",
    "    \"base\": torch.linalg.solve,\n",
    "    \"lu_solve\": lu_solve,\n",
    "    \"lstsq\": torch.linalg.lstsq,\n",
    "}\n"
   ]
  },
  {
   "cell_type": "code",
   "execution_count": null,
   "metadata": {},
   "outputs": [],
   "source": [
    "#| export\n",
    "def solve_sparse_linear_system_pytorch(A, b, algorithm=\"base\", **kwargs):\n",
    "    \"\"\"\n",
    "    Solve a sparse linear system using the specified algorithm.\n",
    "    \"\"\"\n",
    "\n",
    "    solver = TORCH_ALGORITHM_DICT[algorithm]\n",
    "\n",
    "    out = solver(A, b, **kwargs)\n",
    "\n",
    "    if algorithm == \"lstsq\": out = out.solution\n",
    "\n",
    "    return out\n"
   ]
  },
  {
   "cell_type": "code",
   "execution_count": null,
   "metadata": {},
   "outputs": [],
   "source": [
    "#| exporti\n",
    "JAX_ALGORITHM_DICT = {\n",
    "    \"base\": jax.numpy.linalg.solve,\n",
    "    \"lineax_base\": lx.linear_solve,\n",
    "}"
   ]
  },
  {
   "cell_type": "code",
   "execution_count": null,
   "metadata": {},
   "outputs": [],
   "source": [
    "#| export\n",
    "def solve_sparse_linear_system_jax(A, b, algorithm=\"base\", **kwargs):\n",
    "    \"\"\"\n",
    "    Solve a sparse linear system using the specified algorithm.\n",
    "    \"\"\"\n",
    "\n",
    "    solver = JAX_ALGORITHM_DICT[algorithm]\n",
    "\n",
    "    if algorithm != \"base\":\n",
    "        A = lx.MatrixLinearOperator(A)\n",
    "        b = b.squeeze()\n",
    "    \n",
    "    out = solver(A, b, **kwargs)\n",
    "\n",
    "    if algorithm != \"base\": out = out.value[:, None]\n",
    "\n",
    "    return out\n"
   ]
  },
  {
   "cell_type": "code",
   "execution_count": null,
   "metadata": {},
   "outputs": [],
   "source": [
    "#| export\n",
    "def calculate_force(psi):\n",
    "    h = 1 / (psi.shape[0] - 1)\n",
    "    ny = psi.shape[1]\n",
    "    \n",
    "    return np.sum(\n",
    "        2 * psi[1:-1, ny - 1] -\n",
    "        5 * psi[1:-1, ny - 2] +\n",
    "        4 * psi[1:-1, ny - 3] -\n",
    "        psi[1:-1, ny - 4]\n",
    "    ) / h"
   ]
  },
  {
   "cell_type": "code",
   "execution_count": null,
   "metadata": {},
   "outputs": [],
   "source": [
    "#| export\n",
    "def calculate_velocity(psi):\n",
    "    h = 1 / (psi.shape[0] - 1)\n",
    "\n",
    "    nx = psi.shape[0]\n",
    "    \n",
    "    u = np.zeros_like(psi)\n",
    "    v = np.zeros_like(psi)\n",
    "    \n",
    "    u[1:-1, 1:-1] = (psi[1:-1, 2:] - psi[1:-1, :-2]) / (2 * h)\n",
    "    v[1:-1, 1:-1] = -(psi[2:, 1:-1] - psi[:-2, 1:-1]) / (2 * h)\n",
    "    \n",
    "    u[1:-1, -1] = np.sin(np.pi * np.arange(1, nx - 1) * h) ** 2\n",
    "    \n",
    "    return u, v "
   ]
  },
  {
   "cell_type": "markdown",
   "metadata": {},
   "source": [
    "# Export"
   ]
  },
  {
   "cell_type": "code",
   "execution_count": null,
   "metadata": {},
   "outputs": [],
   "source": [
    "#| hide\n",
    "import nbdev; nbdev.nbdev_export()"
   ]
  }
 ],
 "metadata": {
  "kernelspec": {
   "display_name": "python3",
   "language": "python",
   "name": "python3"
  }
 },
 "nbformat": 4,
 "nbformat_minor": 4
}
