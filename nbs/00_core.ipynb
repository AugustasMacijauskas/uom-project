{
 "cells": [
  {
   "cell_type": "markdown",
   "metadata": {},
   "source": [
    "# core\n",
    "\n",
    "> Core methods used later in the project"
   ]
  },
  {
   "cell_type": "code",
   "execution_count": null,
   "metadata": {},
   "outputs": [],
   "source": [
    "#| default_exp core"
   ]
  },
  {
   "cell_type": "markdown",
   "metadata": {},
   "source": [
    "# Imports"
   ]
  },
  {
   "cell_type": "code",
   "execution_count": null,
   "metadata": {},
   "outputs": [],
   "source": [
    "# Autoreload modules\n",
    "%load_ext autoreload\n",
    "%autoreload 2"
   ]
  },
  {
   "cell_type": "code",
   "execution_count": null,
   "metadata": {},
   "outputs": [],
   "source": [
    "#| export\n",
    "import numpy as np\n",
    "from scipy import sparse\n"
   ]
  },
  {
   "cell_type": "markdown",
   "metadata": {},
   "source": [
    "# Code"
   ]
  },
  {
   "cell_type": "code",
   "execution_count": null,
   "metadata": {},
   "outputs": [],
   "source": [
    "#| export\n",
    "def setup_poisson_problem(N):\n",
    "    \"\"\"\n",
    "    Setup a 2D Poisson problem. Only square domains are supported.\n",
    "    \"\"\"\n",
    "\n",
    "    nx = ny = N + 1\n",
    "\n",
    "    # Initialize grid\n",
    "    x_grid, y_grid = np.meshgrid(\n",
    "        np.linspace(0, 1, nx), np.linspace(0, 1, ny), indexing=\"ij\"\n",
    "    )\n",
    "\n",
    "    # Initialize the value of the vorticity on the grid\n",
    "    w = 2 * np.pi ** 2 * np.sin(np.pi * x_grid) * np.sin(np.pi * y_grid)\n",
    "\n",
    "    exact_solution = np.sin(np.pi * x_grid) * np.sin(np.pi * y_grid)\n",
    "\n",
    "    return w, exact_solution, nx, ny, x_grid, y_grid"
   ]
  },
  {
   "cell_type": "code",
   "execution_count": null,
   "metadata": {},
   "outputs": [],
   "source": [
    "#| export\n",
    "\n",
    "SPARSE_ALGORITHM_DICT = {\n",
    "    \"base\": sparse.linalg.spsolve,\n",
    "    \"cg\": sparse.linalg.cg,\n",
    "    \"bicgstab\": sparse.linalg.bicgstab,\n",
    "}\n",
    "\n",
    "def solve_sparse_linear_system(A, b, algorithm=\"base\"):\n",
    "    \"\"\"\n",
    "    Solve a sparse linear system using the specified algorithm.\n",
    "    \"\"\"\n",
    "\n",
    "    solver = SPARSE_ALGORITHM_DICT[algorithm]\n",
    "\n",
    "    if algorithm == \"base\": b = sparse.csr_matrix(b[:, None])\n",
    "\n",
    "    soln = solver(A, b)\n",
    "\n",
    "    return soln if algorithm == \"base\" else soln[0]\n"
   ]
  },
  {
   "cell_type": "markdown",
   "metadata": {},
   "source": [
    "# Export"
   ]
  },
  {
   "cell_type": "code",
   "execution_count": null,
   "metadata": {},
   "outputs": [],
   "source": [
    "#| hide\n",
    "import nbdev; nbdev.nbdev_export()"
   ]
  }
 ],
 "metadata": {
  "kernelspec": {
   "display_name": "python3",
   "language": "python",
   "name": "python3"
  }
 },
 "nbformat": 4,
 "nbformat_minor": 4
}
